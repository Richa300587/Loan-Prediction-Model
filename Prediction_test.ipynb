{
  "nbformat": 4,
  "nbformat_minor": 0,
  "metadata": {
    "colab": {
      "provenance": []
    },
    "kernelspec": {
      "name": "python3",
      "display_name": "Python 3"
    },
    "language_info": {
      "name": "python"
    }
  },
  "cells": [
    {
      "cell_type": "markdown",
      "source": [
        "First i want to find path of saved model, call all custom estimators and text file containing all required packages list and install them if do not exist.\n",
        "As i am using my drive as my cloud storage so i will mount my google drive"
      ],
      "metadata": {
        "id": "fKfB9BwAnUN7"
      }
    },
    {
      "cell_type": "code",
      "source": [
        "from google.colab import drive\n",
        "import sys\n",
        "drive.mount('/content/drive')\n",
        "sys.path.append('/content/drive/MyDrive/Loanmodel_custom_modules')\n",
        "import confi as confi\n",
        "import preprocessing as lp\n",
        "import prediction_pipeline as prediction\n",
        "#No extracting path having all saved artifacts and my test data for prediction that i will use in my custom estimators to make pipeline\n",
        "p=confi.artifact_path"
      ],
      "metadata": {
        "colab": {
          "base_uri": "https://localhost:8080/",
          "height": 312
        },
        "id": "DSPCXtQ7pMYN",
        "outputId": "d02a9c9b-f19f-4d0d-dfa7-d803ff4493ce"
      },
      "execution_count": 1,
      "outputs": [
        {
          "output_type": "stream",
          "name": "stdout",
          "text": [
            "Mounted at /content/drive\n",
            "Drive already mounted at /content/drive; to attempt to forcibly remount, call drive.mount(\"/content/drive\", force_remount=True).\n",
            "numpy\n",
            "pandas\n",
            "pickle\n",
            "sys\n",
            "Path is not installed. Installing...\n",
            "os\n",
            "seaborn\n",
            "matplotlib.pyplot\n",
            "scipy.stats\n",
            "sklearn.preprocessing\n",
            "warnings\n",
            "IPython.core.display\n",
            "category_encoders is not installed. Installing...\n",
            "pipeline is not installed. Installing...\n"
          ]
        },
        {
          "output_type": "display_data",
          "data": {
            "text/plain": [
              "<IPython.core.display.HTML object>"
            ],
            "text/html": [
              "<style>.container { width:80% !important; }</style>"
            ]
          },
          "metadata": {}
        },
        {
          "output_type": "stream",
          "name": "stdout",
          "text": [
            "Drive already mounted at /content/drive; to attempt to forcibly remount, call drive.mount(\"/content/drive\", force_remount=True).\n"
          ]
        },
        {
          "output_type": "display_data",
          "data": {
            "text/plain": [
              "<IPython.core.display.HTML object>"
            ],
            "text/html": [
              "<style>.container { width:80% !important; }</style>"
            ]
          },
          "metadata": {}
        }
      ]
    },
    {
      "cell_type": "code",
      "source": [
        "import numpy as np\n",
        "import pandas as pd\n",
        "import pickle\n",
        "import sys\n",
        "from pathlib import Path\n",
        "import os\n",
        "import seaborn as sns\n",
        "import matplotlib.pyplot as plt\n",
        "from scipy.stats import chi2_contingency\n",
        "from sklearn.preprocessing import OneHotEncoder\n",
        "from sklearn.preprocessing import MinMaxScaler\n",
        "pd.set_option('display.max_columns', 1500)\n",
        "# set seed for reproducibility\n",
        "np.random.seed(123)\n",
        "\n",
        "\n",
        "import warnings\n",
        "warnings.filterwarnings('ignore')\n",
        "\n",
        "#Extend cell width\n",
        "from IPython.core.display import display, HTML\n",
        "display(HTML(\"<style>.container { width:80% !important; }</style>\"))\n",
        "from category_encoders import TargetEncoder\n",
        "from sklearn.pipeline import Pipeline"
      ],
      "metadata": {
        "colab": {
          "base_uri": "https://localhost:8080/",
          "height": 17
        },
        "id": "ZJq6PrW47r2e",
        "outputId": "4cc91ba7-7e1e-4c96-845d-c7493bce6d97"
      },
      "execution_count": 2,
      "outputs": [
        {
          "output_type": "display_data",
          "data": {
            "text/plain": [
              "<IPython.core.display.HTML object>"
            ],
            "text/html": [
              "<style>.container { width:80% !important; }</style>"
            ]
          },
          "metadata": {}
        }
      ]
    },
    {
      "cell_type": "code",
      "source": [
        "data=pd.read_csv(confi.test_path)"
      ],
      "metadata": {
        "id": "R1Hp_1HsZABo"
      },
      "execution_count": 3,
      "outputs": []
    },
    {
      "cell_type": "code",
      "source": [
        "t=prediction.prediction()\n",
        "result=t.predict_function(data)"
      ],
      "metadata": {
        "id": "bmeqPBVkZJY9",
        "colab": {
          "base_uri": "https://localhost:8080/"
        },
        "outputId": "6a025d3f-b742-43f1-bd41-6e152b3b68ac"
      },
      "execution_count": 4,
      "outputs": [
        {
          "output_type": "stream",
          "name": "stdout",
          "text": [
            "success\n",
            "success\n"
          ]
        }
      ]
    },
    {
      "cell_type": "code",
      "source": [
        "print(confi.test_path)"
      ],
      "metadata": {
        "colab": {
          "base_uri": "https://localhost:8080/"
        },
        "id": "n-sfutVDZTq3",
        "outputId": "948f717a-fdc6-4cda-acd4-b51d6f78aeed"
      },
      "execution_count": 6,
      "outputs": [
        {
          "output_type": "stream",
          "name": "stdout",
          "text": [
            "/content/drive/MyDrive/Laon_prediction_model/loan_test.csv\n"
          ]
        }
      ]
    },
    {
      "cell_type": "code",
      "source": [
        "exact=pd.read_csv('/content/drive/MyDrive/Laon_prediction_model/y_test.csv').replace({'CHGOFF':1,'P I F':0}).astype(float)"
      ],
      "metadata": {
        "id": "yw-EeB_NN1QY"
      },
      "execution_count": 10,
      "outputs": []
    },
    {
      "cell_type": "code",
      "source": [
        "from sklearn.metrics import f1_score\n",
        "score=f1_score(exact,result)"
      ],
      "metadata": {
        "id": "iXzy0tAiMRAq"
      },
      "execution_count": 11,
      "outputs": []
    },
    {
      "cell_type": "code",
      "source": [
        "print(score)"
      ],
      "metadata": {
        "colab": {
          "base_uri": "https://localhost:8080/"
        },
        "id": "C6_lnGJaPS60",
        "outputId": "2b0f03bd-57f7-4c88-e5e9-5342ce643f99"
      },
      "execution_count": 12,
      "outputs": [
        {
          "output_type": "stream",
          "name": "stdout",
          "text": [
            "0.43766342921180434\n"
          ]
        }
      ]
    },
    {
      "cell_type": "code",
      "source": [
        "np. unique(result, return_counts=True)"
      ],
      "metadata": {
        "colab": {
          "base_uri": "https://localhost:8080/"
        },
        "id": "rkmcIdJ8PmfB",
        "outputId": "0bb1f95b-ca99-41f5-f9c8-2396664ee799"
      },
      "execution_count": 15,
      "outputs": [
        {
          "output_type": "execute_result",
          "data": {
            "text/plain": [
              "(array([0., 1.]), array([146986,  14505]))"
            ]
          },
          "metadata": {},
          "execution_count": 15
        }
      ]
    },
    {
      "cell_type": "code",
      "source": [
        "from sklearn.metrics import confusion_matrix\n",
        "confusion_matrix(exact,result)"
      ],
      "metadata": {
        "colab": {
          "base_uri": "https://localhost:8080/"
        },
        "id": "89iY5dqXQoyn",
        "outputId": "07b550ea-8b1c-4b57-d3c0-e2aa87694b78"
      },
      "execution_count": 16,
      "outputs": [
        {
          "output_type": "execute_result",
          "data": {
            "text/plain": [
              "array([[128032,   5132],\n",
              "       [ 18954,   9373]])"
            ]
          },
          "metadata": {},
          "execution_count": 16
        }
      ]
    },
    {
      "cell_type": "code",
      "source": [
        "from sklearn.metrics import accuracy_score\n",
        "accuracy_score(exact,result)"
      ],
      "metadata": {
        "colab": {
          "base_uri": "https://localhost:8080/"
        },
        "id": "_AhUBKMJRJyV",
        "outputId": "57effadf-67d3-40c5-ca78-104b6c3b345f"
      },
      "execution_count": 18,
      "outputs": [
        {
          "output_type": "execute_result",
          "data": {
            "text/plain": [
              "0.8508523694818906"
            ]
          },
          "metadata": {},
          "execution_count": 18
        }
      ]
    }
  ]
}