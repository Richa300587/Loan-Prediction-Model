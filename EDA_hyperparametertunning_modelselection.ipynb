{
  "cells": [
    {
      "cell_type": "markdown",
      "metadata": {
        "id": "a0c9b618"
      },
      "source": [
        "## Preparation\n",
        "Preparing the data set "
      ],
      "id": "a0c9b618"
    },
    {
      "cell_type": "markdown",
      "metadata": {
        "id": "cee2c254"
      },
      "source": [
        "#Import packages and Load data"
      ],
      "id": "cee2c254"
    },
    {
      "cell_type": "code",
      "execution_count": null,
      "metadata": {
        "colab": {
          "base_uri": "https://localhost:8080/"
        },
        "id": "Y_g70VzUfuTp",
        "outputId": "8d406baf-3a14-4d49-e7f1-b17e1b4303b3"
      },
      "outputs": [
        {
          "name": "stdout",
          "output_type": "stream",
          "text": [
            "Drive already mounted at /content/drive; to attempt to forcibly remount, call drive.mount(\"/content/drive\", force_remount=True).\n"
          ]
        }
      ],
      "source": [
        "from google.colab import drive\n",
        "import sys\n",
        "drive.mount('/content/drive')\n",
        "p='/content/drive/MyDrive/Laon_prediction_model/'\n",
        "sys.path.append('/content/drive/MyDrive/Loanmodel_custom_modules')\n",
        "#basepath  = '/content/drive/MyDrive/MachineLearning/Labs/Labs'\n",
        "#sys.path.append('/content/drive/MyDrive/MachineLearning/Labs/Labs/Customfunctions')"
      ],
      "id": "Y_g70VzUfuTp"
    },
    {
      "cell_type": "code",
      "execution_count": null,
      "metadata": {
        "colab": {
          "base_uri": "https://localhost:8080/",
          "height": 538
        },
        "id": "XcVc3YqJ6uOG",
        "outputId": "6e480a79-1d6f-4e17-ad4d-92da026cebf5"
      },
      "outputs": [
        {
          "name": "stdout",
          "output_type": "stream",
          "text": [
            "Drive already mounted at /content/drive; to attempt to forcibly remount, call drive.mount(\"/content/drive\", force_remount=True).\n",
            "numpy\n",
            "pandas\n",
            "pickle\n",
            "sys\n",
            "Path is not installed. Installing...\n",
            "os\n",
            "seaborn\n",
            "matplotlib.pyplot\n",
            "scipy.stats\n",
            "sklearn.preprocessing\n",
            "warnings\n",
            "IPython.core.display\n",
            "category_encoders\n",
            "pipeline\n"
          ]
        },
        {
          "data": {
            "text/html": [
              "<style>.container { width:80% !important; }</style>"
            ],
            "text/plain": [
              "<IPython.core.display.HTML object>"
            ]
          },
          "metadata": {},
          "output_type": "display_data"
        },
        {
          "name": "stdout",
          "output_type": "stream",
          "text": [
            "Drive already mounted at /content/drive; to attempt to forcibly remount, call drive.mount(\"/content/drive\", force_remount=True).\n",
            "numpy\n",
            "pandas\n",
            "pickle\n",
            "sys\n",
            "Path is not installed. Installing...\n",
            "os\n",
            "seaborn\n",
            "matplotlib.pyplot\n",
            "scipy.stats\n",
            "sklearn.preprocessing\n",
            "warnings\n",
            "IPython.core.display\n",
            "category_encoders\n",
            "pipeline\n"
          ]
        },
        {
          "data": {
            "text/html": [
              "<style>.container { width:80% !important; }</style>"
            ],
            "text/plain": [
              "<IPython.core.display.HTML object>"
            ]
          },
          "metadata": {},
          "output_type": "display_data"
        }
      ],
      "source": [
        "import loan_preprocessing as lp\n",
        "import confi as confi\n",
        "import data_processing_pipeline as retrain"
      ],
      "id": "XcVc3YqJ6uOG"
    },
    {
      "cell_type": "code",
      "execution_count": null,
      "metadata": {
        "colab": {
          "base_uri": "https://localhost:8080/",
          "height": 17
        },
        "id": "BbpWci8u6m8w",
        "outputId": "b46749ea-8277-4d0c-d6e7-0dbd20ac161e"
      },
      "outputs": [
        {
          "data": {
            "text/html": [
              "<style>.container { width:80% !important; }</style>"
            ],
            "text/plain": [
              "<IPython.core.display.HTML object>"
            ]
          },
          "metadata": {},
          "output_type": "display_data"
        }
      ],
      "source": [
        "import numpy as np\n",
        "import pandas as pd\n",
        "import pickle\n",
        "import sys\n",
        "from pathlib import Path\n",
        "import os\n",
        "import seaborn as sns\n",
        "import matplotlib.pyplot as plt\n",
        "from scipy.stats import chi2_contingency\n",
        "from sklearn.preprocessing import OneHotEncoder\n",
        "from sklearn.preprocessing import MinMaxScaler\n",
        "pd.set_option('display.max_columns', 1500)\n",
        "# set seed for reproducibility\n",
        "np.random.seed(123)\n",
        "\n",
        "\n",
        "import warnings\n",
        "warnings.filterwarnings('ignore')\n",
        "\n",
        "#Extend cell width\n",
        "from IPython.core.display import display, HTML\n",
        "display(HTML(\"<style>.container { width:80% !important; }</style>\"))"
      ],
      "id": "BbpWci8u6m8w"
    },
    {
      "cell_type": "code",
      "execution_count": null,
      "metadata": {
        "id": "qF9mlXHOLmP8"
      },
      "outputs": [],
      "source": [
        "df =pd.read_csv(p+'SBA_loans_project_2.zip').dropna(subset=['MIS_Status'])\n",
        "y=df.MIS_Status"
      ],
      "id": "qF9mlXHOLmP8"
    },
    {
      "cell_type": "code",
      "execution_count": null,
      "metadata": {
        "id": "g5gv6liVOFbx"
      },
      "outputs": [],
      "source": [
        "from sklearn.model_selection import train_test_split\n",
        "data,test=train_test_split(df,test_size=.2,stratify=y,random_state=1)"
      ],
      "id": "g5gv6liVOFbx"
    },
    {
      "cell_type": "code",
      "execution_count": null,
      "metadata": {
        "id": "ce0IrnlLO_HG"
      },
      "outputs": [],
      "source": [
        "test.drop(columns=['MIS_Status']).to_csv(p+'loan_test.csv',index=False)\n",
        "test.MIS_Status.to_csv(p+'y_test.csv',index=False)\n",
        "data.to_csv(p+'loan_train.csv',index=False)\n"
      ],
      "id": "ce0IrnlLO_HG"
    },
    {
      "cell_type": "code",
      "execution_count": null,
      "metadata": {
        "colab": {
          "base_uri": "https://localhost:8080/"
        },
        "id": "2301a5ed",
        "outputId": "b3cf109f-dda4-4656-f16f-6a570433be62"
      },
      "outputs": [
        {
          "name": "stdout",
          "output_type": "stream",
          "text": [
            "Data shape: (645960, 19)\n"
          ]
        }
      ],
      "source": [
        "print(\"Data shape:\", data.shape)"
      ],
      "id": "2301a5ed"
    },
    {
      "cell_type": "code",
      "execution_count": null,
      "metadata": {
        "colab": {
          "base_uri": "https://localhost:8080/"
        },
        "id": "aWxEQGsYgM-c",
        "outputId": "80e9f81e-2de2-4e2a-d058-551ab4ba4164"
      },
      "outputs": [
        {
          "data": {
            "text/plain": [
              "City                  object\n",
              "State                 object\n",
              "Zip                    int64\n",
              "Bank                  object\n",
              "BankState             object\n",
              "NAICS                  int64\n",
              "NoEmp                  int64\n",
              "NewExist             float64\n",
              "CreateJob              int64\n",
              "RetainedJob            int64\n",
              "FranchiseCode          int64\n",
              "UrbanRural             int64\n",
              "RevLineCr             object\n",
              "LowDoc                object\n",
              "DisbursementGross     object\n",
              "BalanceGross          object\n",
              "GrAppv                object\n",
              "SBA_Appv              object\n",
              "MIS_Status            object\n",
              "dtype: object"
            ]
          },
          "execution_count": 11,
          "metadata": {},
          "output_type": "execute_result"
        }
      ],
      "source": [
        "data.dtypes"
      ],
      "id": "aWxEQGsYgM-c"
    },
    {
      "cell_type": "markdown",
      "metadata": {
        "id": "ab8b4aea"
      },
      "source": [
        "**Review dataset**"
      ],
      "id": "ab8b4aea"
    },
    {
      "cell_type": "code",
      "execution_count": null,
      "metadata": {
        "colab": {
          "base_uri": "https://localhost:8080/",
          "height": 300
        },
        "id": "r0c3CozzgFj9",
        "outputId": "93a5ae3b-91e4-4d54-df51-c5bcf85563c5"
      },
      "outputs": [
        {
          "data": {
            "text/html": [
              "\n",
              "  <div id=\"df-c264c37d-7d4a-4575-901b-a942bf5bccdc\">\n",
              "    <div class=\"colab-df-container\">\n",
              "      <div>\n",
              "<style scoped>\n",
              "    .dataframe tbody tr th:only-of-type {\n",
              "        vertical-align: middle;\n",
              "    }\n",
              "\n",
              "    .dataframe tbody tr th {\n",
              "        vertical-align: top;\n",
              "    }\n",
              "\n",
              "    .dataframe thead th {\n",
              "        text-align: right;\n",
              "    }\n",
              "</style>\n",
              "<table border=\"1\" class=\"dataframe\">\n",
              "  <thead>\n",
              "    <tr style=\"text-align: right;\">\n",
              "      <th></th>\n",
              "      <th>Zip</th>\n",
              "      <th>NAICS</th>\n",
              "      <th>NoEmp</th>\n",
              "      <th>NewExist</th>\n",
              "      <th>CreateJob</th>\n",
              "      <th>RetainedJob</th>\n",
              "      <th>FranchiseCode</th>\n",
              "      <th>UrbanRural</th>\n",
              "    </tr>\n",
              "  </thead>\n",
              "  <tbody>\n",
              "    <tr>\n",
              "      <th>count</th>\n",
              "      <td>645960.000000</td>\n",
              "      <td>645960.000000</td>\n",
              "      <td>645960.000000</td>\n",
              "      <td>645868.000000</td>\n",
              "      <td>645960.000000</td>\n",
              "      <td>645960.000000</td>\n",
              "      <td>645960.000000</td>\n",
              "      <td>645960.000000</td>\n",
              "    </tr>\n",
              "    <tr>\n",
              "      <th>mean</th>\n",
              "      <td>53866.639422</td>\n",
              "      <td>398452.690047</td>\n",
              "      <td>11.457014</td>\n",
              "      <td>1.280545</td>\n",
              "      <td>8.587589</td>\n",
              "      <td>10.959290</td>\n",
              "      <td>2758.433535</td>\n",
              "      <td>0.757629</td>\n",
              "    </tr>\n",
              "    <tr>\n",
              "      <th>std</th>\n",
              "      <td>31177.128286</td>\n",
              "      <td>263308.203191</td>\n",
              "      <td>76.419235</td>\n",
              "      <td>0.451812</td>\n",
              "      <td>239.650547</td>\n",
              "      <td>240.038407</td>\n",
              "      <td>12772.408161</td>\n",
              "      <td>0.646782</td>\n",
              "    </tr>\n",
              "    <tr>\n",
              "      <th>min</th>\n",
              "      <td>0.000000</td>\n",
              "      <td>0.000000</td>\n",
              "      <td>0.000000</td>\n",
              "      <td>0.000000</td>\n",
              "      <td>0.000000</td>\n",
              "      <td>0.000000</td>\n",
              "      <td>0.000000</td>\n",
              "      <td>0.000000</td>\n",
              "    </tr>\n",
              "    <tr>\n",
              "      <th>25%</th>\n",
              "      <td>27610.000000</td>\n",
              "      <td>235210.000000</td>\n",
              "      <td>2.000000</td>\n",
              "      <td>1.000000</td>\n",
              "      <td>0.000000</td>\n",
              "      <td>0.000000</td>\n",
              "      <td>1.000000</td>\n",
              "      <td>0.000000</td>\n",
              "    </tr>\n",
              "    <tr>\n",
              "      <th>50%</th>\n",
              "      <td>55416.000000</td>\n",
              "      <td>445310.000000</td>\n",
              "      <td>4.000000</td>\n",
              "      <td>1.000000</td>\n",
              "      <td>0.000000</td>\n",
              "      <td>1.000000</td>\n",
              "      <td>1.000000</td>\n",
              "      <td>1.000000</td>\n",
              "    </tr>\n",
              "    <tr>\n",
              "      <th>75%</th>\n",
              "      <td>83707.000000</td>\n",
              "      <td>561730.000000</td>\n",
              "      <td>10.000000</td>\n",
              "      <td>2.000000</td>\n",
              "      <td>1.000000</td>\n",
              "      <td>4.000000</td>\n",
              "      <td>1.000000</td>\n",
              "      <td>1.000000</td>\n",
              "    </tr>\n",
              "    <tr>\n",
              "      <th>max</th>\n",
              "      <td>99999.000000</td>\n",
              "      <td>928120.000000</td>\n",
              "      <td>9999.000000</td>\n",
              "      <td>2.000000</td>\n",
              "      <td>8800.000000</td>\n",
              "      <td>9500.000000</td>\n",
              "      <td>99999.000000</td>\n",
              "      <td>2.000000</td>\n",
              "    </tr>\n",
              "  </tbody>\n",
              "</table>\n",
              "</div>\n",
              "      <button class=\"colab-df-convert\" onclick=\"convertToInteractive('df-c264c37d-7d4a-4575-901b-a942bf5bccdc')\"\n",
              "              title=\"Convert this dataframe to an interactive table.\"\n",
              "              style=\"display:none;\">\n",
              "        \n",
              "  <svg xmlns=\"http://www.w3.org/2000/svg\" height=\"24px\"viewBox=\"0 0 24 24\"\n",
              "       width=\"24px\">\n",
              "    <path d=\"M0 0h24v24H0V0z\" fill=\"none\"/>\n",
              "    <path d=\"M18.56 5.44l.94 2.06.94-2.06 2.06-.94-2.06-.94-.94-2.06-.94 2.06-2.06.94zm-11 1L8.5 8.5l.94-2.06 2.06-.94-2.06-.94L8.5 2.5l-.94 2.06-2.06.94zm10 10l.94 2.06.94-2.06 2.06-.94-2.06-.94-.94-2.06-.94 2.06-2.06.94z\"/><path d=\"M17.41 7.96l-1.37-1.37c-.4-.4-.92-.59-1.43-.59-.52 0-1.04.2-1.43.59L10.3 9.45l-7.72 7.72c-.78.78-.78 2.05 0 2.83L4 21.41c.39.39.9.59 1.41.59.51 0 1.02-.2 1.41-.59l7.78-7.78 2.81-2.81c.8-.78.8-2.07 0-2.86zM5.41 20L4 18.59l7.72-7.72 1.47 1.35L5.41 20z\"/>\n",
              "  </svg>\n",
              "      </button>\n",
              "      \n",
              "  <style>\n",
              "    .colab-df-container {\n",
              "      display:flex;\n",
              "      flex-wrap:wrap;\n",
              "      gap: 12px;\n",
              "    }\n",
              "\n",
              "    .colab-df-convert {\n",
              "      background-color: #E8F0FE;\n",
              "      border: none;\n",
              "      border-radius: 50%;\n",
              "      cursor: pointer;\n",
              "      display: none;\n",
              "      fill: #1967D2;\n",
              "      height: 32px;\n",
              "      padding: 0 0 0 0;\n",
              "      width: 32px;\n",
              "    }\n",
              "\n",
              "    .colab-df-convert:hover {\n",
              "      background-color: #E2EBFA;\n",
              "      box-shadow: 0px 1px 2px rgba(60, 64, 67, 0.3), 0px 1px 3px 1px rgba(60, 64, 67, 0.15);\n",
              "      fill: #174EA6;\n",
              "    }\n",
              "\n",
              "    [theme=dark] .colab-df-convert {\n",
              "      background-color: #3B4455;\n",
              "      fill: #D2E3FC;\n",
              "    }\n",
              "\n",
              "    [theme=dark] .colab-df-convert:hover {\n",
              "      background-color: #434B5C;\n",
              "      box-shadow: 0px 1px 3px 1px rgba(0, 0, 0, 0.15);\n",
              "      filter: drop-shadow(0px 1px 2px rgba(0, 0, 0, 0.3));\n",
              "      fill: #FFFFFF;\n",
              "    }\n",
              "  </style>\n",
              "\n",
              "      <script>\n",
              "        const buttonEl =\n",
              "          document.querySelector('#df-c264c37d-7d4a-4575-901b-a942bf5bccdc button.colab-df-convert');\n",
              "        buttonEl.style.display =\n",
              "          google.colab.kernel.accessAllowed ? 'block' : 'none';\n",
              "\n",
              "        async function convertToInteractive(key) {\n",
              "          const element = document.querySelector('#df-c264c37d-7d4a-4575-901b-a942bf5bccdc');\n",
              "          const dataTable =\n",
              "            await google.colab.kernel.invokeFunction('convertToInteractive',\n",
              "                                                     [key], {});\n",
              "          if (!dataTable) return;\n",
              "\n",
              "          const docLinkHtml = 'Like what you see? Visit the ' +\n",
              "            '<a target=\"_blank\" href=https://colab.research.google.com/notebooks/data_table.ipynb>data table notebook</a>'\n",
              "            + ' to learn more about interactive tables.';\n",
              "          element.innerHTML = '';\n",
              "          dataTable['output_type'] = 'display_data';\n",
              "          await google.colab.output.renderOutput(dataTable, element);\n",
              "          const docLink = document.createElement('div');\n",
              "          docLink.innerHTML = docLinkHtml;\n",
              "          element.appendChild(docLink);\n",
              "        }\n",
              "      </script>\n",
              "    </div>\n",
              "  </div>\n",
              "  "
            ],
            "text/plain": [
              "                 Zip          NAICS          NoEmp       NewExist  \\\n",
              "count  645960.000000  645960.000000  645960.000000  645868.000000   \n",
              "mean    53866.639422  398452.690047      11.457014       1.280545   \n",
              "std     31177.128286  263308.203191      76.419235       0.451812   \n",
              "min         0.000000       0.000000       0.000000       0.000000   \n",
              "25%     27610.000000  235210.000000       2.000000       1.000000   \n",
              "50%     55416.000000  445310.000000       4.000000       1.000000   \n",
              "75%     83707.000000  561730.000000      10.000000       2.000000   \n",
              "max     99999.000000  928120.000000    9999.000000       2.000000   \n",
              "\n",
              "           CreateJob    RetainedJob  FranchiseCode     UrbanRural  \n",
              "count  645960.000000  645960.000000  645960.000000  645960.000000  \n",
              "mean        8.587589      10.959290    2758.433535       0.757629  \n",
              "std       239.650547     240.038407   12772.408161       0.646782  \n",
              "min         0.000000       0.000000       0.000000       0.000000  \n",
              "25%         0.000000       0.000000       1.000000       0.000000  \n",
              "50%         0.000000       1.000000       1.000000       1.000000  \n",
              "75%         1.000000       4.000000       1.000000       1.000000  \n",
              "max      8800.000000    9500.000000   99999.000000       2.000000  "
            ]
          },
          "execution_count": 12,
          "metadata": {},
          "output_type": "execute_result"
        }
      ],
      "source": [
        "#describe commands give a description of numeric columns only\n",
        "data.describe()"
      ],
      "id": "r0c3CozzgFj9"
    },
    {
      "cell_type": "code",
      "execution_count": null,
      "metadata": {
        "colab": {
          "base_uri": "https://localhost:8080/",
          "height": 757
        },
        "id": "1l7XcmQ6LmQB",
        "outputId": "14e26b43-2e76-47d4-fa3b-d74bccacf6c8"
      },
      "outputs": [
        {
          "data": {
            "text/html": [
              "\n",
              "  <div id=\"df-2cf1bb9c-2261-4ab5-b140-9bafb8a4880d\">\n",
              "    <div class=\"colab-df-container\">\n",
              "      <div>\n",
              "<style scoped>\n",
              "    .dataframe tbody tr th:only-of-type {\n",
              "        vertical-align: middle;\n",
              "    }\n",
              "\n",
              "    .dataframe tbody tr th {\n",
              "        vertical-align: top;\n",
              "    }\n",
              "\n",
              "    .dataframe thead th {\n",
              "        text-align: right;\n",
              "    }\n",
              "</style>\n",
              "<table border=\"1\" class=\"dataframe\">\n",
              "  <thead>\n",
              "    <tr style=\"text-align: right;\">\n",
              "      <th></th>\n",
              "      <th>City</th>\n",
              "      <th>State</th>\n",
              "      <th>Zip</th>\n",
              "      <th>Bank</th>\n",
              "      <th>BankState</th>\n",
              "      <th>NAICS</th>\n",
              "      <th>NoEmp</th>\n",
              "      <th>NewExist</th>\n",
              "      <th>CreateJob</th>\n",
              "      <th>RetainedJob</th>\n",
              "      <th>FranchiseCode</th>\n",
              "      <th>UrbanRural</th>\n",
              "      <th>RevLineCr</th>\n",
              "      <th>LowDoc</th>\n",
              "      <th>DisbursementGross</th>\n",
              "      <th>BalanceGross</th>\n",
              "      <th>GrAppv</th>\n",
              "      <th>SBA_Appv</th>\n",
              "      <th>MIS_Status</th>\n",
              "    </tr>\n",
              "  </thead>\n",
              "  <tbody>\n",
              "    <tr>\n",
              "      <th>274390</th>\n",
              "      <td>COVENTRY</td>\n",
              "      <td>RI</td>\n",
              "      <td>2816</td>\n",
              "      <td>CITIZENS BANK NATL ASSOC</td>\n",
              "      <td>RI</td>\n",
              "      <td>235510</td>\n",
              "      <td>6</td>\n",
              "      <td>1.0</td>\n",
              "      <td>0</td>\n",
              "      <td>0</td>\n",
              "      <td>1</td>\n",
              "      <td>0</td>\n",
              "      <td>0</td>\n",
              "      <td>N</td>\n",
              "      <td>$50,000.00</td>\n",
              "      <td>$0.00</td>\n",
              "      <td>$50,000.00</td>\n",
              "      <td>$25,000.00</td>\n",
              "      <td>P I F</td>\n",
              "    </tr>\n",
              "    <tr>\n",
              "      <th>654005</th>\n",
              "      <td>LOS ANGELES</td>\n",
              "      <td>CA</td>\n",
              "      <td>90014</td>\n",
              "      <td>BANK OF AMERICA CALIFORNIA N.A</td>\n",
              "      <td>CA</td>\n",
              "      <td>0</td>\n",
              "      <td>1</td>\n",
              "      <td>1.0</td>\n",
              "      <td>0</td>\n",
              "      <td>0</td>\n",
              "      <td>1</td>\n",
              "      <td>0</td>\n",
              "      <td>0</td>\n",
              "      <td>N</td>\n",
              "      <td>$20,000.00</td>\n",
              "      <td>$0.00</td>\n",
              "      <td>$20,000.00</td>\n",
              "      <td>$10,000.00</td>\n",
              "      <td>P I F</td>\n",
              "    </tr>\n",
              "    <tr>\n",
              "      <th>498404</th>\n",
              "      <td>NORTH HOLLYWOOD</td>\n",
              "      <td>CA</td>\n",
              "      <td>91605</td>\n",
              "      <td>MISSION VALLEY BANK</td>\n",
              "      <td>CA</td>\n",
              "      <td>812320</td>\n",
              "      <td>10</td>\n",
              "      <td>1.0</td>\n",
              "      <td>3</td>\n",
              "      <td>10</td>\n",
              "      <td>1</td>\n",
              "      <td>1</td>\n",
              "      <td>T</td>\n",
              "      <td>N</td>\n",
              "      <td>$140,275.00</td>\n",
              "      <td>$0.00</td>\n",
              "      <td>$75,000.00</td>\n",
              "      <td>$37,500.00</td>\n",
              "      <td>P I F</td>\n",
              "    </tr>\n",
              "    <tr>\n",
              "      <th>725094</th>\n",
              "      <td>WILLISTON</td>\n",
              "      <td>VT</td>\n",
              "      <td>5495</td>\n",
              "      <td>KEYBANK NATIONAL ASSOCIATION</td>\n",
              "      <td>VT</td>\n",
              "      <td>441110</td>\n",
              "      <td>20</td>\n",
              "      <td>1.0</td>\n",
              "      <td>0</td>\n",
              "      <td>0</td>\n",
              "      <td>1</td>\n",
              "      <td>0</td>\n",
              "      <td>N</td>\n",
              "      <td>N</td>\n",
              "      <td>$300,000.00</td>\n",
              "      <td>$0.00</td>\n",
              "      <td>$300,000.00</td>\n",
              "      <td>$255,000.00</td>\n",
              "      <td>P I F</td>\n",
              "    </tr>\n",
              "    <tr>\n",
              "      <th>665779</th>\n",
              "      <td>FRESNO</td>\n",
              "      <td>CA</td>\n",
              "      <td>93720</td>\n",
              "      <td>CALIFORNIA BANK &amp; TRUST</td>\n",
              "      <td>CA</td>\n",
              "      <td>0</td>\n",
              "      <td>2</td>\n",
              "      <td>1.0</td>\n",
              "      <td>2</td>\n",
              "      <td>0</td>\n",
              "      <td>1</td>\n",
              "      <td>0</td>\n",
              "      <td>0</td>\n",
              "      <td>N</td>\n",
              "      <td>$55,000.00</td>\n",
              "      <td>$0.00</td>\n",
              "      <td>$55,000.00</td>\n",
              "      <td>$44,000.00</td>\n",
              "      <td>P I F</td>\n",
              "    </tr>\n",
              "    <tr>\n",
              "      <th>319925</th>\n",
              "      <td>IRENE</td>\n",
              "      <td>SD</td>\n",
              "      <td>57037</td>\n",
              "      <td>WELLS FARGO BANK NATL ASSOC</td>\n",
              "      <td>SD</td>\n",
              "      <td>511110</td>\n",
              "      <td>3</td>\n",
              "      <td>1.0</td>\n",
              "      <td>0</td>\n",
              "      <td>0</td>\n",
              "      <td>1</td>\n",
              "      <td>0</td>\n",
              "      <td>N</td>\n",
              "      <td>Y</td>\n",
              "      <td>$31,000.00</td>\n",
              "      <td>$0.00</td>\n",
              "      <td>$31,000.00</td>\n",
              "      <td>$24,800.00</td>\n",
              "      <td>P I F</td>\n",
              "    </tr>\n",
              "    <tr>\n",
              "      <th>246108</th>\n",
              "      <td>SANTA CRUZ</td>\n",
              "      <td>CA</td>\n",
              "      <td>95060</td>\n",
              "      <td>RABOBANK, NATIONAL ASSOCIATION</td>\n",
              "      <td>CA</td>\n",
              "      <td>0</td>\n",
              "      <td>10</td>\n",
              "      <td>1.0</td>\n",
              "      <td>0</td>\n",
              "      <td>0</td>\n",
              "      <td>1</td>\n",
              "      <td>0</td>\n",
              "      <td>N</td>\n",
              "      <td>Y</td>\n",
              "      <td>$35,000.00</td>\n",
              "      <td>$0.00</td>\n",
              "      <td>$35,000.00</td>\n",
              "      <td>$31,500.00</td>\n",
              "      <td>P I F</td>\n",
              "    </tr>\n",
              "    <tr>\n",
              "      <th>679966</th>\n",
              "      <td>SPOKANE</td>\n",
              "      <td>WA</td>\n",
              "      <td>99207</td>\n",
              "      <td>BANNER BANK</td>\n",
              "      <td>WA</td>\n",
              "      <td>451110</td>\n",
              "      <td>1</td>\n",
              "      <td>1.0</td>\n",
              "      <td>0</td>\n",
              "      <td>0</td>\n",
              "      <td>1</td>\n",
              "      <td>1</td>\n",
              "      <td>0</td>\n",
              "      <td>Y</td>\n",
              "      <td>$69,100.00</td>\n",
              "      <td>$0.00</td>\n",
              "      <td>$69,100.00</td>\n",
              "      <td>$55,280.00</td>\n",
              "      <td>P I F</td>\n",
              "    </tr>\n",
              "    <tr>\n",
              "      <th>82711</th>\n",
              "      <td>TEMPE</td>\n",
              "      <td>AZ</td>\n",
              "      <td>85281</td>\n",
              "      <td>ARIZONA BANK &amp; TRUST</td>\n",
              "      <td>AZ</td>\n",
              "      <td>421830</td>\n",
              "      <td>5</td>\n",
              "      <td>1.0</td>\n",
              "      <td>0</td>\n",
              "      <td>0</td>\n",
              "      <td>1</td>\n",
              "      <td>0</td>\n",
              "      <td>N</td>\n",
              "      <td>Y</td>\n",
              "      <td>$75,000.00</td>\n",
              "      <td>$0.00</td>\n",
              "      <td>$75,000.00</td>\n",
              "      <td>$60,000.00</td>\n",
              "      <td>P I F</td>\n",
              "    </tr>\n",
              "    <tr>\n",
              "      <th>336136</th>\n",
              "      <td>GALENA</td>\n",
              "      <td>MO</td>\n",
              "      <td>65656</td>\n",
              "      <td>CONWAY BANK NATL ASSOC</td>\n",
              "      <td>KS</td>\n",
              "      <td>115113</td>\n",
              "      <td>10</td>\n",
              "      <td>1.0</td>\n",
              "      <td>0</td>\n",
              "      <td>0</td>\n",
              "      <td>1</td>\n",
              "      <td>0</td>\n",
              "      <td>N</td>\n",
              "      <td>N</td>\n",
              "      <td>$92,350.00</td>\n",
              "      <td>$0.00</td>\n",
              "      <td>$92,350.00</td>\n",
              "      <td>$79,421.00</td>\n",
              "      <td>CHGOFF</td>\n",
              "    </tr>\n",
              "  </tbody>\n",
              "</table>\n",
              "</div>\n",
              "      <button class=\"colab-df-convert\" onclick=\"convertToInteractive('df-2cf1bb9c-2261-4ab5-b140-9bafb8a4880d')\"\n",
              "              title=\"Convert this dataframe to an interactive table.\"\n",
              "              style=\"display:none;\">\n",
              "        \n",
              "  <svg xmlns=\"http://www.w3.org/2000/svg\" height=\"24px\"viewBox=\"0 0 24 24\"\n",
              "       width=\"24px\">\n",
              "    <path d=\"M0 0h24v24H0V0z\" fill=\"none\"/>\n",
              "    <path d=\"M18.56 5.44l.94 2.06.94-2.06 2.06-.94-2.06-.94-.94-2.06-.94 2.06-2.06.94zm-11 1L8.5 8.5l.94-2.06 2.06-.94-2.06-.94L8.5 2.5l-.94 2.06-2.06.94zm10 10l.94 2.06.94-2.06 2.06-.94-2.06-.94-.94-2.06-.94 2.06-2.06.94z\"/><path d=\"M17.41 7.96l-1.37-1.37c-.4-.4-.92-.59-1.43-.59-.52 0-1.04.2-1.43.59L10.3 9.45l-7.72 7.72c-.78.78-.78 2.05 0 2.83L4 21.41c.39.39.9.59 1.41.59.51 0 1.02-.2 1.41-.59l7.78-7.78 2.81-2.81c.8-.78.8-2.07 0-2.86zM5.41 20L4 18.59l7.72-7.72 1.47 1.35L5.41 20z\"/>\n",
              "  </svg>\n",
              "      </button>\n",
              "      \n",
              "  <style>\n",
              "    .colab-df-container {\n",
              "      display:flex;\n",
              "      flex-wrap:wrap;\n",
              "      gap: 12px;\n",
              "    }\n",
              "\n",
              "    .colab-df-convert {\n",
              "      background-color: #E8F0FE;\n",
              "      border: none;\n",
              "      border-radius: 50%;\n",
              "      cursor: pointer;\n",
              "      display: none;\n",
              "      fill: #1967D2;\n",
              "      height: 32px;\n",
              "      padding: 0 0 0 0;\n",
              "      width: 32px;\n",
              "    }\n",
              "\n",
              "    .colab-df-convert:hover {\n",
              "      background-color: #E2EBFA;\n",
              "      box-shadow: 0px 1px 2px rgba(60, 64, 67, 0.3), 0px 1px 3px 1px rgba(60, 64, 67, 0.15);\n",
              "      fill: #174EA6;\n",
              "    }\n",
              "\n",
              "    [theme=dark] .colab-df-convert {\n",
              "      background-color: #3B4455;\n",
              "      fill: #D2E3FC;\n",
              "    }\n",
              "\n",
              "    [theme=dark] .colab-df-convert:hover {\n",
              "      background-color: #434B5C;\n",
              "      box-shadow: 0px 1px 3px 1px rgba(0, 0, 0, 0.15);\n",
              "      filter: drop-shadow(0px 1px 2px rgba(0, 0, 0, 0.3));\n",
              "      fill: #FFFFFF;\n",
              "    }\n",
              "  </style>\n",
              "\n",
              "      <script>\n",
              "        const buttonEl =\n",
              "          document.querySelector('#df-2cf1bb9c-2261-4ab5-b140-9bafb8a4880d button.colab-df-convert');\n",
              "        buttonEl.style.display =\n",
              "          google.colab.kernel.accessAllowed ? 'block' : 'none';\n",
              "\n",
              "        async function convertToInteractive(key) {\n",
              "          const element = document.querySelector('#df-2cf1bb9c-2261-4ab5-b140-9bafb8a4880d');\n",
              "          const dataTable =\n",
              "            await google.colab.kernel.invokeFunction('convertToInteractive',\n",
              "                                                     [key], {});\n",
              "          if (!dataTable) return;\n",
              "\n",
              "          const docLinkHtml = 'Like what you see? Visit the ' +\n",
              "            '<a target=\"_blank\" href=https://colab.research.google.com/notebooks/data_table.ipynb>data table notebook</a>'\n",
              "            + ' to learn more about interactive tables.';\n",
              "          element.innerHTML = '';\n",
              "          dataTable['output_type'] = 'display_data';\n",
              "          await google.colab.output.renderOutput(dataTable, element);\n",
              "          const docLink = document.createElement('div');\n",
              "          docLink.innerHTML = docLinkHtml;\n",
              "          element.appendChild(docLink);\n",
              "        }\n",
              "      </script>\n",
              "    </div>\n",
              "  </div>\n",
              "  "
            ],
            "text/plain": [
              "                   City State    Zip                            Bank  \\\n",
              "274390         COVENTRY    RI   2816        CITIZENS BANK NATL ASSOC   \n",
              "654005      LOS ANGELES    CA  90014  BANK OF AMERICA CALIFORNIA N.A   \n",
              "498404  NORTH HOLLYWOOD    CA  91605             MISSION VALLEY BANK   \n",
              "725094        WILLISTON    VT   5495    KEYBANK NATIONAL ASSOCIATION   \n",
              "665779           FRESNO    CA  93720         CALIFORNIA BANK & TRUST   \n",
              "319925            IRENE    SD  57037     WELLS FARGO BANK NATL ASSOC   \n",
              "246108       SANTA CRUZ    CA  95060  RABOBANK, NATIONAL ASSOCIATION   \n",
              "679966          SPOKANE    WA  99207                     BANNER BANK   \n",
              "82711             TEMPE    AZ  85281            ARIZONA BANK & TRUST   \n",
              "336136           GALENA    MO  65656          CONWAY BANK NATL ASSOC   \n",
              "\n",
              "       BankState   NAICS  NoEmp  NewExist  CreateJob  RetainedJob  \\\n",
              "274390        RI  235510      6       1.0          0            0   \n",
              "654005        CA       0      1       1.0          0            0   \n",
              "498404        CA  812320     10       1.0          3           10   \n",
              "725094        VT  441110     20       1.0          0            0   \n",
              "665779        CA       0      2       1.0          2            0   \n",
              "319925        SD  511110      3       1.0          0            0   \n",
              "246108        CA       0     10       1.0          0            0   \n",
              "679966        WA  451110      1       1.0          0            0   \n",
              "82711         AZ  421830      5       1.0          0            0   \n",
              "336136        KS  115113     10       1.0          0            0   \n",
              "\n",
              "        FranchiseCode  UrbanRural RevLineCr LowDoc DisbursementGross  \\\n",
              "274390              1           0         0      N       $50,000.00    \n",
              "654005              1           0         0      N       $20,000.00    \n",
              "498404              1           1         T      N      $140,275.00    \n",
              "725094              1           0         N      N      $300,000.00    \n",
              "665779              1           0         0      N       $55,000.00    \n",
              "319925              1           0         N      Y       $31,000.00    \n",
              "246108              1           0         N      Y       $35,000.00    \n",
              "679966              1           1         0      Y       $69,100.00    \n",
              "82711               1           0         N      Y       $75,000.00    \n",
              "336136              1           0         N      N       $92,350.00    \n",
              "\n",
              "       BalanceGross        GrAppv      SBA_Appv MIS_Status  \n",
              "274390       $0.00    $50,000.00    $25,000.00       P I F  \n",
              "654005       $0.00    $20,000.00    $10,000.00       P I F  \n",
              "498404       $0.00    $75,000.00    $37,500.00       P I F  \n",
              "725094       $0.00   $300,000.00   $255,000.00       P I F  \n",
              "665779       $0.00    $55,000.00    $44,000.00       P I F  \n",
              "319925       $0.00    $31,000.00    $24,800.00       P I F  \n",
              "246108       $0.00    $35,000.00    $31,500.00       P I F  \n",
              "679966       $0.00    $69,100.00    $55,280.00       P I F  \n",
              "82711        $0.00    $75,000.00    $60,000.00       P I F  \n",
              "336136       $0.00    $92,350.00    $79,421.00      CHGOFF  "
            ]
          },
          "execution_count": 13,
          "metadata": {},
          "output_type": "execute_result"
        }
      ],
      "source": [
        "data.head(n=10)"
      ],
      "id": "1l7XcmQ6LmQB"
    },
    {
      "cell_type": "markdown",
      "metadata": {
        "id": "5fe1af41"
      },
      "source": [
        "## Dataset preparation and clean-up\n",
        "\n",
        "Modify and clean-up the dataset as following:\n",
        "- Replace encode Na/Null values\n",
        "- Convert the strings styled as '$XXXX.XX' to float values. Columns = ['DisbursementGross', 'BalanceGross', 'GrAppv', 'SBA_Appv']\n",
        "- Convert MIS_Status to 0/1. Make value \"CHGOFF\" as 1"
      ],
      "id": "5fe1af41"
    },
    {
      "cell_type": "code",
      "execution_count": null,
      "metadata": {
        "colab": {
          "base_uri": "https://localhost:8080/"
        },
        "id": "MaflnPmhLmQD",
        "outputId": "577f251c-5ded-4ced-a136-dd3c27853a13"
      },
      "outputs": [
        {
          "data": {
            "text/plain": [
              "City                  object\n",
              "State                 object\n",
              "Zip                    int64\n",
              "Bank                  object\n",
              "BankState             object\n",
              "NAICS                  int64\n",
              "NoEmp                  int64\n",
              "NewExist             float64\n",
              "CreateJob              int64\n",
              "RetainedJob            int64\n",
              "FranchiseCode          int64\n",
              "UrbanRural             int64\n",
              "RevLineCr             object\n",
              "LowDoc                object\n",
              "DisbursementGross     object\n",
              "BalanceGross          object\n",
              "GrAppv                object\n",
              "SBA_Appv              object\n",
              "MIS_Status            object\n",
              "dtype: object"
            ]
          },
          "execution_count": 13,
          "metadata": {},
          "output_type": "execute_result"
        }
      ],
      "source": [
        "# colomn type\n",
        "data.dtypes"
      ],
      "id": "MaflnPmhLmQD"
    },
    {
      "cell_type": "code",
      "execution_count": null,
      "metadata": {
        "id": "LFtg5mYMhFAN"
      },
      "outputs": [],
      "source": [
        "data['MIS_Status']=data['MIS_Status'].replace({'CHGOFF':1,'P I F':0}).astype(float)"
      ],
      "id": "LFtg5mYMhFAN"
    },
    {
      "cell_type": "code",
      "execution_count": null,
      "metadata": {
        "id": "KPTyPmHyUS8w"
      },
      "outputs": [],
      "source": [
        "money_columns_in_string_format=['DisbursementGross','GrAppv','SBA_Appv','BalanceGross']"
      ],
      "id": "KPTyPmHyUS8w"
    },
    {
      "cell_type": "code",
      "execution_count": null,
      "metadata": {
        "colab": {
          "base_uri": "https://localhost:8080/"
        },
        "id": "FZzoltYXUUn9",
        "outputId": "d99e4410-ee91-43fe-e4c1-1d4f265c98ff"
      },
      "outputs": [
        {
          "name": "stdout",
          "output_type": "stream",
          "text": [
            "success\n"
          ]
        }
      ],
      "source": [
        "m=lp.money_data(variables=money_columns_in_string_format)\n",
        "m.fit(data)\n",
        "data=m.transform(data)\n",
        "#data[money_columns_in_string_format]=data[money_columns_in_string_format].replace(replace_dict,regex=True).astype(float)"
      ],
      "id": "FZzoltYXUUn9"
    },
    {
      "cell_type": "code",
      "execution_count": null,
      "metadata": {
        "colab": {
          "base_uri": "https://localhost:8080/",
          "height": 444
        },
        "id": "lLNBAvCTV3da",
        "outputId": "11fc581d-1a94-4311-82bd-6f0d11a3aa7d"
      },
      "outputs": [
        {
          "data": {
            "text/html": [
              "\n",
              "  <div id=\"df-fe1ee6cc-5e89-4aee-83ac-97b21881a0c7\">\n",
              "    <div class=\"colab-df-container\">\n",
              "      <div>\n",
              "<style scoped>\n",
              "    .dataframe tbody tr th:only-of-type {\n",
              "        vertical-align: middle;\n",
              "    }\n",
              "\n",
              "    .dataframe tbody tr th {\n",
              "        vertical-align: top;\n",
              "    }\n",
              "\n",
              "    .dataframe thead th {\n",
              "        text-align: right;\n",
              "    }\n",
              "</style>\n",
              "<table border=\"1\" class=\"dataframe\">\n",
              "  <thead>\n",
              "    <tr style=\"text-align: right;\">\n",
              "      <th></th>\n",
              "      <th>City</th>\n",
              "      <th>State</th>\n",
              "      <th>Zip</th>\n",
              "      <th>Bank</th>\n",
              "      <th>BankState</th>\n",
              "      <th>NAICS</th>\n",
              "      <th>NoEmp</th>\n",
              "      <th>NewExist</th>\n",
              "      <th>CreateJob</th>\n",
              "      <th>RetainedJob</th>\n",
              "      <th>FranchiseCode</th>\n",
              "      <th>UrbanRural</th>\n",
              "      <th>RevLineCr</th>\n",
              "      <th>LowDoc</th>\n",
              "      <th>DisbursementGross</th>\n",
              "      <th>BalanceGross</th>\n",
              "      <th>GrAppv</th>\n",
              "      <th>SBA_Appv</th>\n",
              "      <th>MIS_Status</th>\n",
              "    </tr>\n",
              "  </thead>\n",
              "  <tbody>\n",
              "    <tr>\n",
              "      <th>274390</th>\n",
              "      <td>COVENTRY</td>\n",
              "      <td>RI</td>\n",
              "      <td>2816</td>\n",
              "      <td>CITIZENS BANK NATL ASSOC</td>\n",
              "      <td>RI</td>\n",
              "      <td>235510</td>\n",
              "      <td>6</td>\n",
              "      <td>1.0</td>\n",
              "      <td>0</td>\n",
              "      <td>0</td>\n",
              "      <td>1</td>\n",
              "      <td>0</td>\n",
              "      <td>0</td>\n",
              "      <td>N</td>\n",
              "      <td>50000.0</td>\n",
              "      <td>0.0</td>\n",
              "      <td>50000.0</td>\n",
              "      <td>25000.0</td>\n",
              "      <td>0.0</td>\n",
              "    </tr>\n",
              "    <tr>\n",
              "      <th>654005</th>\n",
              "      <td>LOS ANGELES</td>\n",
              "      <td>CA</td>\n",
              "      <td>90014</td>\n",
              "      <td>BANK OF AMERICA CALIFORNIA N.A</td>\n",
              "      <td>CA</td>\n",
              "      <td>0</td>\n",
              "      <td>1</td>\n",
              "      <td>1.0</td>\n",
              "      <td>0</td>\n",
              "      <td>0</td>\n",
              "      <td>1</td>\n",
              "      <td>0</td>\n",
              "      <td>0</td>\n",
              "      <td>N</td>\n",
              "      <td>20000.0</td>\n",
              "      <td>0.0</td>\n",
              "      <td>20000.0</td>\n",
              "      <td>10000.0</td>\n",
              "      <td>0.0</td>\n",
              "    </tr>\n",
              "    <tr>\n",
              "      <th>498404</th>\n",
              "      <td>NORTH HOLLYWOOD</td>\n",
              "      <td>CA</td>\n",
              "      <td>91605</td>\n",
              "      <td>MISSION VALLEY BANK</td>\n",
              "      <td>CA</td>\n",
              "      <td>812320</td>\n",
              "      <td>10</td>\n",
              "      <td>1.0</td>\n",
              "      <td>3</td>\n",
              "      <td>10</td>\n",
              "      <td>1</td>\n",
              "      <td>1</td>\n",
              "      <td>T</td>\n",
              "      <td>N</td>\n",
              "      <td>140275.0</td>\n",
              "      <td>0.0</td>\n",
              "      <td>75000.0</td>\n",
              "      <td>37500.0</td>\n",
              "      <td>0.0</td>\n",
              "    </tr>\n",
              "    <tr>\n",
              "      <th>725094</th>\n",
              "      <td>WILLISTON</td>\n",
              "      <td>VT</td>\n",
              "      <td>5495</td>\n",
              "      <td>KEYBANK NATIONAL ASSOCIATION</td>\n",
              "      <td>VT</td>\n",
              "      <td>441110</td>\n",
              "      <td>20</td>\n",
              "      <td>1.0</td>\n",
              "      <td>0</td>\n",
              "      <td>0</td>\n",
              "      <td>1</td>\n",
              "      <td>0</td>\n",
              "      <td>N</td>\n",
              "      <td>N</td>\n",
              "      <td>300000.0</td>\n",
              "      <td>0.0</td>\n",
              "      <td>300000.0</td>\n",
              "      <td>255000.0</td>\n",
              "      <td>0.0</td>\n",
              "    </tr>\n",
              "    <tr>\n",
              "      <th>665779</th>\n",
              "      <td>FRESNO</td>\n",
              "      <td>CA</td>\n",
              "      <td>93720</td>\n",
              "      <td>CALIFORNIA BANK &amp; TRUST</td>\n",
              "      <td>CA</td>\n",
              "      <td>0</td>\n",
              "      <td>2</td>\n",
              "      <td>1.0</td>\n",
              "      <td>2</td>\n",
              "      <td>0</td>\n",
              "      <td>1</td>\n",
              "      <td>0</td>\n",
              "      <td>0</td>\n",
              "      <td>N</td>\n",
              "      <td>55000.0</td>\n",
              "      <td>0.0</td>\n",
              "      <td>55000.0</td>\n",
              "      <td>44000.0</td>\n",
              "      <td>0.0</td>\n",
              "    </tr>\n",
              "  </tbody>\n",
              "</table>\n",
              "</div>\n",
              "      <button class=\"colab-df-convert\" onclick=\"convertToInteractive('df-fe1ee6cc-5e89-4aee-83ac-97b21881a0c7')\"\n",
              "              title=\"Convert this dataframe to an interactive table.\"\n",
              "              style=\"display:none;\">\n",
              "        \n",
              "  <svg xmlns=\"http://www.w3.org/2000/svg\" height=\"24px\"viewBox=\"0 0 24 24\"\n",
              "       width=\"24px\">\n",
              "    <path d=\"M0 0h24v24H0V0z\" fill=\"none\"/>\n",
              "    <path d=\"M18.56 5.44l.94 2.06.94-2.06 2.06-.94-2.06-.94-.94-2.06-.94 2.06-2.06.94zm-11 1L8.5 8.5l.94-2.06 2.06-.94-2.06-.94L8.5 2.5l-.94 2.06-2.06.94zm10 10l.94 2.06.94-2.06 2.06-.94-2.06-.94-.94-2.06-.94 2.06-2.06.94z\"/><path d=\"M17.41 7.96l-1.37-1.37c-.4-.4-.92-.59-1.43-.59-.52 0-1.04.2-1.43.59L10.3 9.45l-7.72 7.72c-.78.78-.78 2.05 0 2.83L4 21.41c.39.39.9.59 1.41.59.51 0 1.02-.2 1.41-.59l7.78-7.78 2.81-2.81c.8-.78.8-2.07 0-2.86zM5.41 20L4 18.59l7.72-7.72 1.47 1.35L5.41 20z\"/>\n",
              "  </svg>\n",
              "      </button>\n",
              "      \n",
              "  <style>\n",
              "    .colab-df-container {\n",
              "      display:flex;\n",
              "      flex-wrap:wrap;\n",
              "      gap: 12px;\n",
              "    }\n",
              "\n",
              "    .colab-df-convert {\n",
              "      background-color: #E8F0FE;\n",
              "      border: none;\n",
              "      border-radius: 50%;\n",
              "      cursor: pointer;\n",
              "      display: none;\n",
              "      fill: #1967D2;\n",
              "      height: 32px;\n",
              "      padding: 0 0 0 0;\n",
              "      width: 32px;\n",
              "    }\n",
              "\n",
              "    .colab-df-convert:hover {\n",
              "      background-color: #E2EBFA;\n",
              "      box-shadow: 0px 1px 2px rgba(60, 64, 67, 0.3), 0px 1px 3px 1px rgba(60, 64, 67, 0.15);\n",
              "      fill: #174EA6;\n",
              "    }\n",
              "\n",
              "    [theme=dark] .colab-df-convert {\n",
              "      background-color: #3B4455;\n",
              "      fill: #D2E3FC;\n",
              "    }\n",
              "\n",
              "    [theme=dark] .colab-df-convert:hover {\n",
              "      background-color: #434B5C;\n",
              "      box-shadow: 0px 1px 3px 1px rgba(0, 0, 0, 0.15);\n",
              "      filter: drop-shadow(0px 1px 2px rgba(0, 0, 0, 0.3));\n",
              "      fill: #FFFFFF;\n",
              "    }\n",
              "  </style>\n",
              "\n",
              "      <script>\n",
              "        const buttonEl =\n",
              "          document.querySelector('#df-fe1ee6cc-5e89-4aee-83ac-97b21881a0c7 button.colab-df-convert');\n",
              "        buttonEl.style.display =\n",
              "          google.colab.kernel.accessAllowed ? 'block' : 'none';\n",
              "\n",
              "        async function convertToInteractive(key) {\n",
              "          const element = document.querySelector('#df-fe1ee6cc-5e89-4aee-83ac-97b21881a0c7');\n",
              "          const dataTable =\n",
              "            await google.colab.kernel.invokeFunction('convertToInteractive',\n",
              "                                                     [key], {});\n",
              "          if (!dataTable) return;\n",
              "\n",
              "          const docLinkHtml = 'Like what you see? Visit the ' +\n",
              "            '<a target=\"_blank\" href=https://colab.research.google.com/notebooks/data_table.ipynb>data table notebook</a>'\n",
              "            + ' to learn more about interactive tables.';\n",
              "          element.innerHTML = '';\n",
              "          dataTable['output_type'] = 'display_data';\n",
              "          await google.colab.output.renderOutput(dataTable, element);\n",
              "          const docLink = document.createElement('div');\n",
              "          docLink.innerHTML = docLinkHtml;\n",
              "          element.appendChild(docLink);\n",
              "        }\n",
              "      </script>\n",
              "    </div>\n",
              "  </div>\n",
              "  "
            ],
            "text/plain": [
              "                   City State    Zip                            Bank  \\\n",
              "274390         COVENTRY    RI   2816        CITIZENS BANK NATL ASSOC   \n",
              "654005      LOS ANGELES    CA  90014  BANK OF AMERICA CALIFORNIA N.A   \n",
              "498404  NORTH HOLLYWOOD    CA  91605             MISSION VALLEY BANK   \n",
              "725094        WILLISTON    VT   5495    KEYBANK NATIONAL ASSOCIATION   \n",
              "665779           FRESNO    CA  93720         CALIFORNIA BANK & TRUST   \n",
              "\n",
              "       BankState   NAICS  NoEmp  NewExist  CreateJob  RetainedJob  \\\n",
              "274390        RI  235510      6       1.0          0            0   \n",
              "654005        CA       0      1       1.0          0            0   \n",
              "498404        CA  812320     10       1.0          3           10   \n",
              "725094        VT  441110     20       1.0          0            0   \n",
              "665779        CA       0      2       1.0          2            0   \n",
              "\n",
              "        FranchiseCode  UrbanRural RevLineCr LowDoc  DisbursementGross  \\\n",
              "274390              1           0         0      N            50000.0   \n",
              "654005              1           0         0      N            20000.0   \n",
              "498404              1           1         T      N           140275.0   \n",
              "725094              1           0         N      N           300000.0   \n",
              "665779              1           0         0      N            55000.0   \n",
              "\n",
              "        BalanceGross    GrAppv  SBA_Appv  MIS_Status  \n",
              "274390           0.0   50000.0   25000.0         0.0  \n",
              "654005           0.0   20000.0   10000.0         0.0  \n",
              "498404           0.0   75000.0   37500.0         0.0  \n",
              "725094           0.0  300000.0  255000.0         0.0  \n",
              "665779           0.0   55000.0   44000.0         0.0  "
            ]
          },
          "execution_count": 15,
          "metadata": {},
          "output_type": "execute_result"
        }
      ],
      "source": [
        "data.head()"
      ],
      "id": "lLNBAvCTV3da"
    },
    {
      "cell_type": "code",
      "execution_count": null,
      "metadata": {
        "id": "DdjeSe0x3zK4"
      },
      "outputs": [],
      "source": [
        "Numerical_columns=[col for col in data.drop(columns=['MIS_Status']).columns if data[col].dtype!='object']\n",
        "categorical_columns=[col for col in data.drop(columns=['MIS_Status']).columns if data[col].dtype=='object']"
      ],
      "id": "DdjeSe0x3zK4"
    },
    {
      "cell_type": "code",
      "execution_count": null,
      "metadata": {
        "colab": {
          "base_uri": "https://localhost:8080/"
        },
        "id": "c9v8CeBiSGTU",
        "outputId": "b0a0aec0-2549-4ff7-c369-e8691454aad4"
      },
      "outputs": [
        {
          "name": "stdout",
          "output_type": "stream",
          "text": [
            "['Zip', 'NAICS', 'NoEmp', 'NewExist', 'CreateJob', 'RetainedJob', 'FranchiseCode', 'UrbanRural', 'DisbursementGross', 'BalanceGross', 'GrAppv', 'SBA_Appv']\n"
          ]
        }
      ],
      "source": [
        "print(Numerical_columns)"
      ],
      "id": "c9v8CeBiSGTU"
    },
    {
      "cell_type": "code",
      "execution_count": null,
      "metadata": {
        "colab": {
          "base_uri": "https://localhost:8080/"
        },
        "id": "rgb73NeBSNK_",
        "outputId": "3935e0e9-4d0e-4601-e9d2-6dcf40e87a4e"
      },
      "outputs": [
        {
          "name": "stdout",
          "output_type": "stream",
          "text": [
            "['City', 'State', 'Bank', 'BankState', 'RevLineCr', 'LowDoc']\n"
          ]
        }
      ],
      "source": [
        "print(categorical_columns)"
      ],
      "id": "rgb73NeBSNK_"
    },
    {
      "cell_type": "code",
      "execution_count": null,
      "metadata": {
        "colab": {
          "base_uri": "https://localhost:8080/"
        },
        "id": "8sAxHb4F5_Xu",
        "outputId": "d1134c5f-a30e-4159-f13e-479c8b4cd405"
      },
      "outputs": [
        {
          "name": "stdout",
          "output_type": "stream",
          "text": [
            "success\n"
          ]
        }
      ],
      "source": [
        "m=lp.Numerical_train_imputer(path=p,variables=Numerical_columns)\n",
        "m.fit(data)\n",
        "data=m.transform(data)"
      ],
      "id": "8sAxHb4F5_Xu"
    },
    {
      "cell_type": "code",
      "execution_count": null,
      "metadata": {
        "colab": {
          "base_uri": "https://localhost:8080/"
        },
        "id": "kha09TDx7KP6",
        "outputId": "ffda72a9-8df7-4f67-e074-dff3395ca81c"
      },
      "outputs": [
        {
          "name": "stdout",
          "output_type": "stream",
          "text": [
            "success\n"
          ]
        }
      ],
      "source": [
        "m=lp.categorical_train_imputer(path=p,variables=categorical_columns)\n",
        "m.fit(data)\n",
        "data=m.transform(data)"
      ],
      "id": "kha09TDx7KP6"
    },
    {
      "cell_type": "code",
      "execution_count": null,
      "metadata": {
        "colab": {
          "base_uri": "https://localhost:8080/"
        },
        "id": "TtRlT_mC7puf",
        "outputId": "11be63b3-397a-460b-f6e6-282a4c7aeeea"
      },
      "outputs": [
        {
          "data": {
            "text/plain": [
              "City                 0\n",
              "State                0\n",
              "Zip                  0\n",
              "Bank                 0\n",
              "BankState            0\n",
              "NAICS                0\n",
              "NoEmp                0\n",
              "NewExist             0\n",
              "CreateJob            0\n",
              "RetainedJob          0\n",
              "FranchiseCode        0\n",
              "UrbanRural           0\n",
              "RevLineCr            0\n",
              "LowDoc               0\n",
              "DisbursementGross    0\n",
              "BalanceGross         0\n",
              "GrAppv               0\n",
              "SBA_Appv             0\n",
              "MIS_Status           0\n",
              "dtype: int64"
            ]
          },
          "execution_count": 21,
          "metadata": {},
          "output_type": "execute_result"
        }
      ],
      "source": [
        "data.isna().sum()"
      ],
      "id": "TtRlT_mC7puf"
    },
    {
      "cell_type": "code",
      "execution_count": null,
      "metadata": {
        "colab": {
          "base_uri": "https://localhost:8080/"
        },
        "id": "cNnJGzYyk4ty",
        "outputId": "d58ff66c-b899-4902-d1fa-26192b969171"
      },
      "outputs": [
        {
          "data": {
            "text/plain": [
              "City                 False\n",
              "State                False\n",
              "Zip                  False\n",
              "Bank                 False\n",
              "BankState            False\n",
              "NAICS                False\n",
              "NoEmp                False\n",
              "NewExist             False\n",
              "CreateJob            False\n",
              "RetainedJob          False\n",
              "FranchiseCode        False\n",
              "UrbanRural           False\n",
              "RevLineCr            False\n",
              "LowDoc               False\n",
              "DisbursementGross    False\n",
              "BalanceGross         False\n",
              "GrAppv               False\n",
              "SBA_Appv             False\n",
              "MIS_Status           False\n",
              "dtype: bool"
            ]
          },
          "execution_count": 22,
          "metadata": {},
          "output_type": "execute_result"
        }
      ],
      "source": [
        "data.isnull().any()"
      ],
      "id": "cNnJGzYyk4ty"
    },
    {
      "cell_type": "code",
      "execution_count": null,
      "metadata": {
        "colab": {
          "base_uri": "https://localhost:8080/"
        },
        "id": "rpYg_cLWLmQF",
        "outputId": "006f26ec-e048-41dd-de57-21cc20c28c9d"
      },
      "outputs": [
        {
          "data": {
            "text/plain": [
              "0"
            ]
          },
          "execution_count": 72,
          "metadata": {},
          "output_type": "execute_result"
        }
      ],
      "source": [
        "# list columns with missing values\n",
        "sum(data.isnull().any())"
      ],
      "id": "rpYg_cLWLmQF"
    },
    {
      "cell_type": "markdown",
      "metadata": {
        "id": "jhztaNyReSxy"
      },
      "source": [
        "First I want to see the correlation of continouse variables to check features that can be dropped "
      ],
      "id": "jhztaNyReSxy"
    },
    {
      "cell_type": "code",
      "execution_count": null,
      "metadata": {
        "id": "cp1REqZ8elbc"
      },
      "outputs": [],
      "source": [
        "df=data.drop(columns=['MIS_Status'])\n",
        "corr_matrix=df.corr()"
      ],
      "id": "cp1REqZ8elbc"
    },
    {
      "cell_type": "code",
      "execution_count": null,
      "metadata": {
        "colab": {
          "base_uri": "https://localhost:8080/",
          "height": 557
        },
        "id": "7buiArvngRlD",
        "outputId": "23e440fc-45db-45fd-9b8e-6affd35a481d"
      },
      "outputs": [
        {
          "data": {
            "image/png": "[encoded data removed]",
            "text/plain": [
              "<Figure size 640x480 with 2 Axes>"
            ]
          },
          "metadata": {},
          "output_type": "display_data"
        }
      ],
      "source": [
        "# Create a heatmap of the correlation matrix having features which have correlation between .9 and 1 only\n",
        "sns.heatmap(corr_matrix,color='green', annot=True, vmin=0, vmax=.9, center=0, square=True, linewidths=.5)\n",
        "plt.show()"
      ],
      "id": "7buiArvngRlD"
    },
    {
      "cell_type": "markdown",
      "metadata": {
        "id": "dbvylrUTnQyb"
      },
      "source": [
        " I can trust this heatmap only for continous variables not for discrete variables so i will eliminate only continous colinear variables"
      ],
      "id": "dbvylrUTnQyb"
    },
    {
      "cell_type": "code",
      "execution_count": null,
      "metadata": {
        "id": "8_2hhvq3k0ma"
      },
      "outputs": [],
      "source": [
        "columns_to_drop=['SBA_Appv','DisbursementGross']"
      ],
      "id": "8_2hhvq3k0ma"
    },
    {
      "cell_type": "code",
      "execution_count": null,
      "metadata": {
        "colab": {
          "base_uri": "https://localhost:8080/"
        },
        "id": "pa_ZgIEkoTM2",
        "outputId": "00368601-ca96-41e4-9244-5706291d288c"
      },
      "outputs": [
        {
          "data": {
            "text/plain": [
              "City                  object\n",
              "State                 object\n",
              "Zip                    int64\n",
              "Bank                  object\n",
              "BankState             object\n",
              "NAICS                  int64\n",
              "NoEmp                  int64\n",
              "NewExist             float64\n",
              "CreateJob              int64\n",
              "RetainedJob            int64\n",
              "FranchiseCode          int64\n",
              "UrbanRural             int64\n",
              "RevLineCr             object\n",
              "LowDoc                object\n",
              "DisbursementGross    float64\n",
              "BalanceGross         float64\n",
              "GrAppv               float64\n",
              "SBA_Appv             float64\n",
              "MIS_Status           float64\n",
              "dtype: object"
            ]
          },
          "execution_count": 29,
          "metadata": {},
          "output_type": "execute_result"
        }
      ],
      "source": [
        "data.dtypes"
      ],
      "id": "pa_ZgIEkoTM2"
    },
    {
      "cell_type": "code",
      "execution_count": null,
      "metadata": {
        "colab": {
          "base_uri": "https://localhost:8080/"
        },
        "id": "Wtl1gRTZn7ML",
        "outputId": "3cb54765-5c87-46ed-fa8f-dd8b0a1b32b1"
      },
      "outputs": [
        {
          "name": "stdout",
          "output_type": "stream",
          "text": [
            "[[28625, 'City'], [52, 'State'], [30996, 'Zip'], [5483, 'Bank'], [56, 'BankState'], [1302, 'NAICS'], [534, 'NoEmp'], [219, 'CreateJob'], [329, 'RetainedJob'], [2510, 'FranchiseCode'], [3, 'UrbanRural'], [19, 'RevLineCr'], [8, 'LowDoc']]\n"
          ]
        }
      ],
      "source": [
        "discrete_col=[col for col in data.drop(columns='MIS_Status').columns if data[col].dtype=='int' or data[col].dtype=='object' ]\n",
        "unique_values=[[data[col].nunique(),col] for col in discrete_col]\n",
        "print(unique_values)"
      ],
      "id": "Wtl1gRTZn7ML"
    },
    {
      "cell_type": "markdown",
      "metadata": {
        "id": "Wi8HErYfI9ti"
      },
      "source": [
        "Categorical Variables City, Zip are have large no of categories. Also because of different states have different policies. so it must depend on state not on city and zip. Hence i will drop these two columns"
      ],
      "id": "Wi8HErYfI9ti"
    },
    {
      "cell_type": "code",
      "execution_count": null,
      "metadata": {
        "id": "3IP9XpFuKY2u"
      },
      "outputs": [],
      "source": [
        "columns_to_drop=columns_to_drop+['City','Zip']"
      ],
      "id": "3IP9XpFuKY2u"
    },
    {
      "cell_type": "code",
      "execution_count": null,
      "metadata": {
        "colab": {
          "base_uri": "https://localhost:8080/"
        },
        "id": "Bs48WmcWXFU7",
        "outputId": "ee221940-db4f-44b7-d068-2f01fc4118dd"
      },
      "outputs": [
        {
          "name": "stdout",
          "output_type": "stream",
          "text": [
            "['SBA_Appv', 'DisbursementGross', 'City', 'Zip']\n"
          ]
        }
      ],
      "source": [
        "print(columns_to_drop)"
      ],
      "id": "Bs48WmcWXFU7"
    },
    {
      "cell_type": "code",
      "execution_count": null,
      "metadata": {
        "id": "t4Xw4u5FGy43"
      },
      "outputs": [],
      "source": [
        "discrete_col=['State', 'Bank', 'BankState', 'NAICS', 'NoEmp', 'CreateJob', 'RetainedJob', 'FranchiseCode', 'UrbanRural', 'RevLineCr', 'LowDoc']"
      ],
      "id": "t4Xw4u5FGy43"
    },
    {
      "cell_type": "code",
      "execution_count": null,
      "metadata": {
        "id": "z-Z-yfpfDOwX"
      },
      "outputs": [],
      "source": [
        "m=lp.discrete_columns_matrix(variables=discrete_col)\n",
        "df=m.fit(data)"
      ],
      "id": "z-Z-yfpfDOwX"
    },
    {
      "cell_type": "code",
      "execution_count": null,
      "metadata": {
        "colab": {
          "base_uri": "https://localhost:8080/",
          "height": 394
        },
        "id": "WnUchehWHilu",
        "outputId": "871400fa-a1f3-4dfb-948c-418ee8cd9054"
      },
      "outputs": [
        {
          "data": {
            "text/html": [
              "\n",
              "  <div id=\"df-af986e20-338d-4295-9c3b-fc96da3365a2\">\n",
              "    <div class=\"colab-df-container\">\n",
              "      <div>\n",
              "<style scoped>\n",
              "    .dataframe tbody tr th:only-of-type {\n",
              "        vertical-align: middle;\n",
              "    }\n",
              "\n",
              "    .dataframe tbody tr th {\n",
              "        vertical-align: top;\n",
              "    }\n",
              "\n",
              "    .dataframe thead th {\n",
              "        text-align: right;\n",
              "    }\n",
              "</style>\n",
              "<table border=\"1\" class=\"dataframe\">\n",
              "  <thead>\n",
              "    <tr style=\"text-align: right;\">\n",
              "      <th></th>\n",
              "      <th>State</th>\n",
              "      <th>Bank</th>\n",
              "      <th>BankState</th>\n",
              "      <th>NAICS</th>\n",
              "      <th>NoEmp</th>\n",
              "      <th>CreateJob</th>\n",
              "      <th>RetainedJob</th>\n",
              "      <th>FranchiseCode</th>\n",
              "      <th>UrbanRural</th>\n",
              "      <th>RevLineCr</th>\n",
              "      <th>LowDoc</th>\n",
              "    </tr>\n",
              "  </thead>\n",
              "  <tbody>\n",
              "    <tr>\n",
              "      <th>State</th>\n",
              "      <td>0.0</td>\n",
              "      <td>0.0</td>\n",
              "      <td>0.0</td>\n",
              "      <td>0.0</td>\n",
              "      <td>0.0</td>\n",
              "      <td>0.0</td>\n",
              "      <td>0.0</td>\n",
              "      <td>0.0</td>\n",
              "      <td>0.0</td>\n",
              "      <td>0.0</td>\n",
              "      <td>0.0</td>\n",
              "    </tr>\n",
              "    <tr>\n",
              "      <th>Bank</th>\n",
              "      <td>0.0</td>\n",
              "      <td>0.0</td>\n",
              "      <td>0.0</td>\n",
              "      <td>0.0</td>\n",
              "      <td>0.0</td>\n",
              "      <td>0.0</td>\n",
              "      <td>0.0</td>\n",
              "      <td>0.0</td>\n",
              "      <td>0.0</td>\n",
              "      <td>0.0</td>\n",
              "      <td>0.0</td>\n",
              "    </tr>\n",
              "    <tr>\n",
              "      <th>BankState</th>\n",
              "      <td>0.0</td>\n",
              "      <td>0.0</td>\n",
              "      <td>0.0</td>\n",
              "      <td>0.0</td>\n",
              "      <td>0.0</td>\n",
              "      <td>0.0</td>\n",
              "      <td>0.0</td>\n",
              "      <td>0.0</td>\n",
              "      <td>0.0</td>\n",
              "      <td>0.0</td>\n",
              "      <td>0.0</td>\n",
              "    </tr>\n",
              "    <tr>\n",
              "      <th>NAICS</th>\n",
              "      <td>0.0</td>\n",
              "      <td>0.0</td>\n",
              "      <td>0.0</td>\n",
              "      <td>0.0</td>\n",
              "      <td>0.0</td>\n",
              "      <td>0.0</td>\n",
              "      <td>0.0</td>\n",
              "      <td>0.0</td>\n",
              "      <td>0.0</td>\n",
              "      <td>0.0</td>\n",
              "      <td>0.0</td>\n",
              "    </tr>\n",
              "    <tr>\n",
              "      <th>NoEmp</th>\n",
              "      <td>0.0</td>\n",
              "      <td>0.0</td>\n",
              "      <td>0.0</td>\n",
              "      <td>0.0</td>\n",
              "      <td>0.0</td>\n",
              "      <td>0.0</td>\n",
              "      <td>0.0</td>\n",
              "      <td>0.0</td>\n",
              "      <td>0.0</td>\n",
              "      <td>0.0</td>\n",
              "      <td>0.0</td>\n",
              "    </tr>\n",
              "    <tr>\n",
              "      <th>CreateJob</th>\n",
              "      <td>0.0</td>\n",
              "      <td>0.0</td>\n",
              "      <td>0.0</td>\n",
              "      <td>0.0</td>\n",
              "      <td>0.0</td>\n",
              "      <td>0.0</td>\n",
              "      <td>0.0</td>\n",
              "      <td>0.0</td>\n",
              "      <td>0.0</td>\n",
              "      <td>0.0</td>\n",
              "      <td>0.0</td>\n",
              "    </tr>\n",
              "    <tr>\n",
              "      <th>RetainedJob</th>\n",
              "      <td>0.0</td>\n",
              "      <td>0.0</td>\n",
              "      <td>0.0</td>\n",
              "      <td>0.0</td>\n",
              "      <td>0.0</td>\n",
              "      <td>0.0</td>\n",
              "      <td>0.0</td>\n",
              "      <td>1.0</td>\n",
              "      <td>0.0</td>\n",
              "      <td>0.0</td>\n",
              "      <td>0.0</td>\n",
              "    </tr>\n",
              "    <tr>\n",
              "      <th>FranchiseCode</th>\n",
              "      <td>0.0</td>\n",
              "      <td>0.0</td>\n",
              "      <td>0.0</td>\n",
              "      <td>0.0</td>\n",
              "      <td>0.0</td>\n",
              "      <td>0.0</td>\n",
              "      <td>1.0</td>\n",
              "      <td>0.0</td>\n",
              "      <td>0.0</td>\n",
              "      <td>0.0</td>\n",
              "      <td>0.0</td>\n",
              "    </tr>\n",
              "    <tr>\n",
              "      <th>UrbanRural</th>\n",
              "      <td>0.0</td>\n",
              "      <td>0.0</td>\n",
              "      <td>0.0</td>\n",
              "      <td>0.0</td>\n",
              "      <td>0.0</td>\n",
              "      <td>0.0</td>\n",
              "      <td>0.0</td>\n",
              "      <td>0.0</td>\n",
              "      <td>0.0</td>\n",
              "      <td>0.0</td>\n",
              "      <td>0.0</td>\n",
              "    </tr>\n",
              "    <tr>\n",
              "      <th>RevLineCr</th>\n",
              "      <td>0.0</td>\n",
              "      <td>0.0</td>\n",
              "      <td>0.0</td>\n",
              "      <td>0.0</td>\n",
              "      <td>0.0</td>\n",
              "      <td>0.0</td>\n",
              "      <td>0.0</td>\n",
              "      <td>0.0</td>\n",
              "      <td>0.0</td>\n",
              "      <td>0.0</td>\n",
              "      <td>0.0</td>\n",
              "    </tr>\n",
              "    <tr>\n",
              "      <th>LowDoc</th>\n",
              "      <td>0.0</td>\n",
              "      <td>0.0</td>\n",
              "      <td>0.0</td>\n",
              "      <td>0.0</td>\n",
              "      <td>0.0</td>\n",
              "      <td>0.0</td>\n",
              "      <td>0.0</td>\n",
              "      <td>0.0</td>\n",
              "      <td>0.0</td>\n",
              "      <td>0.0</td>\n",
              "      <td>0.0</td>\n",
              "    </tr>\n",
              "  </tbody>\n",
              "</table>\n",
              "</div>\n",
              "      <button class=\"colab-df-convert\" onclick=\"convertToInteractive('df-af986e20-338d-4295-9c3b-fc96da3365a2')\"\n",
              "              title=\"Convert this dataframe to an interactive table.\"\n",
              "              style=\"display:none;\">\n",
              "        \n",
              "  <svg xmlns=\"http://www.w3.org/2000/svg\" height=\"24px\"viewBox=\"0 0 24 24\"\n",
              "       width=\"24px\">\n",
              "    <path d=\"M0 0h24v24H0V0z\" fill=\"none\"/>\n",
              "    <path d=\"M18.56 5.44l.94 2.06.94-2.06 2.06-.94-2.06-.94-.94-2.06-.94 2.06-2.06.94zm-11 1L8.5 8.5l.94-2.06 2.06-.94-2.06-.94L8.5 2.5l-.94 2.06-2.06.94zm10 10l.94 2.06.94-2.06 2.06-.94-2.06-.94-.94-2.06-.94 2.06-2.06.94z\"/><path d=\"M17.41 7.96l-1.37-1.37c-.4-.4-.92-.59-1.43-.59-.52 0-1.04.2-1.43.59L10.3 9.45l-7.72 7.72c-.78.78-.78 2.05 0 2.83L4 21.41c.39.39.9.59 1.41.59.51 0 1.02-.2 1.41-.59l7.78-7.78 2.81-2.81c.8-.78.8-2.07 0-2.86zM5.41 20L4 18.59l7.72-7.72 1.47 1.35L5.41 20z\"/>\n",
              "  </svg>\n",
              "      </button>\n",
              "      \n",
              "  <style>\n",
              "    .colab-df-container {\n",
              "      display:flex;\n",
              "      flex-wrap:wrap;\n",
              "      gap: 12px;\n",
              "    }\n",
              "\n",
              "    .colab-df-convert {\n",
              "      background-color: #E8F0FE;\n",
              "      border: none;\n",
              "      border-radius: 50%;\n",
              "      cursor: pointer;\n",
              "      display: none;\n",
              "      fill: #1967D2;\n",
              "      height: 32px;\n",
              "      padding: 0 0 0 0;\n",
              "      width: 32px;\n",
              "    }\n",
              "\n",
              "    .colab-df-convert:hover {\n",
              "      background-color: #E2EBFA;\n",
              "      box-shadow: 0px 1px 2px rgba(60, 64, 67, 0.3), 0px 1px 3px 1px rgba(60, 64, 67, 0.15);\n",
              "      fill: #174EA6;\n",
              "    }\n",
              "\n",
              "    [theme=dark] .colab-df-convert {\n",
              "      background-color: #3B4455;\n",
              "      fill: #D2E3FC;\n",
              "    }\n",
              "\n",
              "    [theme=dark] .colab-df-convert:hover {\n",
              "      background-color: #434B5C;\n",
              "      box-shadow: 0px 1px 3px 1px rgba(0, 0, 0, 0.15);\n",
              "      filter: drop-shadow(0px 1px 2px rgba(0, 0, 0, 0.3));\n",
              "      fill: #FFFFFF;\n",
              "    }\n",
              "  </style>\n",
              "\n",
              "      <script>\n",
              "        const buttonEl =\n",
              "          document.querySelector('#df-af986e20-338d-4295-9c3b-fc96da3365a2 button.colab-df-convert');\n",
              "        buttonEl.style.display =\n",
              "          google.colab.kernel.accessAllowed ? 'block' : 'none';\n",
              "\n",
              "        async function convertToInteractive(key) {\n",
              "          const element = document.querySelector('#df-af986e20-338d-4295-9c3b-fc96da3365a2');\n",
              "          const dataTable =\n",
              "            await google.colab.kernel.invokeFunction('convertToInteractive',\n",
              "                                                     [key], {});\n",
              "          if (!dataTable) return;\n",
              "\n",
              "          const docLinkHtml = 'Like what you see? Visit the ' +\n",
              "            '<a target=\"_blank\" href=https://colab.research.google.com/notebooks/data_table.ipynb>data table notebook</a>'\n",
              "            + ' to learn more about interactive tables.';\n",
              "          element.innerHTML = '';\n",
              "          dataTable['output_type'] = 'display_data';\n",
              "          await google.colab.output.renderOutput(dataTable, element);\n",
              "          const docLink = document.createElement('div');\n",
              "          docLink.innerHTML = docLinkHtml;\n",
              "          element.appendChild(docLink);\n",
              "        }\n",
              "      </script>\n",
              "    </div>\n",
              "  </div>\n",
              "  "
            ],
            "text/plain": [
              "               State  Bank  BankState  NAICS  NoEmp  CreateJob  RetainedJob  \\\n",
              "State            0.0   0.0        0.0    0.0    0.0        0.0          0.0   \n",
              "Bank             0.0   0.0        0.0    0.0    0.0        0.0          0.0   \n",
              "BankState        0.0   0.0        0.0    0.0    0.0        0.0          0.0   \n",
              "NAICS            0.0   0.0        0.0    0.0    0.0        0.0          0.0   \n",
              "NoEmp            0.0   0.0        0.0    0.0    0.0        0.0          0.0   \n",
              "CreateJob        0.0   0.0        0.0    0.0    0.0        0.0          0.0   \n",
              "RetainedJob      0.0   0.0        0.0    0.0    0.0        0.0          0.0   \n",
              "FranchiseCode    0.0   0.0        0.0    0.0    0.0        0.0          1.0   \n",
              "UrbanRural       0.0   0.0        0.0    0.0    0.0        0.0          0.0   \n",
              "RevLineCr        0.0   0.0        0.0    0.0    0.0        0.0          0.0   \n",
              "LowDoc           0.0   0.0        0.0    0.0    0.0        0.0          0.0   \n",
              "\n",
              "               FranchiseCode  UrbanRural  RevLineCr  LowDoc  \n",
              "State                    0.0         0.0        0.0     0.0  \n",
              "Bank                     0.0         0.0        0.0     0.0  \n",
              "BankState                0.0         0.0        0.0     0.0  \n",
              "NAICS                    0.0         0.0        0.0     0.0  \n",
              "NoEmp                    0.0         0.0        0.0     0.0  \n",
              "CreateJob                0.0         0.0        0.0     0.0  \n",
              "RetainedJob              1.0         0.0        0.0     0.0  \n",
              "FranchiseCode            0.0         0.0        0.0     0.0  \n",
              "UrbanRural               0.0         0.0        0.0     0.0  \n",
              "RevLineCr                0.0         0.0        0.0     0.0  \n",
              "LowDoc                   0.0         0.0        0.0     0.0  "
            ]
          },
          "execution_count": 49,
          "metadata": {},
          "output_type": "execute_result"
        }
      ],
      "source": [
        "df.head(11)"
      ],
      "id": "WnUchehWHilu"
    },
    {
      "cell_type": "code",
      "execution_count": null,
      "metadata": {
        "colab": {
          "base_uri": "https://localhost:8080/",
          "height": 534
        },
        "id": "Bj8gAezcIgpy",
        "outputId": "8a4f65c3-8a49-4e7b-b65e-44283fe4e46c"
      },
      "outputs": [
        {
          "data": {
            "text/plain": [
              "<Axes: >"
            ]
          },
          "execution_count": 50,
          "metadata": {},
          "output_type": "execute_result"
        },
        {
          "data": {
            "image/png": "[encoded data removed]",
            "text/plain": [
              "<Figure size 640x480 with 2 Axes>"
            ]
          },
          "metadata": {},
          "output_type": "display_data"
        }
      ],
      "source": [
        "sns.heatmap(df, annot=True, vmin=0, vmax=.49, center=0, square=True, linewidths=.5)"
      ],
      "id": "Bj8gAezcIgpy"
    },
    {
      "cell_type": "markdown",
      "metadata": {
        "id": "NpMGW7L1LCuZ"
      },
      "source": [
        "With chi2 test all categorical variables are dependent. But it may be because of any confounding variables or other factors. So i will not drop any variable by this analysis\n",
        "Now i will do how the my loan amount, default status changes with my categorical variables"
      ],
      "id": "NpMGW7L1LCuZ"
    },
    {
      "cell_type": "code",
      "execution_count": null,
      "metadata": {
        "id": "ENnlKvAVQD7M"
      },
      "outputs": [],
      "source": [
        "data['bank_customer_state']=np.where(data['BankState']==data['State'],1,0)\n",
        "# if will form a new column to check if the bank state is same state does it have any impact on default. as being in one state can align their policies and should reduce default"
      ],
      "id": "ENnlKvAVQD7M"
    },
    {
      "cell_type": "code",
      "execution_count": null,
      "metadata": {
        "colab": {
          "base_uri": "https://localhost:8080/",
          "height": 444
        },
        "id": "F6suQtaFpUSS",
        "outputId": "8cc84075-9f71-4e76-da12-e48c139eb9dc"
      },
      "outputs": [
        {
          "data": {
            "text/html": [
              "\n",
              "  <div id=\"df-96faeff2-4857-445a-8195-c2daf1db5a32\">\n",
              "    <div class=\"colab-df-container\">\n",
              "      <div>\n",
              "<style scoped>\n",
              "    .dataframe tbody tr th:only-of-type {\n",
              "        vertical-align: middle;\n",
              "    }\n",
              "\n",
              "    .dataframe tbody tr th {\n",
              "        vertical-align: top;\n",
              "    }\n",
              "\n",
              "    .dataframe thead th {\n",
              "        text-align: right;\n",
              "    }\n",
              "</style>\n",
              "<table border=\"1\" class=\"dataframe\">\n",
              "  <thead>\n",
              "    <tr style=\"text-align: right;\">\n",
              "      <th></th>\n",
              "      <th>City</th>\n",
              "      <th>State</th>\n",
              "      <th>Zip</th>\n",
              "      <th>Bank</th>\n",
              "      <th>BankState</th>\n",
              "      <th>NAICS</th>\n",
              "      <th>NoEmp</th>\n",
              "      <th>NewExist</th>\n",
              "      <th>CreateJob</th>\n",
              "      <th>RetainedJob</th>\n",
              "      <th>FranchiseCode</th>\n",
              "      <th>UrbanRural</th>\n",
              "      <th>RevLineCr</th>\n",
              "      <th>LowDoc</th>\n",
              "      <th>DisbursementGross</th>\n",
              "      <th>BalanceGross</th>\n",
              "      <th>GrAppv</th>\n",
              "      <th>SBA_Appv</th>\n",
              "      <th>MIS_Status</th>\n",
              "      <th>bank_customer_state</th>\n",
              "    </tr>\n",
              "  </thead>\n",
              "  <tbody>\n",
              "    <tr>\n",
              "      <th>274390</th>\n",
              "      <td>COVENTRY</td>\n",
              "      <td>RI</td>\n",
              "      <td>2816</td>\n",
              "      <td>CITIZENS BANK NATL ASSOC</td>\n",
              "      <td>RI</td>\n",
              "      <td>235510</td>\n",
              "      <td>6</td>\n",
              "      <td>1.0</td>\n",
              "      <td>0</td>\n",
              "      <td>0</td>\n",
              "      <td>1</td>\n",
              "      <td>0</td>\n",
              "      <td>0</td>\n",
              "      <td>N</td>\n",
              "      <td>50000.0</td>\n",
              "      <td>0.0</td>\n",
              "      <td>50000.0</td>\n",
              "      <td>25000.0</td>\n",
              "      <td>0.0</td>\n",
              "      <td>1</td>\n",
              "    </tr>\n",
              "    <tr>\n",
              "      <th>654005</th>\n",
              "      <td>LOS ANGELES</td>\n",
              "      <td>CA</td>\n",
              "      <td>90014</td>\n",
              "      <td>BANK OF AMERICA CALIFORNIA N.A</td>\n",
              "      <td>CA</td>\n",
              "      <td>0</td>\n",
              "      <td>1</td>\n",
              "      <td>1.0</td>\n",
              "      <td>0</td>\n",
              "      <td>0</td>\n",
              "      <td>1</td>\n",
              "      <td>0</td>\n",
              "      <td>0</td>\n",
              "      <td>N</td>\n",
              "      <td>20000.0</td>\n",
              "      <td>0.0</td>\n",
              "      <td>20000.0</td>\n",
              "      <td>10000.0</td>\n",
              "      <td>0.0</td>\n",
              "      <td>1</td>\n",
              "    </tr>\n",
              "    <tr>\n",
              "      <th>498404</th>\n",
              "      <td>NORTH HOLLYWOOD</td>\n",
              "      <td>CA</td>\n",
              "      <td>91605</td>\n",
              "      <td>MISSION VALLEY BANK</td>\n",
              "      <td>CA</td>\n",
              "      <td>812320</td>\n",
              "      <td>10</td>\n",
              "      <td>1.0</td>\n",
              "      <td>3</td>\n",
              "      <td>10</td>\n",
              "      <td>1</td>\n",
              "      <td>1</td>\n",
              "      <td>T</td>\n",
              "      <td>N</td>\n",
              "      <td>140275.0</td>\n",
              "      <td>0.0</td>\n",
              "      <td>75000.0</td>\n",
              "      <td>37500.0</td>\n",
              "      <td>0.0</td>\n",
              "      <td>1</td>\n",
              "    </tr>\n",
              "    <tr>\n",
              "      <th>725094</th>\n",
              "      <td>WILLISTON</td>\n",
              "      <td>VT</td>\n",
              "      <td>5495</td>\n",
              "      <td>KEYBANK NATIONAL ASSOCIATION</td>\n",
              "      <td>VT</td>\n",
              "      <td>441110</td>\n",
              "      <td>20</td>\n",
              "      <td>1.0</td>\n",
              "      <td>0</td>\n",
              "      <td>0</td>\n",
              "      <td>1</td>\n",
              "      <td>0</td>\n",
              "      <td>N</td>\n",
              "      <td>N</td>\n",
              "      <td>300000.0</td>\n",
              "      <td>0.0</td>\n",
              "      <td>300000.0</td>\n",
              "      <td>255000.0</td>\n",
              "      <td>0.0</td>\n",
              "      <td>1</td>\n",
              "    </tr>\n",
              "    <tr>\n",
              "      <th>665779</th>\n",
              "      <td>FRESNO</td>\n",
              "      <td>CA</td>\n",
              "      <td>93720</td>\n",
              "      <td>CALIFORNIA BANK &amp; TRUST</td>\n",
              "      <td>CA</td>\n",
              "      <td>0</td>\n",
              "      <td>2</td>\n",
              "      <td>1.0</td>\n",
              "      <td>2</td>\n",
              "      <td>0</td>\n",
              "      <td>1</td>\n",
              "      <td>0</td>\n",
              "      <td>0</td>\n",
              "      <td>N</td>\n",
              "      <td>55000.0</td>\n",
              "      <td>0.0</td>\n",
              "      <td>55000.0</td>\n",
              "      <td>44000.0</td>\n",
              "      <td>0.0</td>\n",
              "      <td>1</td>\n",
              "    </tr>\n",
              "  </tbody>\n",
              "</table>\n",
              "</div>\n",
              "      <button class=\"colab-df-convert\" onclick=\"convertToInteractive('df-96faeff2-4857-445a-8195-c2daf1db5a32')\"\n",
              "              title=\"Convert this dataframe to an interactive table.\"\n",
              "              style=\"display:none;\">\n",
              "        \n",
              "  <svg xmlns=\"http://www.w3.org/2000/svg\" height=\"24px\"viewBox=\"0 0 24 24\"\n",
              "       width=\"24px\">\n",
              "    <path d=\"M0 0h24v24H0V0z\" fill=\"none\"/>\n",
              "    <path d=\"M18.56 5.44l.94 2.06.94-2.06 2.06-.94-2.06-.94-.94-2.06-.94 2.06-2.06.94zm-11 1L8.5 8.5l.94-2.06 2.06-.94-2.06-.94L8.5 2.5l-.94 2.06-2.06.94zm10 10l.94 2.06.94-2.06 2.06-.94-2.06-.94-.94-2.06-.94 2.06-2.06.94z\"/><path d=\"M17.41 7.96l-1.37-1.37c-.4-.4-.92-.59-1.43-.59-.52 0-1.04.2-1.43.59L10.3 9.45l-7.72 7.72c-.78.78-.78 2.05 0 2.83L4 21.41c.39.39.9.59 1.41.59.51 0 1.02-.2 1.41-.59l7.78-7.78 2.81-2.81c.8-.78.8-2.07 0-2.86zM5.41 20L4 18.59l7.72-7.72 1.47 1.35L5.41 20z\"/>\n",
              "  </svg>\n",
              "      </button>\n",
              "      \n",
              "  <style>\n",
              "    .colab-df-container {\n",
              "      display:flex;\n",
              "      flex-wrap:wrap;\n",
              "      gap: 12px;\n",
              "    }\n",
              "\n",
              "    .colab-df-convert {\n",
              "      background-color: #E8F0FE;\n",
              "      border: none;\n",
              "      border-radius: 50%;\n",
              "      cursor: pointer;\n",
              "      display: none;\n",
              "      fill: #1967D2;\n",
              "      height: 32px;\n",
              "      padding: 0 0 0 0;\n",
              "      width: 32px;\n",
              "    }\n",
              "\n",
              "    .colab-df-convert:hover {\n",
              "      background-color: #E2EBFA;\n",
              "      box-shadow: 0px 1px 2px rgba(60, 64, 67, 0.3), 0px 1px 3px 1px rgba(60, 64, 67, 0.15);\n",
              "      fill: #174EA6;\n",
              "    }\n",
              "\n",
              "    [theme=dark] .colab-df-convert {\n",
              "      background-color: #3B4455;\n",
              "      fill: #D2E3FC;\n",
              "    }\n",
              "\n",
              "    [theme=dark] .colab-df-convert:hover {\n",
              "      background-color: #434B5C;\n",
              "      box-shadow: 0px 1px 3px 1px rgba(0, 0, 0, 0.15);\n",
              "      filter: drop-shadow(0px 1px 2px rgba(0, 0, 0, 0.3));\n",
              "      fill: #FFFFFF;\n",
              "    }\n",
              "  </style>\n",
              "\n",
              "      <script>\n",
              "        const buttonEl =\n",
              "          document.querySelector('#df-96faeff2-4857-445a-8195-c2daf1db5a32 button.colab-df-convert');\n",
              "        buttonEl.style.display =\n",
              "          google.colab.kernel.accessAllowed ? 'block' : 'none';\n",
              "\n",
              "        async function convertToInteractive(key) {\n",
              "          const element = document.querySelector('#df-96faeff2-4857-445a-8195-c2daf1db5a32');\n",
              "          const dataTable =\n",
              "            await google.colab.kernel.invokeFunction('convertToInteractive',\n",
              "                                                     [key], {});\n",
              "          if (!dataTable) return;\n",
              "\n",
              "          const docLinkHtml = 'Like what you see? Visit the ' +\n",
              "            '<a target=\"_blank\" href=https://colab.research.google.com/notebooks/data_table.ipynb>data table notebook</a>'\n",
              "            + ' to learn more about interactive tables.';\n",
              "          element.innerHTML = '';\n",
              "          dataTable['output_type'] = 'display_data';\n",
              "          await google.colab.output.renderOutput(dataTable, element);\n",
              "          const docLink = document.createElement('div');\n",
              "          docLink.innerHTML = docLinkHtml;\n",
              "          element.appendChild(docLink);\n",
              "        }\n",
              "      </script>\n",
              "    </div>\n",
              "  </div>\n",
              "  "
            ],
            "text/plain": [
              "                   City State    Zip                            Bank  \\\n",
              "274390         COVENTRY    RI   2816        CITIZENS BANK NATL ASSOC   \n",
              "654005      LOS ANGELES    CA  90014  BANK OF AMERICA CALIFORNIA N.A   \n",
              "498404  NORTH HOLLYWOOD    CA  91605             MISSION VALLEY BANK   \n",
              "725094        WILLISTON    VT   5495    KEYBANK NATIONAL ASSOCIATION   \n",
              "665779           FRESNO    CA  93720         CALIFORNIA BANK & TRUST   \n",
              "\n",
              "       BankState   NAICS  NoEmp  NewExist  CreateJob  RetainedJob  \\\n",
              "274390        RI  235510      6       1.0          0            0   \n",
              "654005        CA       0      1       1.0          0            0   \n",
              "498404        CA  812320     10       1.0          3           10   \n",
              "725094        VT  441110     20       1.0          0            0   \n",
              "665779        CA       0      2       1.0          2            0   \n",
              "\n",
              "        FranchiseCode  UrbanRural RevLineCr LowDoc  DisbursementGross  \\\n",
              "274390              1           0         0      N            50000.0   \n",
              "654005              1           0         0      N            20000.0   \n",
              "498404              1           1         T      N           140275.0   \n",
              "725094              1           0         N      N           300000.0   \n",
              "665779              1           0         0      N            55000.0   \n",
              "\n",
              "        BalanceGross    GrAppv  SBA_Appv  MIS_Status  bank_customer_state  \n",
              "274390           0.0   50000.0   25000.0         0.0                    1  \n",
              "654005           0.0   20000.0   10000.0         0.0                    1  \n",
              "498404           0.0   75000.0   37500.0         0.0                    1  \n",
              "725094           0.0  300000.0  255000.0         0.0                    1  \n",
              "665779           0.0   55000.0   44000.0         0.0                    1  "
            ]
          },
          "execution_count": 23,
          "metadata": {},
          "output_type": "execute_result"
        }
      ],
      "source": [
        "data.head()"
      ],
      "id": "F6suQtaFpUSS"
    },
    {
      "cell_type": "code",
      "execution_count": null,
      "metadata": {
        "colab": {
          "base_uri": "https://localhost:8080/"
        },
        "id": "E13hu1EUa8C7",
        "outputId": "65e22321-4dfd-4288-9c18-e4671808fcf6"
      },
      "outputs": [
        {
          "data": {
            "text/plain": [
              "City                   0\n",
              "State                  0\n",
              "Zip                    0\n",
              "Bank                   0\n",
              "BankState              0\n",
              "NAICS                  0\n",
              "NoEmp                  0\n",
              "NewExist               0\n",
              "CreateJob              0\n",
              "RetainedJob            0\n",
              "FranchiseCode          0\n",
              "UrbanRural             0\n",
              "RevLineCr              0\n",
              "LowDoc                 0\n",
              "DisbursementGross      0\n",
              "BalanceGross           0\n",
              "GrAppv                 0\n",
              "SBA_Appv               0\n",
              "MIS_Status             0\n",
              "bank_customer_state    0\n",
              "dtype: int64"
            ]
          },
          "execution_count": 24,
          "metadata": {},
          "output_type": "execute_result"
        }
      ],
      "source": [
        "data.isna().sum()"
      ],
      "id": "E13hu1EUa8C7"
    },
    {
      "cell_type": "code",
      "execution_count": null,
      "metadata": {
        "colab": {
          "base_uri": "https://localhost:8080/"
        },
        "id": "prmAaVVeRbor",
        "outputId": "ff47f71e-a32d-4cad-b773-521cda7b5467"
      },
      "outputs": [
        {
          "data": {
            "text/plain": [
              "MIS_Status\n",
              "0.0    532653\n",
              "1.0    113307\n",
              "Name: MIS_Status, dtype: int64"
            ]
          },
          "execution_count": 32,
          "metadata": {},
          "output_type": "execute_result"
        }
      ],
      "source": [
        "data.groupby(\"MIS_Status\")['MIS_Status'].count()"
      ],
      "id": "prmAaVVeRbor"
    },
    {
      "cell_type": "code",
      "execution_count": null,
      "metadata": {
        "colab": {
          "base_uri": "https://localhost:8080/"
        },
        "id": "2iaVvbh7RfMg",
        "outputId": "7d5b7076-2654-4eb5-b0a8-ddee92e93c63"
      },
      "outputs": [
        {
          "name": "stdout",
          "output_type": "stream",
          "text": [
            "MIS_Status\n",
            "0.0    82.459131\n",
            "1.0    17.540869\n",
            "Name: MIS_Status, dtype: float64\n"
          ]
        }
      ],
      "source": [
        "print(data.groupby(\"MIS_Status\")[\"MIS_Status\"].count()*100/data[\"MIS_Status\"].count())"
      ],
      "id": "2iaVvbh7RfMg"
    },
    {
      "cell_type": "markdown",
      "metadata": {
        "id": "GjonlIAyRgnB"
      },
      "source": [
        "It is highly imbalanced data. So i can go for undersampling or oversampling. I can also choose a proper matrix for model evaluation to overcome this imbalance.\n",
        "To overcome this imbalance data problem i will use f1 score for evaluation. "
      ],
      "id": "GjonlIAyRgnB"
    },
    {
      "cell_type": "code",
      "execution_count": null,
      "metadata": {
        "colab": {
          "base_uri": "https://localhost:8080/"
        },
        "id": "DeLFG3lHSSgE",
        "outputId": "34f2fcf9-fa1d-4341-8b4f-d2154cd1b265"
      },
      "outputs": [
        {
          "name": "stdout",
          "output_type": "stream",
          "text": [
            "['N' 'Y' 'Missing' 'S' '0' 'A' 'C' 'R']\n",
            "{'N': 562217, 'Y': 79383, 'Missing': 1909, 'S': 435, '0': 1063, 'A': 351, 'C': 544, 'R': 58}\n",
            "{'N': 87.03588457489627, 'Y': 12.289151031023593, 'Missing': 0.29552913493095545, 'S': 0.0673416310607468, '0': 0.1645612731438479, 'A': 0.05433772989039569, 'C': 0.08421574091275001, 'R': 0.008978884141432907}\n"
          ]
        }
      ],
      "source": [
        "#defaulters in lowdoc\n",
        "print(data.LowDoc.unique())\n",
        "n = pd.unique(data['LowDoc'])\n",
        "d=dict()\n",
        "for i in data.LowDoc:\n",
        "  if i in d.keys():\n",
        "    d[i]+=1\n",
        "  else:\n",
        "    d[i]=1\n",
        "print\n",
        "print(d)\n",
        "for i in d.keys():\n",
        "  d[i]=d[i]*100/(data.shape[0])\n",
        "print(d)\n",
        "#Majority of loan applications has 'Y' or 'N' category other variables are very less in number can be entering error or very few special application cases"
      ],
      "id": "DeLFG3lHSSgE"
    },
    {
      "cell_type": "markdown",
      "metadata": {
        "id": "xEyzvJL4SYW-"
      },
      "source": [
        "I want to check if my default rate more in lowdoc applications and how the loan amount of defaulted cases vary in lowdoc and non lowdoc applications"
      ],
      "id": "xEyzvJL4SYW-"
    },
    {
      "cell_type": "code",
      "execution_count": null,
      "metadata": {
        "colab": {
          "base_uri": "https://localhost:8080/"
        },
        "id": "cSZIharFScl-",
        "outputId": "67f54151-60ae-4519-d1fd-415dc9134db6"
      },
      "outputs": [
        {
          "name": "stdout",
          "output_type": "stream",
          "text": [
            "percentage of defauled cases in low doc applications 9.023342529256894\n",
            "No of defaulted cases in lowdoc cases 7163\n",
            "percentage of non defauled cases in low doc applications 90.9766574707431\n",
            "no of non defauled cases in low doc applications 72220\n"
          ]
        }
      ],
      "source": [
        "df_lowdoc=data[data['LowDoc']=='Y']\n",
        "df_lowdoc_d=df_lowdoc[df_lowdoc['MIS_Status']==1]\n",
        "df_lowdoc_Nd=df_lowdoc[df_lowdoc['MIS_Status']==0]\n",
        "print(f'percentage of defauled cases in low doc applications {df_lowdoc_d.shape[0]*100/df_lowdoc.shape[0]}')\n",
        "print(f'No of defaulted cases in lowdoc cases {df_lowdoc_d.shape[0]}')\n",
        "print(f'percentage of non defauled cases in low doc applications {df_lowdoc_Nd.shape[0]*100/df_lowdoc.shape[0]}')\n",
        "print(f'no of non defauled cases in low doc applications {df_lowdoc_Nd.shape[0]}')"
      ],
      "id": "cSZIharFScl-"
    },
    {
      "cell_type": "code",
      "execution_count": null,
      "metadata": {
        "colab": {
          "base_uri": "https://localhost:8080/"
        },
        "id": "EiSDitOCShcC",
        "outputId": "8d050235-bd90-4e87-85a0-6425a0b0670e"
      },
      "outputs": [
        {
          "name": "stdout",
          "output_type": "stream",
          "text": [
            "percentage of defauled cases in non low doc applications 18.67769606273894\n",
            "number of defauled cases in non low doc applications 131276\n",
            "percentage of non defauled cases in non low doc applications 81.32230393726107\n",
            "non of defauled cases in non low doc applications 571573\n"
          ]
        }
      ],
      "source": [
        "df_lowdoc=data[data['LowDoc']=='N']\n",
        "df_lowdoc_d=df_lowdoc[df_lowdoc['MIS_Status']==1]\n",
        "df_lowdoc_Nd=df_lowdoc[df_lowdoc['MIS_Status']==0]\n",
        "print(f'percentage of defauled cases in non low doc applications {df_lowdoc_d.shape[0]*100/df_lowdoc.shape[0]}')\n",
        "print(f'number of defauled cases in non low doc applications {df_lowdoc_d.shape[0]}')\n",
        "print(f'percentage of non defauled cases in non low doc applications {df_lowdoc_Nd.shape[0]*100/df_lowdoc.shape[0]}')\n",
        "print(f'non of defauled cases in non low doc applications {df_lowdoc_Nd.shape[0]}')\n",
        "#Non low doc applications have higher percentage of defaulted cases"
      ],
      "id": "EiSDitOCShcC"
    },
    {
      "cell_type": "markdown",
      "metadata": {
        "id": "gqrTUy6BSoSK"
      },
      "source": [
        "\n",
        "Now I want to check the average gvr sanctioned loan in lowdoc and non lowdoc laons and then in defaulted and non defaulted cases I will also check if that difference is statistically significant"
      ],
      "id": "gqrTUy6BSoSK"
    },
    {
      "cell_type": "code",
      "execution_count": null,
      "metadata": {
        "colab": {
          "base_uri": "https://localhost:8080/",
          "height": 467
        },
        "id": "wjBruNGeSnkr",
        "outputId": "9755c7bf-4458-4116-8515-81683ac24c29"
      },
      "outputs": [
        {
          "data": {
            "text/plain": [
              "<Axes: xlabel='LowDoc', ylabel='GrAppv'>"
            ]
          },
          "execution_count": 58,
          "metadata": {},
          "output_type": "execute_result"
        },
        {
          "data": {
            "image/png": "[encoded data removed]",
            "text/plain": [
              "<Figure size 640x480 with 1 Axes>"
            ]
          },
          "metadata": {},
          "output_type": "display_data"
        }
      ],
      "source": [
        "data1=data[(data['LowDoc']=='Y') | (data['LowDoc']=='N')]\n",
        "df1=data1.groupby(['LowDoc'])['GrAppv'].mean()\n",
        "df1=df1.reset_index()\n",
        "sns.barplot(x='LowDoc',y='GrAppv',data=df1)\n",
        "#we see that average loan amount that was approved in lowdoc is much less than that was approved with all documents"
      ],
      "id": "wjBruNGeSnkr"
    },
    {
      "cell_type": "code",
      "execution_count": null,
      "metadata": {
        "colab": {
          "base_uri": "https://localhost:8080/",
          "height": 467
        },
        "id": "EXWd_gU2S_Ff",
        "outputId": "19a90f00-d269-4c7f-ed76-1bcbf2ef167c"
      },
      "outputs": [
        {
          "data": {
            "text/plain": [
              "<Axes: xlabel='LowDoc', ylabel='GrAppv'>"
            ]
          },
          "execution_count": 59,
          "metadata": {},
          "output_type": "execute_result"
        },
        {
          "data": {
            "image/png": "[encoded data removed]",
            "text/plain": [
              "<Figure size 640x480 with 1 Axes>"
            ]
          },
          "metadata": {},
          "output_type": "display_data"
        }
      ],
      "source": [
        "data2=data1.groupby(['LowDoc','MIS_Status'])['GrAppv'].mean()\n",
        "data2=data2.reset_index()\n",
        "sns.barplot(x='LowDoc',y='GrAppv',hue='MIS_Status',data=data2)\n",
        "#this mean amount is same in low doc application but differ greatly in non low doc applications"
      ],
      "id": "EXWd_gU2S_Ff"
    },
    {
      "cell_type": "code",
      "execution_count": null,
      "metadata": {
        "colab": {
          "base_uri": "https://localhost:8080/"
        },
        "id": "wsxHZig3TE2J",
        "outputId": "4d65a1b9-c480-42e8-9b88-eeb22d145dd6"
      },
      "outputs": [
        {
          "name": "stdout",
          "output_type": "stream",
          "text": [
            "62.67990712256727\n"
          ]
        }
      ],
      "source": [
        "print(np.var(data1[data1['LowDoc']=='N']['GrAppv'])/np.var(data1[data1['LowDoc']=='Y']['GrAppv']))\n",
        "#unequal variance"
      ],
      "id": "wsxHZig3TE2J"
    },
    {
      "cell_type": "code",
      "execution_count": null,
      "metadata": {
        "colab": {
          "base_uri": "https://localhost:8080/"
        },
        "id": "EpHW2uLxTLCr",
        "outputId": "0e28eca8-7731-4469-aacd-8e852fdd3751"
      },
      "outputs": [
        {
          "data": {
            "text/plain": [
              "Ttest_indResult(statistic=-378.19235128427704, pvalue=0.0)"
            ]
          },
          "execution_count": 61,
          "metadata": {},
          "output_type": "execute_result"
        }
      ],
      "source": [
        "from scipy.stats import ttest_ind\n",
        "ttest_ind(data1[data1['LowDoc']=='Y']['GrAppv'],data1[data1['LowDoc']=='N']['GrAppv'],equal_var=False)\n",
        "#it is statistically different"
      ],
      "id": "EpHW2uLxTLCr"
    },
    {
      "cell_type": "code",
      "execution_count": null,
      "metadata": {
        "colab": {
          "base_uri": "https://localhost:8080/"
        },
        "id": "UDOdCkIgTRoD",
        "outputId": "a659b430-c676-4f4e-99c9-10cfe721137f"
      },
      "outputs": [
        {
          "name": "stdout",
          "output_type": "stream",
          "text": [
            "1.9958809404258602\n"
          ]
        }
      ],
      "source": [
        "data2=data1[data1['LowDoc']=='N']\n",
        "print(np.var(data2[data2['MIS_Status']==0]['GrAppv'])/np.var(data2[data2['MIS_Status']==1]['GrAppv']))\n",
        "#Equal variance"
      ],
      "id": "UDOdCkIgTRoD"
    },
    {
      "cell_type": "code",
      "execution_count": null,
      "metadata": {
        "colab": {
          "base_uri": "https://localhost:8080/"
        },
        "id": "V4mAF4DqTYwh",
        "outputId": "80a2d40c-efe9-4ec3-9385-0dae907c842a"
      },
      "outputs": [
        {
          "data": {
            "text/plain": [
              "Ttest_indResult(statistic=120.17970294133819, pvalue=0.0)"
            ]
          },
          "execution_count": 63,
          "metadata": {},
          "output_type": "execute_result"
        }
      ],
      "source": [
        "ttest_ind(data2[data2['MIS_Status']==0]['GrAppv'],data2[data2['MIS_Status']==1]['GrAppv'],alternative='greater')\n",
        "#they are statistically significant"
      ],
      "id": "V4mAF4DqTYwh"
    },
    {
      "cell_type": "code",
      "execution_count": null,
      "metadata": {
        "colab": {
          "base_uri": "https://localhost:8080/",
          "height": 467
        },
        "id": "RkXO717pTk1d",
        "outputId": "53b1de2e-cde8-47f4-9d2e-30f5cdc25fc0"
      },
      "outputs": [
        {
          "data": {
            "text/plain": [
              "<Axes: xlabel='MIS_Status', ylabel='GrAppv'>"
            ]
          },
          "execution_count": 65,
          "metadata": {},
          "output_type": "execute_result"
        },
        {
          "data": {
            "image/png": "[encoded data removed]",
            "text/plain": [
              "<Figure size 640x480 with 1 Axes>"
            ]
          },
          "metadata": {},
          "output_type": "display_data"
        }
      ],
      "source": [
        "data5=data2.groupby(['MIS_Status','NewExist'])['GrAppv'].mean()\n",
        "data5=data5.reset_index()\n",
        "sns.barplot(x='MIS_Status',y='GrAppv',hue='NewExist',data=data5)\n",
        "#average loan amount is almost same for both existing and non existing in both default and non default"
      ],
      "id": "RkXO717pTk1d"
    },
    {
      "cell_type": "code",
      "execution_count": null,
      "metadata": {
        "colab": {
          "base_uri": "https://localhost:8080/",
          "height": 467
        },
        "id": "z8WpEFyUTtV7",
        "outputId": "b7d4f4a3-709d-4969-950a-4cb78b1fb56d"
      },
      "outputs": [
        {
          "data": {
            "text/plain": [
              "<Axes: xlabel='MIS_Status', ylabel='GrAppv'>"
            ]
          },
          "execution_count": 66,
          "metadata": {},
          "output_type": "execute_result"
        },
        {
          "data": {
            "image/png": "[encoded data removed]",
            "text/plain": [
              "<Figure size 640x480 with 1 Axes>"
            ]
          },
          "metadata": {},
          "output_type": "display_data"
        }
      ],
      "source": [
        "data5=data2.groupby(['MIS_Status','NewExist'])['GrAppv'].count()\n",
        "data5=data5.reset_index()\n",
        "sns.barplot(x='MIS_Status',y='GrAppv',hue='NewExist',data=data5)\n",
        "# In both categories more no of applications are for new firms"
      ],
      "id": "z8WpEFyUTtV7"
    },
    {
      "cell_type": "code",
      "execution_count": null,
      "metadata": {
        "colab": {
          "base_uri": "https://localhost:8080/"
        },
        "id": "-ikDRYkZT1F4",
        "outputId": "90859ec7-04b3-4c75-d380-3c58248c25ba"
      },
      "outputs": [
        {
          "name": "stdout",
          "output_type": "stream",
          "text": [
            "1.159544973944027\n"
          ]
        }
      ],
      "source": [
        "data3=data1[data1['LowDoc']=='Y']\n",
        "print(np.var(data3[data3['MIS_Status']==1]['GrAppv'])/np.var(data3[data3['MIS_Status']==0]['GrAppv']))"
      ],
      "id": "-ikDRYkZT1F4"
    },
    {
      "cell_type": "code",
      "execution_count": null,
      "metadata": {
        "colab": {
          "base_uri": "https://localhost:8080/",
          "height": 467
        },
        "id": "dZsNdTzIT8l9",
        "outputId": "c6baaf5e-6b0b-4a9f-978c-573bcb5f5491"
      },
      "outputs": [
        {
          "data": {
            "text/plain": [
              "<Axes: xlabel='MIS_Status', ylabel='GrAppv'>"
            ]
          },
          "execution_count": 68,
          "metadata": {},
          "output_type": "execute_result"
        },
        {
          "data": {
            "image/png": "[encoded data removed]",
            "text/plain": [
              "<Figure size 640x480 with 1 Axes>"
            ]
          },
          "metadata": {},
          "output_type": "display_data"
        }
      ],
      "source": [
        "data4=data3.groupby(['MIS_Status','NewExist'])['GrAppv'].mean()\n",
        "data4=data4.reset_index()\n",
        "sns.barplot(x='MIS_Status',y='GrAppv',hue='NewExist',data=data4)\n",
        "#No difference in average loan I want to see count of numbers"
      ],
      "id": "dZsNdTzIT8l9"
    },
    {
      "cell_type": "code",
      "execution_count": null,
      "metadata": {
        "colab": {
          "base_uri": "https://localhost:8080/",
          "height": 469
        },
        "id": "9iCupS-gUD14",
        "outputId": "5e12d6f5-8716-4a7f-ec56-09a253b23a5f"
      },
      "outputs": [
        {
          "data": {
            "text/plain": [
              "<Axes: xlabel='MIS_Status', ylabel='GrAppv'>"
            ]
          },
          "execution_count": 69,
          "metadata": {},
          "output_type": "execute_result"
        },
        {
          "data": {
            "image/png": "[encoded data removed]",
            "text/plain": [
              "<Figure size 640x480 with 1 Axes>"
            ]
          },
          "metadata": {},
          "output_type": "display_data"
        }
      ],
      "source": [
        "data4=data3.groupby(['MIS_Status','NewExist'])['GrAppv'].count()\n",
        "data4=data4.reset_index()\n",
        "sns.barplot(x='MIS_Status',y='GrAppv',hue='NewExist',data=data4)\n",
        "#count is also same so we cannot decide on basis if the new or not for lowdoc application"
      ],
      "id": "9iCupS-gUD14"
    },
    {
      "cell_type": "code",
      "execution_count": null,
      "metadata": {
        "colab": {
          "base_uri": "https://localhost:8080/"
        },
        "id": "u70d4XN8ULvY",
        "outputId": "af301c56-b45b-4717-b33d-8e431bb88bf0"
      },
      "outputs": [
        {
          "data": {
            "text/plain": [
              "Ttest_indResult(statistic=-30.1582304102937, pvalue=3.33734374086086e-199)"
            ]
          },
          "execution_count": 70,
          "metadata": {},
          "output_type": "execute_result"
        }
      ],
      "source": [
        "ttest_ind(data3[data3['MIS_Status']==0]['GrAppv'],data3[data3['MIS_Status']==1]['GrAppv'],alternative='less')\n",
        "#so non defaulter mean loan amount is less in lowdoc loan"
      ],
      "id": "u70d4XN8ULvY"
    },
    {
      "cell_type": "code",
      "execution_count": null,
      "metadata": {
        "colab": {
          "base_uri": "https://localhost:8080/",
          "height": 743
        },
        "id": "EgCgMEyUU_a2",
        "outputId": "30f9232d-773e-49e6-a7c7-839a7b26623d"
      },
      "outputs": [
        {
          "data": {
            "text/plain": [
              "<Axes: xlabel='GrAppv', ylabel='Count'>"
            ]
          },
          "execution_count": 77,
          "metadata": {},
          "output_type": "execute_result"
        },
        {
          "data": {
            "image/png": "[encoded data removed]",
            "text/plain": [
              "<Figure size 1170x827 with 1 Axes>"
            ]
          },
          "metadata": {},
          "output_type": "display_data"
        }
      ],
      "source": [
        "sns.set(rc={'figure.figsize':(11.7,8.27)})\n",
        "sns.histplot(data=data1[data1['LowDoc']=='Y'],x=np.log(data1[data1['LowDoc']=='Y'].GrAppv))"
      ],
      "id": "EgCgMEyUU_a2"
    },
    {
      "cell_type": "code",
      "execution_count": null,
      "metadata": {
        "colab": {
          "base_uri": "https://localhost:8080/",
          "height": 743
        },
        "id": "lbOjHweEVOva",
        "outputId": "4ee361ea-c62e-4c72-da99-704d76121786"
      },
      "outputs": [
        {
          "data": {
            "text/plain": [
              "<Axes: xlabel='LowDoc', ylabel='GrAppv'>"
            ]
          },
          "execution_count": 78,
          "metadata": {},
          "output_type": "execute_result"
        },
        {
          "data": {
            "image/png": "[encoded data removed]",
            "text/plain": [
              "<Figure size 1170x827 with 1 Axes>"
            ]
          },
          "metadata": {},
          "output_type": "display_data"
        }
      ],
      "source": [
        "df1=data1.groupby(['MIS_Status','LowDoc'])['GrAppv'].mean()\n",
        "df1=df1.reset_index()\n",
        "sns.barplot(x='LowDoc',y='GrAppv',hue='MIS_Status',data=df1)"
      ],
      "id": "lbOjHweEVOva"
    },
    {
      "cell_type": "code",
      "execution_count": null,
      "metadata": {
        "colab": {
          "base_uri": "https://localhost:8080/",
          "height": 444
        },
        "id": "Dk9mGxSJWbFT",
        "outputId": "785596d1-0c21-4368-a62d-95b58a92ef92"
      },
      "outputs": [
        {
          "data": {
            "text/html": [
              "\n",
              "  <div id=\"df-bdf88fae-8c2d-46db-85f0-670fb1eb6fec\">\n",
              "    <div class=\"colab-df-container\">\n",
              "      <div>\n",
              "<style scoped>\n",
              "    .dataframe tbody tr th:only-of-type {\n",
              "        vertical-align: middle;\n",
              "    }\n",
              "\n",
              "    .dataframe tbody tr th {\n",
              "        vertical-align: top;\n",
              "    }\n",
              "\n",
              "    .dataframe thead th {\n",
              "        text-align: right;\n",
              "    }\n",
              "</style>\n",
              "<table border=\"1\" class=\"dataframe\">\n",
              "  <thead>\n",
              "    <tr style=\"text-align: right;\">\n",
              "      <th></th>\n",
              "      <th>City</th>\n",
              "      <th>State</th>\n",
              "      <th>Zip</th>\n",
              "      <th>Bank</th>\n",
              "      <th>BankState</th>\n",
              "      <th>NAICS</th>\n",
              "      <th>NoEmp</th>\n",
              "      <th>NewExist</th>\n",
              "      <th>CreateJob</th>\n",
              "      <th>RetainedJob</th>\n",
              "      <th>FranchiseCode</th>\n",
              "      <th>UrbanRural</th>\n",
              "      <th>RevLineCr</th>\n",
              "      <th>LowDoc</th>\n",
              "      <th>DisbursementGross</th>\n",
              "      <th>BalanceGross</th>\n",
              "      <th>GrAppv</th>\n",
              "      <th>SBA_Appv</th>\n",
              "      <th>MIS_Status</th>\n",
              "      <th>bank_customer_state</th>\n",
              "    </tr>\n",
              "  </thead>\n",
              "  <tbody>\n",
              "    <tr>\n",
              "      <th>274390</th>\n",
              "      <td>COVENTRY</td>\n",
              "      <td>RI</td>\n",
              "      <td>2816</td>\n",
              "      <td>CITIZENS BANK NATL ASSOC</td>\n",
              "      <td>RI</td>\n",
              "      <td>235510</td>\n",
              "      <td>6</td>\n",
              "      <td>1.0</td>\n",
              "      <td>0</td>\n",
              "      <td>0</td>\n",
              "      <td>1</td>\n",
              "      <td>0</td>\n",
              "      <td>0</td>\n",
              "      <td>N</td>\n",
              "      <td>50000.0</td>\n",
              "      <td>0.0</td>\n",
              "      <td>50000.0</td>\n",
              "      <td>25000.0</td>\n",
              "      <td>0.0</td>\n",
              "      <td>1</td>\n",
              "    </tr>\n",
              "    <tr>\n",
              "      <th>654005</th>\n",
              "      <td>LOS ANGELES</td>\n",
              "      <td>CA</td>\n",
              "      <td>90014</td>\n",
              "      <td>BANK OF AMERICA CALIFORNIA N.A</td>\n",
              "      <td>CA</td>\n",
              "      <td>0</td>\n",
              "      <td>1</td>\n",
              "      <td>1.0</td>\n",
              "      <td>0</td>\n",
              "      <td>0</td>\n",
              "      <td>1</td>\n",
              "      <td>0</td>\n",
              "      <td>0</td>\n",
              "      <td>N</td>\n",
              "      <td>20000.0</td>\n",
              "      <td>0.0</td>\n",
              "      <td>20000.0</td>\n",
              "      <td>10000.0</td>\n",
              "      <td>0.0</td>\n",
              "      <td>1</td>\n",
              "    </tr>\n",
              "    <tr>\n",
              "      <th>498404</th>\n",
              "      <td>NORTH HOLLYWOOD</td>\n",
              "      <td>CA</td>\n",
              "      <td>91605</td>\n",
              "      <td>MISSION VALLEY BANK</td>\n",
              "      <td>CA</td>\n",
              "      <td>812320</td>\n",
              "      <td>10</td>\n",
              "      <td>1.0</td>\n",
              "      <td>3</td>\n",
              "      <td>10</td>\n",
              "      <td>1</td>\n",
              "      <td>1</td>\n",
              "      <td>T</td>\n",
              "      <td>N</td>\n",
              "      <td>140275.0</td>\n",
              "      <td>0.0</td>\n",
              "      <td>75000.0</td>\n",
              "      <td>37500.0</td>\n",
              "      <td>0.0</td>\n",
              "      <td>1</td>\n",
              "    </tr>\n",
              "    <tr>\n",
              "      <th>725094</th>\n",
              "      <td>WILLISTON</td>\n",
              "      <td>VT</td>\n",
              "      <td>5495</td>\n",
              "      <td>KEYBANK NATIONAL ASSOCIATION</td>\n",
              "      <td>VT</td>\n",
              "      <td>441110</td>\n",
              "      <td>20</td>\n",
              "      <td>1.0</td>\n",
              "      <td>0</td>\n",
              "      <td>0</td>\n",
              "      <td>1</td>\n",
              "      <td>0</td>\n",
              "      <td>N</td>\n",
              "      <td>N</td>\n",
              "      <td>300000.0</td>\n",
              "      <td>0.0</td>\n",
              "      <td>300000.0</td>\n",
              "      <td>255000.0</td>\n",
              "      <td>0.0</td>\n",
              "      <td>1</td>\n",
              "    </tr>\n",
              "    <tr>\n",
              "      <th>665779</th>\n",
              "      <td>FRESNO</td>\n",
              "      <td>CA</td>\n",
              "      <td>93720</td>\n",
              "      <td>CALIFORNIA BANK &amp; TRUST</td>\n",
              "      <td>CA</td>\n",
              "      <td>0</td>\n",
              "      <td>2</td>\n",
              "      <td>1.0</td>\n",
              "      <td>2</td>\n",
              "      <td>0</td>\n",
              "      <td>1</td>\n",
              "      <td>0</td>\n",
              "      <td>0</td>\n",
              "      <td>N</td>\n",
              "      <td>55000.0</td>\n",
              "      <td>0.0</td>\n",
              "      <td>55000.0</td>\n",
              "      <td>44000.0</td>\n",
              "      <td>0.0</td>\n",
              "      <td>1</td>\n",
              "    </tr>\n",
              "  </tbody>\n",
              "</table>\n",
              "</div>\n",
              "      <button class=\"colab-df-convert\" onclick=\"convertToInteractive('df-bdf88fae-8c2d-46db-85f0-670fb1eb6fec')\"\n",
              "              title=\"Convert this dataframe to an interactive table.\"\n",
              "              style=\"display:none;\">\n",
              "        \n",
              "  <svg xmlns=\"http://www.w3.org/2000/svg\" height=\"24px\"viewBox=\"0 0 24 24\"\n",
              "       width=\"24px\">\n",
              "    <path d=\"M0 0h24v24H0V0z\" fill=\"none\"/>\n",
              "    <path d=\"M18.56 5.44l.94 2.06.94-2.06 2.06-.94-2.06-.94-.94-2.06-.94 2.06-2.06.94zm-11 1L8.5 8.5l.94-2.06 2.06-.94-2.06-.94L8.5 2.5l-.94 2.06-2.06.94zm10 10l.94 2.06.94-2.06 2.06-.94-2.06-.94-.94-2.06-.94 2.06-2.06.94z\"/><path d=\"M17.41 7.96l-1.37-1.37c-.4-.4-.92-.59-1.43-.59-.52 0-1.04.2-1.43.59L10.3 9.45l-7.72 7.72c-.78.78-.78 2.05 0 2.83L4 21.41c.39.39.9.59 1.41.59.51 0 1.02-.2 1.41-.59l7.78-7.78 2.81-2.81c.8-.78.8-2.07 0-2.86zM5.41 20L4 18.59l7.72-7.72 1.47 1.35L5.41 20z\"/>\n",
              "  </svg>\n",
              "      </button>\n",
              "      \n",
              "  <style>\n",
              "    .colab-df-container {\n",
              "      display:flex;\n",
              "      flex-wrap:wrap;\n",
              "      gap: 12px;\n",
              "    }\n",
              "\n",
              "    .colab-df-convert {\n",
              "      background-color: #E8F0FE;\n",
              "      border: none;\n",
              "      border-radius: 50%;\n",
              "      cursor: pointer;\n",
              "      display: none;\n",
              "      fill: #1967D2;\n",
              "      height: 32px;\n",
              "      padding: 0 0 0 0;\n",
              "      width: 32px;\n",
              "    }\n",
              "\n",
              "    .colab-df-convert:hover {\n",
              "      background-color: #E2EBFA;\n",
              "      box-shadow: 0px 1px 2px rgba(60, 64, 67, 0.3), 0px 1px 3px 1px rgba(60, 64, 67, 0.15);\n",
              "      fill: #174EA6;\n",
              "    }\n",
              "\n",
              "    [theme=dark] .colab-df-convert {\n",
              "      background-color: #3B4455;\n",
              "      fill: #D2E3FC;\n",
              "    }\n",
              "\n",
              "    [theme=dark] .colab-df-convert:hover {\n",
              "      background-color: #434B5C;\n",
              "      box-shadow: 0px 1px 3px 1px rgba(0, 0, 0, 0.15);\n",
              "      filter: drop-shadow(0px 1px 2px rgba(0, 0, 0, 0.3));\n",
              "      fill: #FFFFFF;\n",
              "    }\n",
              "  </style>\n",
              "\n",
              "      <script>\n",
              "        const buttonEl =\n",
              "          document.querySelector('#df-bdf88fae-8c2d-46db-85f0-670fb1eb6fec button.colab-df-convert');\n",
              "        buttonEl.style.display =\n",
              "          google.colab.kernel.accessAllowed ? 'block' : 'none';\n",
              "\n",
              "        async function convertToInteractive(key) {\n",
              "          const element = document.querySelector('#df-bdf88fae-8c2d-46db-85f0-670fb1eb6fec');\n",
              "          const dataTable =\n",
              "            await google.colab.kernel.invokeFunction('convertToInteractive',\n",
              "                                                     [key], {});\n",
              "          if (!dataTable) return;\n",
              "\n",
              "          const docLinkHtml = 'Like what you see? Visit the ' +\n",
              "            '<a target=\"_blank\" href=https://colab.research.google.com/notebooks/data_table.ipynb>data table notebook</a>'\n",
              "            + ' to learn more about interactive tables.';\n",
              "          element.innerHTML = '';\n",
              "          dataTable['output_type'] = 'display_data';\n",
              "          await google.colab.output.renderOutput(dataTable, element);\n",
              "          const docLink = document.createElement('div');\n",
              "          docLink.innerHTML = docLinkHtml;\n",
              "          element.appendChild(docLink);\n",
              "        }\n",
              "      </script>\n",
              "    </div>\n",
              "  </div>\n",
              "  "
            ],
            "text/plain": [
              "                   City State    Zip                            Bank  \\\n",
              "274390         COVENTRY    RI   2816        CITIZENS BANK NATL ASSOC   \n",
              "654005      LOS ANGELES    CA  90014  BANK OF AMERICA CALIFORNIA N.A   \n",
              "498404  NORTH HOLLYWOOD    CA  91605             MISSION VALLEY BANK   \n",
              "725094        WILLISTON    VT   5495    KEYBANK NATIONAL ASSOCIATION   \n",
              "665779           FRESNO    CA  93720         CALIFORNIA BANK & TRUST   \n",
              "\n",
              "       BankState   NAICS  NoEmp  NewExist  CreateJob  RetainedJob  \\\n",
              "274390        RI  235510      6       1.0          0            0   \n",
              "654005        CA       0      1       1.0          0            0   \n",
              "498404        CA  812320     10       1.0          3           10   \n",
              "725094        VT  441110     20       1.0          0            0   \n",
              "665779        CA       0      2       1.0          2            0   \n",
              "\n",
              "        FranchiseCode  UrbanRural RevLineCr LowDoc  DisbursementGross  \\\n",
              "274390              1           0         0      N            50000.0   \n",
              "654005              1           0         0      N            20000.0   \n",
              "498404              1           1         T      N           140275.0   \n",
              "725094              1           0         N      N           300000.0   \n",
              "665779              1           0         0      N            55000.0   \n",
              "\n",
              "        BalanceGross    GrAppv  SBA_Appv  MIS_Status  bank_customer_state  \n",
              "274390           0.0   50000.0   25000.0         0.0                    1  \n",
              "654005           0.0   20000.0   10000.0         0.0                    1  \n",
              "498404           0.0   75000.0   37500.0         0.0                    1  \n",
              "725094           0.0  300000.0  255000.0         0.0                    1  \n",
              "665779           0.0   55000.0   44000.0         0.0                    1  "
            ]
          },
          "execution_count": 53,
          "metadata": {},
          "output_type": "execute_result"
        }
      ],
      "source": [
        "data.head()"
      ],
      "id": "Dk9mGxSJWbFT"
    },
    {
      "cell_type": "code",
      "execution_count": null,
      "metadata": {
        "colab": {
          "base_uri": "https://localhost:8080/"
        },
        "id": "3HUMfNGcQYL_",
        "outputId": "af2f18f3-cd13-46e7-b0ca-869c063ad5ae"
      },
      "outputs": [
        {
          "name": "stdout",
          "output_type": "stream",
          "text": [
            "['SBA_Appv', 'DisbursementGross', 'City', 'Zip']\n"
          ]
        }
      ],
      "source": [
        "print(columns_to_drop)"
      ],
      "id": "3HUMfNGcQYL_"
    },
    {
      "cell_type": "code",
      "execution_count": null,
      "metadata": {
        "colab": {
          "base_uri": "https://localhost:8080/"
        },
        "id": "3UhciDWSV8uf",
        "outputId": "cc228974-d4ed-4a6a-ec6b-735f2552ecc7"
      },
      "outputs": [
        {
          "name": "stdout",
          "output_type": "stream",
          "text": [
            "success\n"
          ]
        }
      ],
      "source": [
        "m=lp.drop_colunms(variables=columns_to_drop)\n",
        "m.fit(data)\n",
        "data=m.transform(data)"
      ],
      "id": "3UhciDWSV8uf"
    },
    {
      "cell_type": "code",
      "execution_count": null,
      "metadata": {
        "colab": {
          "base_uri": "https://localhost:8080/",
          "height": 444
        },
        "id": "VHuScIm4LhTR",
        "outputId": "ab086f34-cc00-4228-ebf1-bc64540a5f10"
      },
      "outputs": [
        {
          "data": {
            "text/html": [
              "\n",
              "  <div id=\"df-abd6c995-d412-4c00-af62-e804fb372df8\">\n",
              "    <div class=\"colab-df-container\">\n",
              "      <div>\n",
              "<style scoped>\n",
              "    .dataframe tbody tr th:only-of-type {\n",
              "        vertical-align: middle;\n",
              "    }\n",
              "\n",
              "    .dataframe tbody tr th {\n",
              "        vertical-align: top;\n",
              "    }\n",
              "\n",
              "    .dataframe thead th {\n",
              "        text-align: right;\n",
              "    }\n",
              "</style>\n",
              "<table border=\"1\" class=\"dataframe\">\n",
              "  <thead>\n",
              "    <tr style=\"text-align: right;\">\n",
              "      <th></th>\n",
              "      <th>State</th>\n",
              "      <th>Bank</th>\n",
              "      <th>BankState</th>\n",
              "      <th>NAICS</th>\n",
              "      <th>NoEmp</th>\n",
              "      <th>NewExist</th>\n",
              "      <th>CreateJob</th>\n",
              "      <th>RetainedJob</th>\n",
              "      <th>FranchiseCode</th>\n",
              "      <th>UrbanRural</th>\n",
              "      <th>RevLineCr</th>\n",
              "      <th>LowDoc</th>\n",
              "      <th>BalanceGross</th>\n",
              "      <th>GrAppv</th>\n",
              "      <th>MIS_Status</th>\n",
              "      <th>bank_customer_state</th>\n",
              "    </tr>\n",
              "  </thead>\n",
              "  <tbody>\n",
              "    <tr>\n",
              "      <th>274390</th>\n",
              "      <td>RI</td>\n",
              "      <td>CITIZENS BANK NATL ASSOC</td>\n",
              "      <td>RI</td>\n",
              "      <td>235510</td>\n",
              "      <td>6</td>\n",
              "      <td>1.0</td>\n",
              "      <td>0</td>\n",
              "      <td>0</td>\n",
              "      <td>1</td>\n",
              "      <td>0</td>\n",
              "      <td>0</td>\n",
              "      <td>N</td>\n",
              "      <td>0.0</td>\n",
              "      <td>50000.0</td>\n",
              "      <td>0.0</td>\n",
              "      <td>1</td>\n",
              "    </tr>\n",
              "    <tr>\n",
              "      <th>654005</th>\n",
              "      <td>CA</td>\n",
              "      <td>BANK OF AMERICA CALIFORNIA N.A</td>\n",
              "      <td>CA</td>\n",
              "      <td>0</td>\n",
              "      <td>1</td>\n",
              "      <td>1.0</td>\n",
              "      <td>0</td>\n",
              "      <td>0</td>\n",
              "      <td>1</td>\n",
              "      <td>0</td>\n",
              "      <td>0</td>\n",
              "      <td>N</td>\n",
              "      <td>0.0</td>\n",
              "      <td>20000.0</td>\n",
              "      <td>0.0</td>\n",
              "      <td>1</td>\n",
              "    </tr>\n",
              "    <tr>\n",
              "      <th>498404</th>\n",
              "      <td>CA</td>\n",
              "      <td>MISSION VALLEY BANK</td>\n",
              "      <td>CA</td>\n",
              "      <td>812320</td>\n",
              "      <td>10</td>\n",
              "      <td>1.0</td>\n",
              "      <td>3</td>\n",
              "      <td>10</td>\n",
              "      <td>1</td>\n",
              "      <td>1</td>\n",
              "      <td>T</td>\n",
              "      <td>N</td>\n",
              "      <td>0.0</td>\n",
              "      <td>75000.0</td>\n",
              "      <td>0.0</td>\n",
              "      <td>1</td>\n",
              "    </tr>\n",
              "    <tr>\n",
              "      <th>725094</th>\n",
              "      <td>VT</td>\n",
              "      <td>KEYBANK NATIONAL ASSOCIATION</td>\n",
              "      <td>VT</td>\n",
              "      <td>441110</td>\n",
              "      <td>20</td>\n",
              "      <td>1.0</td>\n",
              "      <td>0</td>\n",
              "      <td>0</td>\n",
              "      <td>1</td>\n",
              "      <td>0</td>\n",
              "      <td>N</td>\n",
              "      <td>N</td>\n",
              "      <td>0.0</td>\n",
              "      <td>300000.0</td>\n",
              "      <td>0.0</td>\n",
              "      <td>1</td>\n",
              "    </tr>\n",
              "    <tr>\n",
              "      <th>665779</th>\n",
              "      <td>CA</td>\n",
              "      <td>CALIFORNIA BANK &amp; TRUST</td>\n",
              "      <td>CA</td>\n",
              "      <td>0</td>\n",
              "      <td>2</td>\n",
              "      <td>1.0</td>\n",
              "      <td>2</td>\n",
              "      <td>0</td>\n",
              "      <td>1</td>\n",
              "      <td>0</td>\n",
              "      <td>0</td>\n",
              "      <td>N</td>\n",
              "      <td>0.0</td>\n",
              "      <td>55000.0</td>\n",
              "      <td>0.0</td>\n",
              "      <td>1</td>\n",
              "    </tr>\n",
              "  </tbody>\n",
              "</table>\n",
              "</div>\n",
              "      <button class=\"colab-df-convert\" onclick=\"convertToInteractive('df-abd6c995-d412-4c00-af62-e804fb372df8')\"\n",
              "              title=\"Convert this dataframe to an interactive table.\"\n",
              "              style=\"display:none;\">\n",
              "        \n",
              "  <svg xmlns=\"http://www.w3.org/2000/svg\" height=\"24px\"viewBox=\"0 0 24 24\"\n",
              "       width=\"24px\">\n",
              "    <path d=\"M0 0h24v24H0V0z\" fill=\"none\"/>\n",
              "    <path d=\"M18.56 5.44l.94 2.06.94-2.06 2.06-.94-2.06-.94-.94-2.06-.94 2.06-2.06.94zm-11 1L8.5 8.5l.94-2.06 2.06-.94-2.06-.94L8.5 2.5l-.94 2.06-2.06.94zm10 10l.94 2.06.94-2.06 2.06-.94-2.06-.94-.94-2.06-.94 2.06-2.06.94z\"/><path d=\"M17.41 7.96l-1.37-1.37c-.4-.4-.92-.59-1.43-.59-.52 0-1.04.2-1.43.59L10.3 9.45l-7.72 7.72c-.78.78-.78 2.05 0 2.83L4 21.41c.39.39.9.59 1.41.59.51 0 1.02-.2 1.41-.59l7.78-7.78 2.81-2.81c.8-.78.8-2.07 0-2.86zM5.41 20L4 18.59l7.72-7.72 1.47 1.35L5.41 20z\"/>\n",
              "  </svg>\n",
              "      </button>\n",
              "      \n",
              "  <style>\n",
              "    .colab-df-container {\n",
              "      display:flex;\n",
              "      flex-wrap:wrap;\n",
              "      gap: 12px;\n",
              "    }\n",
              "\n",
              "    .colab-df-convert {\n",
              "      background-color: #E8F0FE;\n",
              "      border: none;\n",
              "      border-radius: 50%;\n",
              "      cursor: pointer;\n",
              "      display: none;\n",
              "      fill: #1967D2;\n",
              "      height: 32px;\n",
              "      padding: 0 0 0 0;\n",
              "      width: 32px;\n",
              "    }\n",
              "\n",
              "    .colab-df-convert:hover {\n",
              "      background-color: #E2EBFA;\n",
              "      box-shadow: 0px 1px 2px rgba(60, 64, 67, 0.3), 0px 1px 3px 1px rgba(60, 64, 67, 0.15);\n",
              "      fill: #174EA6;\n",
              "    }\n",
              "\n",
              "    [theme=dark] .colab-df-convert {\n",
              "      background-color: #3B4455;\n",
              "      fill: #D2E3FC;\n",
              "    }\n",
              "\n",
              "    [theme=dark] .colab-df-convert:hover {\n",
              "      background-color: #434B5C;\n",
              "      box-shadow: 0px 1px 3px 1px rgba(0, 0, 0, 0.15);\n",
              "      filter: drop-shadow(0px 1px 2px rgba(0, 0, 0, 0.3));\n",
              "      fill: #FFFFFF;\n",
              "    }\n",
              "  </style>\n",
              "\n",
              "      <script>\n",
              "        const buttonEl =\n",
              "          document.querySelector('#df-abd6c995-d412-4c00-af62-e804fb372df8 button.colab-df-convert');\n",
              "        buttonEl.style.display =\n",
              "          google.colab.kernel.accessAllowed ? 'block' : 'none';\n",
              "\n",
              "        async function convertToInteractive(key) {\n",
              "          const element = document.querySelector('#df-abd6c995-d412-4c00-af62-e804fb372df8');\n",
              "          const dataTable =\n",
              "            await google.colab.kernel.invokeFunction('convertToInteractive',\n",
              "                                                     [key], {});\n",
              "          if (!dataTable) return;\n",
              "\n",
              "          const docLinkHtml = 'Like what you see? Visit the ' +\n",
              "            '<a target=\"_blank\" href=https://colab.research.google.com/notebooks/data_table.ipynb>data table notebook</a>'\n",
              "            + ' to learn more about interactive tables.';\n",
              "          element.innerHTML = '';\n",
              "          dataTable['output_type'] = 'display_data';\n",
              "          await google.colab.output.renderOutput(dataTable, element);\n",
              "          const docLink = document.createElement('div');\n",
              "          docLink.innerHTML = docLinkHtml;\n",
              "          element.appendChild(docLink);\n",
              "        }\n",
              "      </script>\n",
              "    </div>\n",
              "  </div>\n",
              "  "
            ],
            "text/plain": [
              "       State                            Bank BankState   NAICS  NoEmp  \\\n",
              "274390    RI        CITIZENS BANK NATL ASSOC        RI  235510      6   \n",
              "654005    CA  BANK OF AMERICA CALIFORNIA N.A        CA       0      1   \n",
              "498404    CA             MISSION VALLEY BANK        CA  812320     10   \n",
              "725094    VT    KEYBANK NATIONAL ASSOCIATION        VT  441110     20   \n",
              "665779    CA         CALIFORNIA BANK & TRUST        CA       0      2   \n",
              "\n",
              "        NewExist  CreateJob  RetainedJob  FranchiseCode  UrbanRural RevLineCr  \\\n",
              "274390       1.0          0            0              1           0         0   \n",
              "654005       1.0          0            0              1           0         0   \n",
              "498404       1.0          3           10              1           1         T   \n",
              "725094       1.0          0            0              1           0         N   \n",
              "665779       1.0          2            0              1           0         0   \n",
              "\n",
              "       LowDoc  BalanceGross    GrAppv  MIS_Status  bank_customer_state  \n",
              "274390      N           0.0   50000.0         0.0                    1  \n",
              "654005      N           0.0   20000.0         0.0                    1  \n",
              "498404      N           0.0   75000.0         0.0                    1  \n",
              "725094      N           0.0  300000.0         0.0                    1  \n",
              "665779      N           0.0   55000.0         0.0                    1  "
            ]
          },
          "execution_count": 26,
          "metadata": {},
          "output_type": "execute_result"
        }
      ],
      "source": [
        "data.head()"
      ],
      "id": "VHuScIm4LhTR"
    },
    {
      "cell_type": "markdown",
      "metadata": {
        "id": "RKuvLmpDL0Iy"
      },
      "source": [
        "Now I will encode my categorical variables.\n",
        "For categorical columns having less than 10 categories i will do one hot encoding.\n",
        "For categorical columns having more than 10 categories i will do target encoding."
      ],
      "id": "RKuvLmpDL0Iy"
    },
    {
      "cell_type": "code",
      "execution_count": null,
      "metadata": {
        "id": "0twShnEPOhLZ"
      },
      "outputs": [],
      "source": [
        "train=data.drop(columns=['MIS_Status'],axis=1)\n",
        "y_train=data.MIS_Status"
      ],
      "id": "0twShnEPOhLZ"
    },
    {
      "cell_type": "code",
      "execution_count": null,
      "metadata": {
        "id": "mnOr9fVSbYl4"
      },
      "outputs": [],
      "source": [
        "categorical_encode_column=[col for col in data.drop(columns=['MIS_Status']).columns if data[col].nunique()<10 and data[col].dtype=='object']\n",
        "target_encode_column=[col for col in data.drop(columns=['MIS_Status']).columns if data[col].nunique()>=10 and data[col].dtype=='object']"
      ],
      "id": "mnOr9fVSbYl4"
    },
    {
      "cell_type": "code",
      "execution_count": null,
      "metadata": {
        "colab": {
          "base_uri": "https://localhost:8080/"
        },
        "id": "4SLqqnxWkjeY",
        "outputId": "dde8c39b-7a0f-4017-8893-3ca9a6c5b543"
      },
      "outputs": [
        {
          "name": "stdout",
          "output_type": "stream",
          "text": [
            "success\n"
          ]
        }
      ],
      "source": [
        "M=lp.onehot_train_encoder(path=p,enc=OneHotEncoder(handle_unknown='ignore',sparse=False),variables=categorical_encode_column)\n",
        "M.fit(train)\n",
        "train=M.transform(train)\n"
      ],
      "id": "4SLqqnxWkjeY"
    },
    {
      "cell_type": "code",
      "execution_count": null,
      "metadata": {
        "colab": {
          "base_uri": "https://localhost:8080/"
        },
        "id": "fgpLu0I_pa77",
        "outputId": "633e45f2-e78c-408f-ee56-280deb17dc49"
      },
      "outputs": [
        {
          "name": "stdout",
          "output_type": "stream",
          "text": [
            "success\n"
          ]
        }
      ],
      "source": [
        "M=lp.target_train_encoder(path=p,enc=TargetEncoder(handle_unknown='value'),variables=target_encode_column)\n",
        "M.fit(train,y_train)\n",
        "train=M.transform(train)"
      ],
      "id": "fgpLu0I_pa77"
    },
    {
      "cell_type": "code",
      "execution_count": null,
      "metadata": {
        "colab": {
          "base_uri": "https://localhost:8080/",
          "height": 270
        },
        "id": "wpYajmfwUddp",
        "outputId": "cd737b54-94e5-4e2a-cd0c-058b135b8c1e"
      },
      "outputs": [
        {
          "data": {
            "text/html": [
              "\n",
              "  <div id=\"df-bb99e307-a038-4faf-b865-bde568214bb8\">\n",
              "    <div class=\"colab-df-container\">\n",
              "      <div>\n",
              "<style scoped>\n",
              "    .dataframe tbody tr th:only-of-type {\n",
              "        vertical-align: middle;\n",
              "    }\n",
              "\n",
              "    .dataframe tbody tr th {\n",
              "        vertical-align: top;\n",
              "    }\n",
              "\n",
              "    .dataframe thead th {\n",
              "        text-align: right;\n",
              "    }\n",
              "</style>\n",
              "<table border=\"1\" class=\"dataframe\">\n",
              "  <thead>\n",
              "    <tr style=\"text-align: right;\">\n",
              "      <th></th>\n",
              "      <th>NAICS</th>\n",
              "      <th>NoEmp</th>\n",
              "      <th>NewExist</th>\n",
              "      <th>CreateJob</th>\n",
              "      <th>RetainedJob</th>\n",
              "      <th>FranchiseCode</th>\n",
              "      <th>UrbanRural</th>\n",
              "      <th>BalanceGross</th>\n",
              "      <th>GrAppv</th>\n",
              "      <th>bank_customer_state</th>\n",
              "      <th>LowDoc_0</th>\n",
              "      <th>LowDoc_A</th>\n",
              "      <th>LowDoc_C</th>\n",
              "      <th>LowDoc_Missing</th>\n",
              "      <th>LowDoc_N</th>\n",
              "      <th>LowDoc_R</th>\n",
              "      <th>LowDoc_S</th>\n",
              "      <th>LowDoc_Y</th>\n",
              "      <th>State_trg</th>\n",
              "      <th>Bank_trg</th>\n",
              "      <th>BankState_trg</th>\n",
              "      <th>RevLineCr_trg</th>\n",
              "    </tr>\n",
              "  </thead>\n",
              "  <tbody>\n",
              "    <tr>\n",
              "      <th>274390</th>\n",
              "      <td>235510</td>\n",
              "      <td>6</td>\n",
              "      <td>1.0</td>\n",
              "      <td>0</td>\n",
              "      <td>0</td>\n",
              "      <td>1</td>\n",
              "      <td>0</td>\n",
              "      <td>0.0</td>\n",
              "      <td>50000.0</td>\n",
              "      <td>1</td>\n",
              "      <td>0.0</td>\n",
              "      <td>0.0</td>\n",
              "      <td>0.0</td>\n",
              "      <td>0.0</td>\n",
              "      <td>1.0</td>\n",
              "      <td>0.0</td>\n",
              "      <td>0.0</td>\n",
              "      <td>0.0</td>\n",
              "      <td>0.115118</td>\n",
              "      <td>0.220605</td>\n",
              "      <td>0.201965</td>\n",
              "      <td>0.149681</td>\n",
              "    </tr>\n",
              "    <tr>\n",
              "      <th>654005</th>\n",
              "      <td>0</td>\n",
              "      <td>1</td>\n",
              "      <td>1.0</td>\n",
              "      <td>0</td>\n",
              "      <td>0</td>\n",
              "      <td>1</td>\n",
              "      <td>0</td>\n",
              "      <td>0.0</td>\n",
              "      <td>20000.0</td>\n",
              "      <td>1</td>\n",
              "      <td>0.0</td>\n",
              "      <td>0.0</td>\n",
              "      <td>0.0</td>\n",
              "      <td>0.0</td>\n",
              "      <td>1.0</td>\n",
              "      <td>0.0</td>\n",
              "      <td>0.0</td>\n",
              "      <td>0.0</td>\n",
              "      <td>0.185354</td>\n",
              "      <td>0.071820</td>\n",
              "      <td>0.220651</td>\n",
              "      <td>0.149681</td>\n",
              "    </tr>\n",
              "    <tr>\n",
              "      <th>498404</th>\n",
              "      <td>812320</td>\n",
              "      <td>10</td>\n",
              "      <td>1.0</td>\n",
              "      <td>3</td>\n",
              "      <td>10</td>\n",
              "      <td>1</td>\n",
              "      <td>1</td>\n",
              "      <td>0.0</td>\n",
              "      <td>75000.0</td>\n",
              "      <td>1</td>\n",
              "      <td>0.0</td>\n",
              "      <td>0.0</td>\n",
              "      <td>0.0</td>\n",
              "      <td>0.0</td>\n",
              "      <td>1.0</td>\n",
              "      <td>0.0</td>\n",
              "      <td>0.0</td>\n",
              "      <td>0.0</td>\n",
              "      <td>0.185354</td>\n",
              "      <td>0.055358</td>\n",
              "      <td>0.220651</td>\n",
              "      <td>0.428624</td>\n",
              "    </tr>\n",
              "    <tr>\n",
              "      <th>725094</th>\n",
              "      <td>441110</td>\n",
              "      <td>20</td>\n",
              "      <td>1.0</td>\n",
              "      <td>0</td>\n",
              "      <td>0</td>\n",
              "      <td>1</td>\n",
              "      <td>0</td>\n",
              "      <td>0.0</td>\n",
              "      <td>300000.0</td>\n",
              "      <td>1</td>\n",
              "      <td>0.0</td>\n",
              "      <td>0.0</td>\n",
              "      <td>0.0</td>\n",
              "      <td>0.0</td>\n",
              "      <td>1.0</td>\n",
              "      <td>0.0</td>\n",
              "      <td>0.0</td>\n",
              "      <td>0.0</td>\n",
              "      <td>0.078162</td>\n",
              "      <td>0.120415</td>\n",
              "      <td>0.059015</td>\n",
              "      <td>0.146405</td>\n",
              "    </tr>\n",
              "    <tr>\n",
              "      <th>665779</th>\n",
              "      <td>0</td>\n",
              "      <td>2</td>\n",
              "      <td>1.0</td>\n",
              "      <td>2</td>\n",
              "      <td>0</td>\n",
              "      <td>1</td>\n",
              "      <td>0</td>\n",
              "      <td>0.0</td>\n",
              "      <td>55000.0</td>\n",
              "      <td>1</td>\n",
              "      <td>0.0</td>\n",
              "      <td>0.0</td>\n",
              "      <td>0.0</td>\n",
              "      <td>0.0</td>\n",
              "      <td>1.0</td>\n",
              "      <td>0.0</td>\n",
              "      <td>0.0</td>\n",
              "      <td>0.0</td>\n",
              "      <td>0.185354</td>\n",
              "      <td>0.207698</td>\n",
              "      <td>0.220651</td>\n",
              "      <td>0.149681</td>\n",
              "    </tr>\n",
              "  </tbody>\n",
              "</table>\n",
              "</div>\n",
              "      <button class=\"colab-df-convert\" onclick=\"convertToInteractive('df-bb99e307-a038-4faf-b865-bde568214bb8')\"\n",
              "              title=\"Convert this dataframe to an interactive table.\"\n",
              "              style=\"display:none;\">\n",
              "        \n",
              "  <svg xmlns=\"http://www.w3.org/2000/svg\" height=\"24px\"viewBox=\"0 0 24 24\"\n",
              "       width=\"24px\">\n",
              "    <path d=\"M0 0h24v24H0V0z\" fill=\"none\"/>\n",
              "    <path d=\"M18.56 5.44l.94 2.06.94-2.06 2.06-.94-2.06-.94-.94-2.06-.94 2.06-2.06.94zm-11 1L8.5 8.5l.94-2.06 2.06-.94-2.06-.94L8.5 2.5l-.94 2.06-2.06.94zm10 10l.94 2.06.94-2.06 2.06-.94-2.06-.94-.94-2.06-.94 2.06-2.06.94z\"/><path d=\"M17.41 7.96l-1.37-1.37c-.4-.4-.92-.59-1.43-.59-.52 0-1.04.2-1.43.59L10.3 9.45l-7.72 7.72c-.78.78-.78 2.05 0 2.83L4 21.41c.39.39.9.59 1.41.59.51 0 1.02-.2 1.41-.59l7.78-7.78 2.81-2.81c.8-.78.8-2.07 0-2.86zM5.41 20L4 18.59l7.72-7.72 1.47 1.35L5.41 20z\"/>\n",
              "  </svg>\n",
              "      </button>\n",
              "      \n",
              "  <style>\n",
              "    .colab-df-container {\n",
              "      display:flex;\n",
              "      flex-wrap:wrap;\n",
              "      gap: 12px;\n",
              "    }\n",
              "\n",
              "    .colab-df-convert {\n",
              "      background-color: #E8F0FE;\n",
              "      border: none;\n",
              "      border-radius: 50%;\n",
              "      cursor: pointer;\n",
              "      display: none;\n",
              "      fill: #1967D2;\n",
              "      height: 32px;\n",
              "      padding: 0 0 0 0;\n",
              "      width: 32px;\n",
              "    }\n",
              "\n",
              "    .colab-df-convert:hover {\n",
              "      background-color: #E2EBFA;\n",
              "      box-shadow: 0px 1px 2px rgba(60, 64, 67, 0.3), 0px 1px 3px 1px rgba(60, 64, 67, 0.15);\n",
              "      fill: #174EA6;\n",
              "    }\n",
              "\n",
              "    [theme=dark] .colab-df-convert {\n",
              "      background-color: #3B4455;\n",
              "      fill: #D2E3FC;\n",
              "    }\n",
              "\n",
              "    [theme=dark] .colab-df-convert:hover {\n",
              "      background-color: #434B5C;\n",
              "      box-shadow: 0px 1px 3px 1px rgba(0, 0, 0, 0.15);\n",
              "      filter: drop-shadow(0px 1px 2px rgba(0, 0, 0, 0.3));\n",
              "      fill: #FFFFFF;\n",
              "    }\n",
              "  </style>\n",
              "\n",
              "      <script>\n",
              "        const buttonEl =\n",
              "          document.querySelector('#df-bb99e307-a038-4faf-b865-bde568214bb8 button.colab-df-convert');\n",
              "        buttonEl.style.display =\n",
              "          google.colab.kernel.accessAllowed ? 'block' : 'none';\n",
              "\n",
              "        async function convertToInteractive(key) {\n",
              "          const element = document.querySelector('#df-bb99e307-a038-4faf-b865-bde568214bb8');\n",
              "          const dataTable =\n",
              "            await google.colab.kernel.invokeFunction('convertToInteractive',\n",
              "                                                     [key], {});\n",
              "          if (!dataTable) return;\n",
              "\n",
              "          const docLinkHtml = 'Like what you see? Visit the ' +\n",
              "            '<a target=\"_blank\" href=https://colab.research.google.com/notebooks/data_table.ipynb>data table notebook</a>'\n",
              "            + ' to learn more about interactive tables.';\n",
              "          element.innerHTML = '';\n",
              "          dataTable['output_type'] = 'display_data';\n",
              "          await google.colab.output.renderOutput(dataTable, element);\n",
              "          const docLink = document.createElement('div');\n",
              "          docLink.innerHTML = docLinkHtml;\n",
              "          element.appendChild(docLink);\n",
              "        }\n",
              "      </script>\n",
              "    </div>\n",
              "  </div>\n",
              "  "
            ],
            "text/plain": [
              "         NAICS  NoEmp  NewExist  CreateJob  RetainedJob  FranchiseCode  \\\n",
              "274390  235510      6       1.0          0            0              1   \n",
              "654005       0      1       1.0          0            0              1   \n",
              "498404  812320     10       1.0          3           10              1   \n",
              "725094  441110     20       1.0          0            0              1   \n",
              "665779       0      2       1.0          2            0              1   \n",
              "\n",
              "        UrbanRural  BalanceGross    GrAppv  bank_customer_state  LowDoc_0  \\\n",
              "274390           0           0.0   50000.0                    1       0.0   \n",
              "654005           0           0.0   20000.0                    1       0.0   \n",
              "498404           1           0.0   75000.0                    1       0.0   \n",
              "725094           0           0.0  300000.0                    1       0.0   \n",
              "665779           0           0.0   55000.0                    1       0.0   \n",
              "\n",
              "        LowDoc_A  LowDoc_C  LowDoc_Missing  LowDoc_N  LowDoc_R  LowDoc_S  \\\n",
              "274390       0.0       0.0             0.0       1.0       0.0       0.0   \n",
              "654005       0.0       0.0             0.0       1.0       0.0       0.0   \n",
              "498404       0.0       0.0             0.0       1.0       0.0       0.0   \n",
              "725094       0.0       0.0             0.0       1.0       0.0       0.0   \n",
              "665779       0.0       0.0             0.0       1.0       0.0       0.0   \n",
              "\n",
              "        LowDoc_Y  State_trg  Bank_trg  BankState_trg  RevLineCr_trg  \n",
              "274390       0.0   0.115118  0.220605       0.201965       0.149681  \n",
              "654005       0.0   0.185354  0.071820       0.220651       0.149681  \n",
              "498404       0.0   0.185354  0.055358       0.220651       0.428624  \n",
              "725094       0.0   0.078162  0.120415       0.059015       0.146405  \n",
              "665779       0.0   0.185354  0.207698       0.220651       0.149681  "
            ]
          },
          "execution_count": 31,
          "metadata": {},
          "output_type": "execute_result"
        }
      ],
      "source": [
        "train.head()"
      ],
      "id": "wpYajmfwUddp"
    },
    {
      "cell_type": "code",
      "execution_count": null,
      "metadata": {
        "id": "1_fKxDw8UxvV"
      },
      "outputs": [],
      "source": [
        "scaling_columns=['NAICS'\t,'NoEmp',\t'NewExist','CreateJob','RetainedJob','FranchiseCode','UrbanRural','BalanceGross','GrAppv']"
      ],
      "id": "1_fKxDw8UxvV"
    },
    {
      "cell_type": "code",
      "execution_count": null,
      "metadata": {
        "colab": {
          "base_uri": "https://localhost:8080/"
        },
        "id": "qNlCgSeQW16j",
        "outputId": "4cf49ddf-554f-4c98-b3d8-8034d248220f"
      },
      "outputs": [
        {
          "name": "stdout",
          "output_type": "stream",
          "text": [
            "success\n"
          ]
        }
      ],
      "source": [
        "m=lp.scalar_train_encoder(path=p,scale=MinMaxScaler(),variables=scaling_columns)\n",
        "m.fit(train)\n",
        "train=m.transform(train)"
      ],
      "id": "qNlCgSeQW16j"
    },
    {
      "cell_type": "code",
      "execution_count": null,
      "metadata": {
        "colab": {
          "base_uri": "https://localhost:8080/",
          "height": 270
        },
        "id": "HcYQMp5ShEKY",
        "outputId": "858ad0cd-ac23-4977-e4e1-197e2cc68929"
      },
      "outputs": [
        {
          "data": {
            "text/html": [
              "\n",
              "  <div id=\"df-f1b15cbb-e5aa-4760-8f51-311fab8aba3d\">\n",
              "    <div class=\"colab-df-container\">\n",
              "      <div>\n",
              "<style scoped>\n",
              "    .dataframe tbody tr th:only-of-type {\n",
              "        vertical-align: middle;\n",
              "    }\n",
              "\n",
              "    .dataframe tbody tr th {\n",
              "        vertical-align: top;\n",
              "    }\n",
              "\n",
              "    .dataframe thead th {\n",
              "        text-align: right;\n",
              "    }\n",
              "</style>\n",
              "<table border=\"1\" class=\"dataframe\">\n",
              "  <thead>\n",
              "    <tr style=\"text-align: right;\">\n",
              "      <th></th>\n",
              "      <th>bank_customer_state</th>\n",
              "      <th>LowDoc_0</th>\n",
              "      <th>LowDoc_A</th>\n",
              "      <th>LowDoc_C</th>\n",
              "      <th>LowDoc_Missing</th>\n",
              "      <th>LowDoc_N</th>\n",
              "      <th>LowDoc_R</th>\n",
              "      <th>LowDoc_S</th>\n",
              "      <th>LowDoc_Y</th>\n",
              "      <th>State_trg</th>\n",
              "      <th>Bank_trg</th>\n",
              "      <th>BankState_trg</th>\n",
              "      <th>RevLineCr_trg</th>\n",
              "      <th>NAICS_scale</th>\n",
              "      <th>NoEmp_scale</th>\n",
              "      <th>NewExist_scale</th>\n",
              "      <th>CreateJob_scale</th>\n",
              "      <th>RetainedJob_scale</th>\n",
              "      <th>FranchiseCode_scale</th>\n",
              "      <th>UrbanRural_scale</th>\n",
              "      <th>BalanceGross_scale</th>\n",
              "      <th>GrAppv_scale</th>\n",
              "    </tr>\n",
              "  </thead>\n",
              "  <tbody>\n",
              "    <tr>\n",
              "      <th>274390</th>\n",
              "      <td>1</td>\n",
              "      <td>0.0</td>\n",
              "      <td>0.0</td>\n",
              "      <td>0.0</td>\n",
              "      <td>0.0</td>\n",
              "      <td>1.0</td>\n",
              "      <td>0.0</td>\n",
              "      <td>0.0</td>\n",
              "      <td>0.0</td>\n",
              "      <td>0.115118</td>\n",
              "      <td>0.220605</td>\n",
              "      <td>0.201965</td>\n",
              "      <td>0.149681</td>\n",
              "      <td>0.253750</td>\n",
              "      <td>0.0006</td>\n",
              "      <td>0.5</td>\n",
              "      <td>0.000000</td>\n",
              "      <td>0.000000</td>\n",
              "      <td>0.00001</td>\n",
              "      <td>0.0</td>\n",
              "      <td>0.0</td>\n",
              "      <td>0.008956</td>\n",
              "    </tr>\n",
              "    <tr>\n",
              "      <th>654005</th>\n",
              "      <td>1</td>\n",
              "      <td>0.0</td>\n",
              "      <td>0.0</td>\n",
              "      <td>0.0</td>\n",
              "      <td>0.0</td>\n",
              "      <td>1.0</td>\n",
              "      <td>0.0</td>\n",
              "      <td>0.0</td>\n",
              "      <td>0.0</td>\n",
              "      <td>0.185354</td>\n",
              "      <td>0.071820</td>\n",
              "      <td>0.220651</td>\n",
              "      <td>0.149681</td>\n",
              "      <td>0.000000</td>\n",
              "      <td>0.0001</td>\n",
              "      <td>0.5</td>\n",
              "      <td>0.000000</td>\n",
              "      <td>0.000000</td>\n",
              "      <td>0.00001</td>\n",
              "      <td>0.0</td>\n",
              "      <td>0.0</td>\n",
              "      <td>0.003473</td>\n",
              "    </tr>\n",
              "    <tr>\n",
              "      <th>498404</th>\n",
              "      <td>1</td>\n",
              "      <td>0.0</td>\n",
              "      <td>0.0</td>\n",
              "      <td>0.0</td>\n",
              "      <td>0.0</td>\n",
              "      <td>1.0</td>\n",
              "      <td>0.0</td>\n",
              "      <td>0.0</td>\n",
              "      <td>0.0</td>\n",
              "      <td>0.185354</td>\n",
              "      <td>0.055358</td>\n",
              "      <td>0.220651</td>\n",
              "      <td>0.428624</td>\n",
              "      <td>0.875232</td>\n",
              "      <td>0.0010</td>\n",
              "      <td>0.5</td>\n",
              "      <td>0.000341</td>\n",
              "      <td>0.001053</td>\n",
              "      <td>0.00001</td>\n",
              "      <td>0.5</td>\n",
              "      <td>0.0</td>\n",
              "      <td>0.013526</td>\n",
              "    </tr>\n",
              "    <tr>\n",
              "      <th>725094</th>\n",
              "      <td>1</td>\n",
              "      <td>0.0</td>\n",
              "      <td>0.0</td>\n",
              "      <td>0.0</td>\n",
              "      <td>0.0</td>\n",
              "      <td>1.0</td>\n",
              "      <td>0.0</td>\n",
              "      <td>0.0</td>\n",
              "      <td>0.0</td>\n",
              "      <td>0.078162</td>\n",
              "      <td>0.120415</td>\n",
              "      <td>0.059015</td>\n",
              "      <td>0.146405</td>\n",
              "      <td>0.475273</td>\n",
              "      <td>0.0020</td>\n",
              "      <td>0.5</td>\n",
              "      <td>0.000000</td>\n",
              "      <td>0.000000</td>\n",
              "      <td>0.00001</td>\n",
              "      <td>0.0</td>\n",
              "      <td>0.0</td>\n",
              "      <td>0.054652</td>\n",
              "    </tr>\n",
              "    <tr>\n",
              "      <th>665779</th>\n",
              "      <td>1</td>\n",
              "      <td>0.0</td>\n",
              "      <td>0.0</td>\n",
              "      <td>0.0</td>\n",
              "      <td>0.0</td>\n",
              "      <td>1.0</td>\n",
              "      <td>0.0</td>\n",
              "      <td>0.0</td>\n",
              "      <td>0.0</td>\n",
              "      <td>0.185354</td>\n",
              "      <td>0.207698</td>\n",
              "      <td>0.220651</td>\n",
              "      <td>0.149681</td>\n",
              "      <td>0.000000</td>\n",
              "      <td>0.0002</td>\n",
              "      <td>0.5</td>\n",
              "      <td>0.000227</td>\n",
              "      <td>0.000000</td>\n",
              "      <td>0.00001</td>\n",
              "      <td>0.0</td>\n",
              "      <td>0.0</td>\n",
              "      <td>0.009870</td>\n",
              "    </tr>\n",
              "  </tbody>\n",
              "</table>\n",
              "</div>\n",
              "      <button class=\"colab-df-convert\" onclick=\"convertToInteractive('df-f1b15cbb-e5aa-4760-8f51-311fab8aba3d')\"\n",
              "              title=\"Convert this dataframe to an interactive table.\"\n",
              "              style=\"display:none;\">\n",
              "        \n",
              "  <svg xmlns=\"http://www.w3.org/2000/svg\" height=\"24px\"viewBox=\"0 0 24 24\"\n",
              "       width=\"24px\">\n",
              "    <path d=\"M0 0h24v24H0V0z\" fill=\"none\"/>\n",
              "    <path d=\"M18.56 5.44l.94 2.06.94-2.06 2.06-.94-2.06-.94-.94-2.06-.94 2.06-2.06.94zm-11 1L8.5 8.5l.94-2.06 2.06-.94-2.06-.94L8.5 2.5l-.94 2.06-2.06.94zm10 10l.94 2.06.94-2.06 2.06-.94-2.06-.94-.94-2.06-.94 2.06-2.06.94z\"/><path d=\"M17.41 7.96l-1.37-1.37c-.4-.4-.92-.59-1.43-.59-.52 0-1.04.2-1.43.59L10.3 9.45l-7.72 7.72c-.78.78-.78 2.05 0 2.83L4 21.41c.39.39.9.59 1.41.59.51 0 1.02-.2 1.41-.59l7.78-7.78 2.81-2.81c.8-.78.8-2.07 0-2.86zM5.41 20L4 18.59l7.72-7.72 1.47 1.35L5.41 20z\"/>\n",
              "  </svg>\n",
              "      </button>\n",
              "      \n",
              "  <style>\n",
              "    .colab-df-container {\n",
              "      display:flex;\n",
              "      flex-wrap:wrap;\n",
              "      gap: 12px;\n",
              "    }\n",
              "\n",
              "    .colab-df-convert {\n",
              "      background-color: #E8F0FE;\n",
              "      border: none;\n",
              "      border-radius: 50%;\n",
              "      cursor: pointer;\n",
              "      display: none;\n",
              "      fill: #1967D2;\n",
              "      height: 32px;\n",
              "      padding: 0 0 0 0;\n",
              "      width: 32px;\n",
              "    }\n",
              "\n",
              "    .colab-df-convert:hover {\n",
              "      background-color: #E2EBFA;\n",
              "      box-shadow: 0px 1px 2px rgba(60, 64, 67, 0.3), 0px 1px 3px 1px rgba(60, 64, 67, 0.15);\n",
              "      fill: #174EA6;\n",
              "    }\n",
              "\n",
              "    [theme=dark] .colab-df-convert {\n",
              "      background-color: #3B4455;\n",
              "      fill: #D2E3FC;\n",
              "    }\n",
              "\n",
              "    [theme=dark] .colab-df-convert:hover {\n",
              "      background-color: #434B5C;\n",
              "      box-shadow: 0px 1px 3px 1px rgba(0, 0, 0, 0.15);\n",
              "      filter: drop-shadow(0px 1px 2px rgba(0, 0, 0, 0.3));\n",
              "      fill: #FFFFFF;\n",
              "    }\n",
              "  </style>\n",
              "\n",
              "      <script>\n",
              "        const buttonEl =\n",
              "          document.querySelector('#df-f1b15cbb-e5aa-4760-8f51-311fab8aba3d button.colab-df-convert');\n",
              "        buttonEl.style.display =\n",
              "          google.colab.kernel.accessAllowed ? 'block' : 'none';\n",
              "\n",
              "        async function convertToInteractive(key) {\n",
              "          const element = document.querySelector('#df-f1b15cbb-e5aa-4760-8f51-311fab8aba3d');\n",
              "          const dataTable =\n",
              "            await google.colab.kernel.invokeFunction('convertToInteractive',\n",
              "                                                     [key], {});\n",
              "          if (!dataTable) return;\n",
              "\n",
              "          const docLinkHtml = 'Like what you see? Visit the ' +\n",
              "            '<a target=\"_blank\" href=https://colab.research.google.com/notebooks/data_table.ipynb>data table notebook</a>'\n",
              "            + ' to learn more about interactive tables.';\n",
              "          element.innerHTML = '';\n",
              "          dataTable['output_type'] = 'display_data';\n",
              "          await google.colab.output.renderOutput(dataTable, element);\n",
              "          const docLink = document.createElement('div');\n",
              "          docLink.innerHTML = docLinkHtml;\n",
              "          element.appendChild(docLink);\n",
              "        }\n",
              "      </script>\n",
              "    </div>\n",
              "  </div>\n",
              "  "
            ],
            "text/plain": [
              "        bank_customer_state  LowDoc_0  LowDoc_A  LowDoc_C  LowDoc_Missing  \\\n",
              "274390                    1       0.0       0.0       0.0             0.0   \n",
              "654005                    1       0.0       0.0       0.0             0.0   \n",
              "498404                    1       0.0       0.0       0.0             0.0   \n",
              "725094                    1       0.0       0.0       0.0             0.0   \n",
              "665779                    1       0.0       0.0       0.0             0.0   \n",
              "\n",
              "        LowDoc_N  LowDoc_R  LowDoc_S  LowDoc_Y  State_trg  Bank_trg  \\\n",
              "274390       1.0       0.0       0.0       0.0   0.115118  0.220605   \n",
              "654005       1.0       0.0       0.0       0.0   0.185354  0.071820   \n",
              "498404       1.0       0.0       0.0       0.0   0.185354  0.055358   \n",
              "725094       1.0       0.0       0.0       0.0   0.078162  0.120415   \n",
              "665779       1.0       0.0       0.0       0.0   0.185354  0.207698   \n",
              "\n",
              "        BankState_trg  RevLineCr_trg  NAICS_scale  NoEmp_scale  \\\n",
              "274390       0.201965       0.149681     0.253750       0.0006   \n",
              "654005       0.220651       0.149681     0.000000       0.0001   \n",
              "498404       0.220651       0.428624     0.875232       0.0010   \n",
              "725094       0.059015       0.146405     0.475273       0.0020   \n",
              "665779       0.220651       0.149681     0.000000       0.0002   \n",
              "\n",
              "        NewExist_scale  CreateJob_scale  RetainedJob_scale  \\\n",
              "274390             0.5         0.000000           0.000000   \n",
              "654005             0.5         0.000000           0.000000   \n",
              "498404             0.5         0.000341           0.001053   \n",
              "725094             0.5         0.000000           0.000000   \n",
              "665779             0.5         0.000227           0.000000   \n",
              "\n",
              "        FranchiseCode_scale  UrbanRural_scale  BalanceGross_scale  \\\n",
              "274390              0.00001               0.0                 0.0   \n",
              "654005              0.00001               0.0                 0.0   \n",
              "498404              0.00001               0.5                 0.0   \n",
              "725094              0.00001               0.0                 0.0   \n",
              "665779              0.00001               0.0                 0.0   \n",
              "\n",
              "        GrAppv_scale  \n",
              "274390      0.008956  \n",
              "654005      0.003473  \n",
              "498404      0.013526  \n",
              "725094      0.054652  \n",
              "665779      0.009870  "
            ]
          },
          "execution_count": 34,
          "metadata": {},
          "output_type": "execute_result"
        }
      ],
      "source": [
        "train.head()"
      ],
      "id": "HcYQMp5ShEKY"
    },
    {
      "cell_type": "code",
      "execution_count": null,
      "metadata": {
        "colab": {
          "base_uri": "https://localhost:8080/"
        },
        "id": "0rsDHgBUbN47",
        "outputId": "9f58483b-a7d8-465e-e5e3-c8c4535c1538"
      },
      "outputs": [
        {
          "data": {
            "text/plain": [
              "bank_customer_state    0\n",
              "LowDoc_0               0\n",
              "LowDoc_A               0\n",
              "LowDoc_C               0\n",
              "LowDoc_Missing         0\n",
              "LowDoc_N               0\n",
              "LowDoc_R               0\n",
              "LowDoc_S               0\n",
              "LowDoc_Y               0\n",
              "State_trg              0\n",
              "Bank_trg               0\n",
              "BankState_trg          0\n",
              "RevLineCr_trg          0\n",
              "NAICS_scale            0\n",
              "NoEmp_scale            0\n",
              "NewExist_scale         0\n",
              "CreateJob_scale        0\n",
              "RetainedJob_scale      0\n",
              "FranchiseCode_scale    0\n",
              "UrbanRural_scale       0\n",
              "BalanceGross_scale     0\n",
              "GrAppv_scale           0\n",
              "dtype: int64"
            ]
          },
          "execution_count": 35,
          "metadata": {},
          "output_type": "execute_result"
        }
      ],
      "source": [
        "train.isna().sum()"
      ],
      "id": "0rsDHgBUbN47"
    },
    {
      "cell_type": "markdown",
      "metadata": {
        "collapsed": false,
        "id": "nCcb7W8WLmQP"
      },
      "source": [
        "# Model Training"
      ],
      "id": "nCcb7W8WLmQP"
    },
    {
      "cell_type": "code",
      "execution_count": null,
      "metadata": {
        "id": "e_Gs6zPtLmQQ"
      },
      "outputs": [],
      "source": [
        "from sklearn.model_selection import RepeatedStratifiedKFold\n",
        "from sklearn.model_selection import cross_val_score\n",
        "from sklearn.svm import SVC\n",
        "from xgboost import XGBClassifier\n",
        "from sklearn.model_selection import RandomizedSearchCV\n",
        "from sklearn.ensemble import RandomForestClassifier"
      ],
      "id": "e_Gs6zPtLmQQ"
    },
    {
      "cell_type": "code",
      "execution_count": null,
      "metadata": {
        "colab": {
          "base_uri": "https://localhost:8080/"
        },
        "id": "Mx4CFPqQ367u",
        "outputId": "6d8a5b24-cd64-4e3c-ba05-d79b4f512ce2"
      },
      "outputs": [
        {
          "name": "stdout",
          "output_type": "stream",
          "text": [
            "success\n",
            "success\n",
            "success\n",
            "success\n",
            "success\n",
            "success\n",
            "success\n"
          ]
        }
      ],
      "source": [
        "data=pd.read_csv(confi.train_path)\n",
        "t=retrain.train_function()\n",
        "data=t.train_function(data)"
      ],
      "id": "Mx4CFPqQ367u"
    },
    {
      "cell_type": "code",
      "execution_count": null,
      "metadata": {
        "id": "iTFhHefE4Y1r"
      },
      "outputs": [],
      "source": [
        "train=data.drop(columns=['MIS_Status'])\n",
        "y_train=data.MIS_Status"
      ],
      "id": "iTFhHefE4Y1r"
    },
    {
      "cell_type": "code",
      "execution_count": null,
      "metadata": {
        "colab": {
          "base_uri": "https://localhost:8080/"
        },
        "id": "7a8nbjEmLmQQ",
        "outputId": "74d2678b-aa25-449b-bfea-84ee28b86c3c"
      },
      "outputs": [
        {
          "name": "stdout",
          "output_type": "stream",
          "text": [
            "[0.43017081 0.42991763 0.43462379 0.43110544 0.43189142 0.42636999]\n"
          ]
        }
      ],
      "source": [
        "xg=XGBClassifier()\n",
        "cv = RepeatedStratifiedKFold(n_splits=3, n_repeats=2, random_state=1)\n",
        "scores = cross_val_score(xg, train, y_train, scoring='f1', cv=cv, n_jobs=3)\n",
        "print(scores)"
      ],
      "id": "7a8nbjEmLmQQ"
    },
    {
      "cell_type": "code",
      "execution_count": null,
      "metadata": {
        "colab": {
          "base_uri": "https://localhost:8080/"
        },
        "id": "yMY4JfjJYZax",
        "outputId": "2f6fdaab-5af6-42b9-e090-f500904df546"
      },
      "outputs": [
        {
          "name": "stdout",
          "output_type": "stream",
          "text": [
            "[0.42749772 0.42554513 0.42437822 0.42916495 0.42785932 0.42851262]\n"
          ]
        }
      ],
      "source": [
        "rf=RandomForestClassifier()\n",
        "cv = RepeatedStratifiedKFold(n_splits=3, n_repeats=2, random_state=1)\n",
        "scores = cross_val_score(rf, train, y_train, scoring='f1', cv=cv, n_jobs=3)\n",
        "print(scores)"
      ],
      "id": "yMY4JfjJYZax"
    },
    {
      "cell_type": "markdown",
      "metadata": {
        "id": "PBcVbPMKntgV"
      },
      "source": [
        "# Model Tunning"
      ],
      "id": "PBcVbPMKntgV"
    },
    {
      "cell_type": "code",
      "execution_count": null,
      "metadata": {
        "colab": {
          "base_uri": "https://localhost:8080/",
          "height": 137
        },
        "id": "4sCSuwcLLmQS",
        "outputId": "1cb6c951-614c-4144-b2f9-2a3b1ec79e7f"
      },
      "outputs": [
        {
          "name": "stdout",
          "output_type": "stream",
          "text": [
            "Fitting 3 folds for each of 10 candidates, totalling 30 fits\n"
          ]
        },
        {
          "data": {
            "text/html": [
              "<style>#sk-container-id-3 {color: black;background-color: white;}#sk-container-id-3 pre{padding: 0;}#sk-container-id-3 div.sk-toggleable {background-color: white;}#sk-container-id-3 label.sk-toggleable__label {cursor: pointer;display: block;width: 100%;margin-bottom: 0;padding: 0.3em;box-sizing: border-box;text-align: center;}#sk-container-id-3 label.sk-toggleable__label-arrow:before {content: \"▸\";float: left;margin-right: 0.25em;color: #696969;}#sk-container-id-3 label.sk-toggleable__label-arrow:hover:before {color: black;}#sk-container-id-3 div.sk-estimator:hover label.sk-toggleable__label-arrow:before {color: black;}#sk-container-id-3 div.sk-toggleable__content {max-height: 0;max-width: 0;overflow: hidden;text-align: left;background-color: #f0f8ff;}#sk-container-id-3 div.sk-toggleable__content pre {margin: 0.2em;color: black;border-radius: 0.25em;background-color: #f0f8ff;}#sk-container-id-3 input.sk-toggleable__control:checked~div.sk-toggleable__content {max-height: 200px;max-width: 100%;overflow: auto;}#sk-container-id-3 input.sk-toggleable__control:checked~label.sk-toggleable__label-arrow:before {content: \"▾\";}#sk-container-id-3 div.sk-estimator input.sk-toggleable__control:checked~label.sk-toggleable__label {background-color: #d4ebff;}#sk-container-id-3 div.sk-label input.sk-toggleable__control:checked~label.sk-toggleable__label {background-color: #d4ebff;}#sk-container-id-3 input.sk-hidden--visually {border: 0;clip: rect(1px 1px 1px 1px);clip: rect(1px, 1px, 1px, 1px);height: 1px;margin: -1px;overflow: hidden;padding: 0;position: absolute;width: 1px;}#sk-container-id-3 div.sk-estimator {font-family: monospace;background-color: #f0f8ff;border: 1px dotted black;border-radius: 0.25em;box-sizing: border-box;margin-bottom: 0.5em;}#sk-container-id-3 div.sk-estimator:hover {background-color: #d4ebff;}#sk-container-id-3 div.sk-parallel-item::after {content: \"\";width: 100%;border-bottom: 1px solid gray;flex-grow: 1;}#sk-container-id-3 div.sk-label:hover label.sk-toggleable__label {background-color: #d4ebff;}#sk-container-id-3 div.sk-serial::before {content: \"\";position: absolute;border-left: 1px solid gray;box-sizing: border-box;top: 0;bottom: 0;left: 50%;z-index: 0;}#sk-container-id-3 div.sk-serial {display: flex;flex-direction: column;align-items: center;background-color: white;padding-right: 0.2em;padding-left: 0.2em;position: relative;}#sk-container-id-3 div.sk-item {position: relative;z-index: 1;}#sk-container-id-3 div.sk-parallel {display: flex;align-items: stretch;justify-content: center;background-color: white;position: relative;}#sk-container-id-3 div.sk-item::before, #sk-container-id-3 div.sk-parallel-item::before {content: \"\";position: absolute;border-left: 1px solid gray;box-sizing: border-box;top: 0;bottom: 0;left: 50%;z-index: -1;}#sk-container-id-3 div.sk-parallel-item {display: flex;flex-direction: column;z-index: 1;position: relative;background-color: white;}#sk-container-id-3 div.sk-parallel-item:first-child::after {align-self: flex-end;width: 50%;}#sk-container-id-3 div.sk-parallel-item:last-child::after {align-self: flex-start;width: 50%;}#sk-container-id-3 div.sk-parallel-item:only-child::after {width: 0;}#sk-container-id-3 div.sk-dashed-wrapped {border: 1px dashed gray;margin: 0 0.4em 0.5em 0.4em;box-sizing: border-box;padding-bottom: 0.4em;background-color: white;}#sk-container-id-3 div.sk-label label {font-family: monospace;font-weight: bold;display: inline-block;line-height: 1.2em;}#sk-container-id-3 div.sk-label-container {text-align: center;}#sk-container-id-3 div.sk-container {/* jupyter's `normalize.less` sets `[hidden] { display: none; }` but bootstrap.min.css set `[hidden] { display: none !important; }` so we also need the `!important` here to be able to override the default hidden behavior on the sphinx rendered scikit-learn.org. See: https://github.com/scikit-learn/scikit-learn/issues/21755 */display: inline-block !important;position: relative;}#sk-container-id-3 div.sk-text-repr-fallback {display: none;}</style><div id=\"sk-container-id-3\" class=\"sk-top-container\"><div class=\"sk-text-repr-fallback\"><pre>RandomizedSearchCV(cv=3,\n",
              "                   estimator=XGBClassifier(base_score=None, booster=None,\n",
              "                                           callbacks=None,\n",
              "                                           colsample_bylevel=None,\n",
              "                                           colsample_bynode=None,\n",
              "                                           colsample_bytree=None,\n",
              "                                           early_stopping_rounds=None,\n",
              "                                           enable_categorical=False,\n",
              "                                           eval_metric=None, feature_types=None,\n",
              "                                           gamma=None, gpu_id=None,\n",
              "                                           grow_policy=None,\n",
              "                                           importance_type=None,\n",
              "                                           interaction_constraints=None,\n",
              "                                           learning_rate...\n",
              "                                           max_leaves=None,\n",
              "                                           min_child_weight=None, missing=nan,\n",
              "                                           monotone_constraints=None,\n",
              "                                           n_estimators=100, n_jobs=None,\n",
              "                                           num_parallel_tree=None,\n",
              "                                           predictor=None, random_state=None, ...),\n",
              "                   n_jobs=3,\n",
              "                   param_distributions={&#x27;eta&#x27;: [0.001, 0.01, 0.1, 0.5, 0.9],\n",
              "                                        &#x27;learning_rate&#x27;: [0.001, 0.01, 0.1, 0.5,\n",
              "                                                          0.9],\n",
              "                                        &#x27;n_estimators&#x27;: [100, 300, 500, 700,\n",
              "                                                         900],\n",
              "                                        &#x27;subsample&#x27;: [0.4, 0.6, 0.8, 1]},\n",
              "                   scoring=&#x27;f1&#x27;, verbose=5)</pre><b>In a Jupyter environment, please rerun this cell to show the HTML representation or trust the notebook. <br />On GitHub, the HTML representation is unable to render, please try loading this page with nbviewer.org.</b></div><div class=\"sk-container\" hidden><div class=\"sk-item sk-dashed-wrapped\"><div class=\"sk-label-container\"><div class=\"sk-label sk-toggleable\"><input class=\"sk-toggleable__control sk-hidden--visually\" id=\"sk-estimator-id-7\" type=\"checkbox\" ><label for=\"sk-estimator-id-7\" class=\"sk-toggleable__label sk-toggleable__label-arrow\">RandomizedSearchCV</label><div class=\"sk-toggleable__content\"><pre>RandomizedSearchCV(cv=3,\n",
              "                   estimator=XGBClassifier(base_score=None, booster=None,\n",
              "                                           callbacks=None,\n",
              "                                           colsample_bylevel=None,\n",
              "                                           colsample_bynode=None,\n",
              "                                           colsample_bytree=None,\n",
              "                                           early_stopping_rounds=None,\n",
              "                                           enable_categorical=False,\n",
              "                                           eval_metric=None, feature_types=None,\n",
              "                                           gamma=None, gpu_id=None,\n",
              "                                           grow_policy=None,\n",
              "                                           importance_type=None,\n",
              "                                           interaction_constraints=None,\n",
              "                                           learning_rate...\n",
              "                                           max_leaves=None,\n",
              "                                           min_child_weight=None, missing=nan,\n",
              "                                           monotone_constraints=None,\n",
              "                                           n_estimators=100, n_jobs=None,\n",
              "                                           num_parallel_tree=None,\n",
              "                                           predictor=None, random_state=None, ...),\n",
              "                   n_jobs=3,\n",
              "                   param_distributions={&#x27;eta&#x27;: [0.001, 0.01, 0.1, 0.5, 0.9],\n",
              "                                        &#x27;learning_rate&#x27;: [0.001, 0.01, 0.1, 0.5,\n",
              "                                                          0.9],\n",
              "                                        &#x27;n_estimators&#x27;: [100, 300, 500, 700,\n",
              "                                                         900],\n",
              "                                        &#x27;subsample&#x27;: [0.4, 0.6, 0.8, 1]},\n",
              "                   scoring=&#x27;f1&#x27;, verbose=5)</pre></div></div></div><div class=\"sk-parallel\"><div class=\"sk-parallel-item\"><div class=\"sk-item\"><div class=\"sk-label-container\"><div class=\"sk-label sk-toggleable\"><input class=\"sk-toggleable__control sk-hidden--visually\" id=\"sk-estimator-id-8\" type=\"checkbox\" ><label for=\"sk-estimator-id-8\" class=\"sk-toggleable__label sk-toggleable__label-arrow\">estimator: XGBClassifier</label><div class=\"sk-toggleable__content\"><pre>XGBClassifier(base_score=None, booster=None, callbacks=None,\n",
              "              colsample_bylevel=None, colsample_bynode=None,\n",
              "              colsample_bytree=None, early_stopping_rounds=None,\n",
              "              enable_categorical=False, eval_metric=None, feature_types=None,\n",
              "              gamma=None, gpu_id=None, grow_policy=None, importance_type=None,\n",
              "              interaction_constraints=None, learning_rate=None, max_bin=None,\n",
              "              max_cat_threshold=None, max_cat_to_onehot=None,\n",
              "              max_delta_step=None, max_depth=None, max_leaves=None,\n",
              "              min_child_weight=None, missing=nan, monotone_constraints=None,\n",
              "              n_estimators=100, n_jobs=None, num_parallel_tree=None,\n",
              "              predictor=None, random_state=None, ...)</pre></div></div></div><div class=\"sk-serial\"><div class=\"sk-item\"><div class=\"sk-estimator sk-toggleable\"><input class=\"sk-toggleable__control sk-hidden--visually\" id=\"sk-estimator-id-9\" type=\"checkbox\" ><label for=\"sk-estimator-id-9\" class=\"sk-toggleable__label sk-toggleable__label-arrow\">XGBClassifier</label><div class=\"sk-toggleable__content\"><pre>XGBClassifier(base_score=None, booster=None, callbacks=None,\n",
              "              colsample_bylevel=None, colsample_bynode=None,\n",
              "              colsample_bytree=None, early_stopping_rounds=None,\n",
              "              enable_categorical=False, eval_metric=None, feature_types=None,\n",
              "              gamma=None, gpu_id=None, grow_policy=None, importance_type=None,\n",
              "              interaction_constraints=None, learning_rate=None, max_bin=None,\n",
              "              max_cat_threshold=None, max_cat_to_onehot=None,\n",
              "              max_delta_step=None, max_depth=None, max_leaves=None,\n",
              "              min_child_weight=None, missing=nan, monotone_constraints=None,\n",
              "              n_estimators=100, n_jobs=None, num_parallel_tree=None,\n",
              "              predictor=None, random_state=None, ...)</pre></div></div></div></div></div></div></div></div></div></div>"
            ],
            "text/plain": [
              "RandomizedSearchCV(cv=3,\n",
              "                   estimator=XGBClassifier(base_score=None, booster=None,\n",
              "                                           callbacks=None,\n",
              "                                           colsample_bylevel=None,\n",
              "                                           colsample_bynode=None,\n",
              "                                           colsample_bytree=None,\n",
              "                                           early_stopping_rounds=None,\n",
              "                                           enable_categorical=False,\n",
              "                                           eval_metric=None, feature_types=None,\n",
              "                                           gamma=None, gpu_id=None,\n",
              "                                           grow_policy=None,\n",
              "                                           importance_type=None,\n",
              "                                           interaction_constraints=None,\n",
              "                                           learning_rate...\n",
              "                                           max_leaves=None,\n",
              "                                           min_child_weight=None, missing=nan,\n",
              "                                           monotone_constraints=None,\n",
              "                                           n_estimators=100, n_jobs=None,\n",
              "                                           num_parallel_tree=None,\n",
              "                                           predictor=None, random_state=None, ...),\n",
              "                   n_jobs=3,\n",
              "                   param_distributions={'eta': [0.001, 0.01, 0.1, 0.5, 0.9],\n",
              "                                        'learning_rate': [0.001, 0.01, 0.1, 0.5,\n",
              "                                                          0.9],\n",
              "                                        'n_estimators': [100, 300, 500, 700,\n",
              "                                                         900],\n",
              "                                        'subsample': [0.4, 0.6, 0.8, 1]},\n",
              "                   scoring='f1', verbose=5)"
            ]
          },
          "execution_count": 20,
          "metadata": {},
          "output_type": "execute_result"
        }
      ],
      "source": [
        "xg=XGBClassifier()\n",
        "parameter_grid={ 'eta':[.001,0.01,.1,.5,.9],'n_estimators':[100,300,500,700,900],'subsample':[.4,.6,.8,1],'learning_rate':[.001,.01,.1,.5,.9]}\n",
        "grid1=RandomizedSearchCV(xg,parameter_grid,cv=3,verbose=5,n_jobs=3,scoring='f1')\n",
        "grid1.fit(train,y_train)"
      ],
      "id": "4sCSuwcLLmQS"
    },
    {
      "cell_type": "code",
      "execution_count": null,
      "metadata": {
        "colab": {
          "base_uri": "https://localhost:8080/"
        },
        "id": "JBSZ7q5pnMtD",
        "outputId": "127e72d7-630f-46f9-e7b2-757a935204b0"
      },
      "outputs": [
        {
          "name": "stdout",
          "output_type": "stream",
          "text": [
            "0.4489688605000808\n",
            "XGBClassifier(base_score=None, booster=None, callbacks=None,\n",
            "              colsample_bylevel=None, colsample_bynode=None,\n",
            "              colsample_bytree=None, early_stopping_rounds=None,\n",
            "              enable_categorical=False, eta=0.1, eval_metric=None,\n",
            "              feature_types=None, gamma=None, gpu_id=None, grow_policy=None,\n",
            "              importance_type=None, interaction_constraints=None,\n",
            "              learning_rate=0.9, max_bin=None, max_cat_threshold=None,\n",
            "              max_cat_to_onehot=None, max_delta_step=None, max_depth=None,\n",
            "              max_leaves=None, min_child_weight=None, missing=nan,\n",
            "              monotone_constraints=None, n_estimators=900, n_jobs=None,\n",
            "              num_parallel_tree=None, predictor=None, ...)\n"
          ]
        }
      ],
      "source": [
        "print(grid1.best_score_)\n",
        "print(grid1.best_estimator_)"
      ],
      "id": "JBSZ7q5pnMtD"
    },
    {
      "cell_type": "code",
      "execution_count": null,
      "metadata": {
        "colab": {
          "base_uri": "https://localhost:8080/",
          "height": 137
        },
        "id": "zOsmXXQTpbd6",
        "outputId": "6a7aea90-9574-4a22-ee36-793cffd795a2"
      },
      "outputs": [
        {
          "name": "stdout",
          "output_type": "stream",
          "text": [
            "Fitting 2 folds for each of 10 candidates, totalling 20 fits\n"
          ]
        },
        {
          "data": {
            "text/html": [
              "<style>#sk-container-id-1 {color: black;background-color: white;}#sk-container-id-1 pre{padding: 0;}#sk-container-id-1 div.sk-toggleable {background-color: white;}#sk-container-id-1 label.sk-toggleable__label {cursor: pointer;display: block;width: 100%;margin-bottom: 0;padding: 0.3em;box-sizing: border-box;text-align: center;}#sk-container-id-1 label.sk-toggleable__label-arrow:before {content: \"▸\";float: left;margin-right: 0.25em;color: #696969;}#sk-container-id-1 label.sk-toggleable__label-arrow:hover:before {color: black;}#sk-container-id-1 div.sk-estimator:hover label.sk-toggleable__label-arrow:before {color: black;}#sk-container-id-1 div.sk-toggleable__content {max-height: 0;max-width: 0;overflow: hidden;text-align: left;background-color: #f0f8ff;}#sk-container-id-1 div.sk-toggleable__content pre {margin: 0.2em;color: black;border-radius: 0.25em;background-color: #f0f8ff;}#sk-container-id-1 input.sk-toggleable__control:checked~div.sk-toggleable__content {max-height: 200px;max-width: 100%;overflow: auto;}#sk-container-id-1 input.sk-toggleable__control:checked~label.sk-toggleable__label-arrow:before {content: \"▾\";}#sk-container-id-1 div.sk-estimator input.sk-toggleable__control:checked~label.sk-toggleable__label {background-color: #d4ebff;}#sk-container-id-1 div.sk-label input.sk-toggleable__control:checked~label.sk-toggleable__label {background-color: #d4ebff;}#sk-container-id-1 input.sk-hidden--visually {border: 0;clip: rect(1px 1px 1px 1px);clip: rect(1px, 1px, 1px, 1px);height: 1px;margin: -1px;overflow: hidden;padding: 0;position: absolute;width: 1px;}#sk-container-id-1 div.sk-estimator {font-family: monospace;background-color: #f0f8ff;border: 1px dotted black;border-radius: 0.25em;box-sizing: border-box;margin-bottom: 0.5em;}#sk-container-id-1 div.sk-estimator:hover {background-color: #d4ebff;}#sk-container-id-1 div.sk-parallel-item::after {content: \"\";width: 100%;border-bottom: 1px solid gray;flex-grow: 1;}#sk-container-id-1 div.sk-label:hover label.sk-toggleable__label {background-color: #d4ebff;}#sk-container-id-1 div.sk-serial::before {content: \"\";position: absolute;border-left: 1px solid gray;box-sizing: border-box;top: 0;bottom: 0;left: 50%;z-index: 0;}#sk-container-id-1 div.sk-serial {display: flex;flex-direction: column;align-items: center;background-color: white;padding-right: 0.2em;padding-left: 0.2em;position: relative;}#sk-container-id-1 div.sk-item {position: relative;z-index: 1;}#sk-container-id-1 div.sk-parallel {display: flex;align-items: stretch;justify-content: center;background-color: white;position: relative;}#sk-container-id-1 div.sk-item::before, #sk-container-id-1 div.sk-parallel-item::before {content: \"\";position: absolute;border-left: 1px solid gray;box-sizing: border-box;top: 0;bottom: 0;left: 50%;z-index: -1;}#sk-container-id-1 div.sk-parallel-item {display: flex;flex-direction: column;z-index: 1;position: relative;background-color: white;}#sk-container-id-1 div.sk-parallel-item:first-child::after {align-self: flex-end;width: 50%;}#sk-container-id-1 div.sk-parallel-item:last-child::after {align-self: flex-start;width: 50%;}#sk-container-id-1 div.sk-parallel-item:only-child::after {width: 0;}#sk-container-id-1 div.sk-dashed-wrapped {border: 1px dashed gray;margin: 0 0.4em 0.5em 0.4em;box-sizing: border-box;padding-bottom: 0.4em;background-color: white;}#sk-container-id-1 div.sk-label label {font-family: monospace;font-weight: bold;display: inline-block;line-height: 1.2em;}#sk-container-id-1 div.sk-label-container {text-align: center;}#sk-container-id-1 div.sk-container {/* jupyter's `normalize.less` sets `[hidden] { display: none; }` but bootstrap.min.css set `[hidden] { display: none !important; }` so we also need the `!important` here to be able to override the default hidden behavior on the sphinx rendered scikit-learn.org. See: https://github.com/scikit-learn/scikit-learn/issues/21755 */display: inline-block !important;position: relative;}#sk-container-id-1 div.sk-text-repr-fallback {display: none;}</style><div id=\"sk-container-id-1\" class=\"sk-top-container\"><div class=\"sk-text-repr-fallback\"><pre>RandomizedSearchCV(cv=2, estimator=RandomForestClassifier(n_jobs=3), n_jobs=3,\n",
              "                   param_distributions={&#x27;ccp_alpha&#x27;: [0, 0.4, 0.8, 1.2, 1.5],\n",
              "                                        &#x27;min_samples_split&#x27;: [2, 5, 10, 15, 20],\n",
              "                                        &#x27;n_estimators&#x27;: [100, 300, 500, 700,\n",
              "                                                         900]},\n",
              "                   scoring=&#x27;f1&#x27;, verbose=5)</pre><b>In a Jupyter environment, please rerun this cell to show the HTML representation or trust the notebook. <br />On GitHub, the HTML representation is unable to render, please try loading this page with nbviewer.org.</b></div><div class=\"sk-container\" hidden><div class=\"sk-item sk-dashed-wrapped\"><div class=\"sk-label-container\"><div class=\"sk-label sk-toggleable\"><input class=\"sk-toggleable__control sk-hidden--visually\" id=\"sk-estimator-id-1\" type=\"checkbox\" ><label for=\"sk-estimator-id-1\" class=\"sk-toggleable__label sk-toggleable__label-arrow\">RandomizedSearchCV</label><div class=\"sk-toggleable__content\"><pre>RandomizedSearchCV(cv=2, estimator=RandomForestClassifier(n_jobs=3), n_jobs=3,\n",
              "                   param_distributions={&#x27;ccp_alpha&#x27;: [0, 0.4, 0.8, 1.2, 1.5],\n",
              "                                        &#x27;min_samples_split&#x27;: [2, 5, 10, 15, 20],\n",
              "                                        &#x27;n_estimators&#x27;: [100, 300, 500, 700,\n",
              "                                                         900]},\n",
              "                   scoring=&#x27;f1&#x27;, verbose=5)</pre></div></div></div><div class=\"sk-parallel\"><div class=\"sk-parallel-item\"><div class=\"sk-item\"><div class=\"sk-label-container\"><div class=\"sk-label sk-toggleable\"><input class=\"sk-toggleable__control sk-hidden--visually\" id=\"sk-estimator-id-2\" type=\"checkbox\" ><label for=\"sk-estimator-id-2\" class=\"sk-toggleable__label sk-toggleable__label-arrow\">estimator: RandomForestClassifier</label><div class=\"sk-toggleable__content\"><pre>RandomForestClassifier(n_jobs=3)</pre></div></div></div><div class=\"sk-serial\"><div class=\"sk-item\"><div class=\"sk-estimator sk-toggleable\"><input class=\"sk-toggleable__control sk-hidden--visually\" id=\"sk-estimator-id-3\" type=\"checkbox\" ><label for=\"sk-estimator-id-3\" class=\"sk-toggleable__label sk-toggleable__label-arrow\">RandomForestClassifier</label><div class=\"sk-toggleable__content\"><pre>RandomForestClassifier(n_jobs=3)</pre></div></div></div></div></div></div></div></div></div></div>"
            ],
            "text/plain": [
              "RandomizedSearchCV(cv=2, estimator=RandomForestClassifier(n_jobs=3), n_jobs=3,\n",
              "                   param_distributions={'ccp_alpha': [0, 0.4, 0.8, 1.2, 1.5],\n",
              "                                        'min_samples_split': [2, 5, 10, 15, 20],\n",
              "                                        'n_estimators': [100, 300, 500, 700,\n",
              "                                                         900]},\n",
              "                   scoring='f1', verbose=5)"
            ]
          },
          "execution_count": 18,
          "metadata": {},
          "output_type": "execute_result"
        }
      ],
      "source": [
        "rf=RandomForestClassifier(n_jobs=3)\n",
        "parameter_grid={ 'ccp_alpha':[0,.4,.8,1.2,1.5],'n_estimators':[100,300,500,700,900],'min_samples_split':[2,5,10,15,20]}\n",
        "grid=RandomizedSearchCV(rf,parameter_grid,cv=2,verbose=5,n_jobs=3,scoring='f1')\n",
        "grid.fit(train,y_train)"
      ],
      "id": "zOsmXXQTpbd6"
    },
    {
      "cell_type": "code",
      "execution_count": null,
      "metadata": {
        "colab": {
          "base_uri": "https://localhost:8080/"
        },
        "id": "ib3s6gY0qaKX",
        "outputId": "051d6709-c349-4074-8eef-10e2c7b8051d"
      },
      "outputs": [
        {
          "name": "stdout",
          "output_type": "stream",
          "text": [
            "0.42601472155621334\n",
            "RandomForestClassifier(ccp_alpha=0, n_estimators=300, n_jobs=3)\n"
          ]
        }
      ],
      "source": [
        "print(grid.best_score_)\n",
        "print(grid.best_estimator_)"
      ],
      "id": "ib3s6gY0qaKX"
    },
    {
      "cell_type": "markdown",
      "metadata": {
        "id": "V8UjqF4jn6Ah"
      },
      "source": [
        "# Now i will apply stacking using two models with best estimators and will save that model for test data set "
      ],
      "id": "V8UjqF4jn6Ah"
    },
    {
      "cell_type": "code",
      "execution_count": null,
      "metadata": {
        "colab": {
          "background_save": true
        },
        "id": "6XLKe4K8nXs3"
      },
      "outputs": [],
      "source": [
        "from sklearn.linear_model import LogisticRegression\n",
        "from sklearn.ensemble import StackingClassifier\n",
        "level0=list()\n",
        "level0.append(('rf',RandomForestClassifier(ccp_alpha=0 ,n_estimators=300 , min_samples_split=2,n_jobs=3)))\n",
        "level0.append(('xg',XGBClassifier(eta=0.1,learning_rate=.9, n_estimators=900,n_jobs=3)))\n",
        "level1 = LogisticRegression()\n",
        "stacking_final = StackingClassifier(estimators=level0, final_estimator=level1, cv=5)\n",
        "stackingfinal=stacking_final.fit(train,y_train)"
      ],
      "id": "6XLKe4K8nXs3"
    },
    {
      "cell_type": "code",
      "execution_count": null,
      "metadata": {
        "colab": {
          "background_save": true
        },
        "id": "senhFMZhI22F"
      },
      "outputs": [],
      "source": [
        "# Save the object to a file using pickle.dump\n",
        "filename = '{}_model.pkl'.format(stackingfinal.__class__.__name__)\n",
        "with open(filename, 'wb') as f:\n",
        "    pickle.dump(stackingfinal, f)"
      ],
      "id": "senhFMZhI22F"
    },
    {
      "cell_type": "code",
      "source": [
        "f=open('/content/StackingClassifier_model.pkl','rb')"
      ],
      "metadata": {
        "id": "Ohmcp76AQ5Ty"
      },
      "id": "Ohmcp76AQ5Ty",
      "execution_count": null,
      "outputs": []
    },
    {
      "cell_type": "code",
      "source": [
        "filename = '/content/drive/MyDrive/Loanmodel_custom_modules/{}_model.pkl'.format(stackingfinal.__class__.__name__)\n",
        "with open(filename, 'wb') as f:\n",
        "    pickle.dump(stackingfinal, f)"
      ],
      "metadata": {
        "id": "dBHcMYaHRJeL"
      },
      "id": "dBHcMYaHRJeL",
      "execution_count": null,
      "outputs": []
    }
  ],
  "metadata": {
    "colab": {
      "machine_shape": "hm",
      "provenance": []
    },
    "gpuClass": "premium",
    "kernelspec": {
      "display_name": "Python 3 (ipykernel)",
      "language": "python",
      "name": "python3"
    },
    "language_info": {
      "codemirror_mode": {
        "name": "ipython",
        "version": 3
      },
      "file_extension": ".py",
      "mimetype": "text/x-python",
      "name": "python",
      "nbconvert_exporter": "python",
      "pygments_lexer": "ipython3",
      "version": "3.8.10"
    }
  },
  "nbformat": 4,
  "nbformat_minor": 5
}